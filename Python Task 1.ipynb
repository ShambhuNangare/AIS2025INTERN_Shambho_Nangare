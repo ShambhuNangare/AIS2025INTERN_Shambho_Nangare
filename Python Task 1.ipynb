{
 "cells": [
  {
   "cell_type": "markdown",
   "id": "51ec315d",
   "metadata": {},
   "source": [
    "# Numbers in python\n"
   ]
  },
  {
   "cell_type": "markdown",
   "id": "bf186624",
   "metadata": {},
   "source": [
    "Discuss the different types of nnumbers in python (Integer,Float,Complex,Numbers) and perform basic arithmatic operations."
   ]
  },
  {
   "cell_type": "code",
   "execution_count": 15,
   "id": "b330a7b2",
   "metadata": {},
   "outputs": [
    {
     "name": "stdout",
     "output_type": "stream",
     "text": [
      "addition : 34\n",
      "multiplication : 145\n",
      "dividation : 0.1724137931034483\n",
      "subtraction : -24\n"
     ]
    }
   ],
   "source": [
    "# Integer : Whole numbers without decimal\n",
    "a = 5\n",
    "b = 29\n",
    "print(\"addition :\",a+b)\n",
    "print(\"multiplication :\",a*b)\n",
    "print(\"dividation :\",a/b)\n",
    "print(\"subtraction :\",a-b)"
   ]
  },
  {
   "cell_type": "code",
   "execution_count": 17,
   "id": "0866614b",
   "metadata": {},
   "outputs": [
    {
     "name": "stdout",
     "output_type": "stream",
     "text": [
      "addition : 14.9\n",
      "multiplication : 51.7\n",
      "dividation : 1.7090909090909092\n",
      "subtraction : 3.9000000000000004\n"
     ]
    }
   ],
   "source": [
    "# Float : Number with decimal\n",
    "c = 9.4\n",
    "d = 5.5\n",
    "print(\"addition :\",c+d)\n",
    "print(\"multiplication :\",c*d)\n",
    "print(\"dividation :\",c/d)\n",
    "print(\"subtraction :\",c-d)"
   ]
  },
  {
   "cell_type": "code",
   "execution_count": 16,
   "id": "a139a716",
   "metadata": {},
   "outputs": [
    {
     "name": "stdout",
     "output_type": "stream",
     "text": [
      "addition : (5+8j)\n",
      "multiplication : (-11+17j)\n",
      "dividation : (0.4634146341463415+0.17073170731707324j)\n",
      "subtraction : (-3-2j)\n"
     ]
    }
   ],
   "source": [
    "# complex : Number with a real and imaginary part\n",
    "e = 1+3j\n",
    "f = 4+5j\n",
    "print(\"addition :\",e+f)\n",
    "print(\"multiplication :\",e*f)\n",
    "print(\"dividation :\",e/f)\n",
    "print(\"subtraction :\",e-f)"
   ]
  },
  {
   "cell_type": "markdown",
   "id": "76157213",
   "metadata": {},
   "source": [
    "# Operators in python"
   ]
  },
  {
   "cell_type": "markdown",
   "id": "016638bc",
   "metadata": {},
   "source": [
    "Discuss arithmetic, comparision, logical and assignment operators, and perform operation."
   ]
  },
  {
   "cell_type": "code",
   "execution_count": 18,
   "id": "c61c4c4b",
   "metadata": {},
   "outputs": [
    {
     "name": "stdout",
     "output_type": "stream",
     "text": [
      "addition:  14\n",
      "subtraction:  2\n",
      "multiplication:  48\n",
      "division:  1.3333333333333333\n"
     ]
    }
   ],
   "source": [
    "x,y = 8, 6\n",
    "# Arithmatic operators : Used for mathematical operations.\n",
    "print(\"addition: \", x+y)\n",
    "print(\"subtraction: \", x-y)\n",
    "print(\"multiplication: \", x*y)\n",
    "print(\"division: \",x/y)"
   ]
  },
  {
   "cell_type": "code",
   "execution_count": 19,
   "id": "4089da69",
   "metadata": {},
   "outputs": [
    {
     "name": "stdout",
     "output_type": "stream",
     "text": [
      "Equal to:  False\n",
      "Not equal to:  True\n",
      "Greater than:  True\n",
      "Less than:  False\n"
     ]
    }
   ],
   "source": [
    "# Comparison operators : Used for compare two values.\n",
    "print(\"Equal to: \", x==y)\n",
    "print(\"Not equal to: \",x != y)\n",
    "print(\"Greater than: \",x>y)\n",
    "print(\"Less than: \",x<y)"
   ]
  },
  {
   "cell_type": "code",
   "execution_count": 20,
   "id": "9ffbd64f",
   "metadata": {},
   "outputs": [
    {
     "name": "stdout",
     "output_type": "stream",
     "text": [
      "Logical and:  False\n",
      "Logical  or:  True\n"
     ]
    }
   ],
   "source": [
    "# Logical operators : Used for logical conditions.\n",
    "a, b = True, False\n",
    "print(\"Logical and: \",a and b)\n",
    "print(\"Logical  or: \",a or b)"
   ]
  },
  {
   "cell_type": "code",
   "execution_count": 21,
   "id": "00ebb1f7",
   "metadata": {},
   "outputs": [
    {
     "name": "stdout",
     "output_type": "stream",
     "text": [
      "Assignment (+=):  44\n"
     ]
    }
   ],
   "source": [
    "# Assignment operator : Used to assign value to variables.\n",
    "z = 39\n",
    "z+= 5 # Add 5 to the current values of z\n",
    "print(\"Assignment (+=): \",z)"
   ]
  },
  {
   "cell_type": "markdown",
   "id": "8e779624",
   "metadata": {},
   "source": [
    "# Lists in python"
   ]
  },
  {
   "cell_type": "markdown",
   "id": "6684d50f",
   "metadata": {},
   "source": [
    "List is a mutable collection of elements"
   ]
  },
  {
   "cell_type": "markdown",
   "id": "817a18b6",
   "metadata": {},
   "source": [
    "Discuss and perform varios operations on lists."
   ]
  },
  {
   "cell_type": "code",
   "execution_count": 22,
   "id": "5c76eb0c",
   "metadata": {},
   "outputs": [
    {
     "name": "stdout",
     "output_type": "stream",
     "text": [
      "[1, 2, 3, 4, 5]\n"
     ]
    }
   ],
   "source": [
    "my_list = [1,2,3,4,5]\n",
    "print(my_list)"
   ]
  },
  {
   "cell_type": "code",
   "execution_count": 23,
   "id": "e241f2c1",
   "metadata": {},
   "outputs": [
    {
     "name": "stdout",
     "output_type": "stream",
     "text": [
      "First element:  1\n",
      "Slice[1:4]:  [2, 3, 4]\n"
     ]
    }
   ],
   "source": [
    "# Accessing elements usinf indexing and slicing\n",
    "print(\"First element: \",my_list[0]) # Access first element\n",
    "print(\"Slice[1:4]: \",my_list[1:4]) # Access subset of element"
   ]
  },
  {
   "cell_type": "code",
   "execution_count": 24,
   "id": "766d4bdf",
   "metadata": {},
   "outputs": [
    {
     "name": "stdout",
     "output_type": "stream",
     "text": [
      "modified list:  [10, 2, 3, 4, 5]\n"
     ]
    }
   ],
   "source": [
    "# Modifying element by index\n",
    "my_list[0] =10 # Replace the first element with 10\n",
    "print(\"modified list: \", my_list)"
   ]
  },
  {
   "cell_type": "code",
   "execution_count": 25,
   "id": "8265cd16",
   "metadata": {},
   "outputs": [
    {
     "name": "stdout",
     "output_type": "stream",
     "text": [
      "list after addding elements:  [10, 7, 2, 3, 4, 5, 6]\n"
     ]
    }
   ],
   "source": [
    "# Adding element using append() and insert()\n",
    "my_list.append(6) # Add 6 to the end of the list\n",
    "my_list.insert(1,7) # Insert 7 at index 1\n",
    "print(\"list after addding elements: \",my_list)"
   ]
  },
  {
   "cell_type": "code",
   "execution_count": 43,
   "id": "fda0d50f",
   "metadata": {},
   "outputs": [
    {
     "name": "stdout",
     "output_type": "stream",
     "text": [
      "List after removing element:  [10, 3, 2]\n",
      "Popped element:  7\n"
     ]
    }
   ],
   "source": [
    "# Removing element using remove() and pop()\n",
    "my_list.remove(4) # Remove the first occurence of 4\n",
    "popped_element = my_list.pop() # Remove and return the last element\n",
    "print(\"List after removing element: \",my_list)\n",
    "print(\"Popped element: \",popped_element)"
   ]
  },
  {
   "cell_type": "code",
   "execution_count": 44,
   "id": "8b1cbd30",
   "metadata": {},
   "outputs": [
    {
     "name": "stdout",
     "output_type": "stream",
     "text": [
      "Popped element:  2\n"
     ]
    }
   ],
   "source": [
    "popped_element1 = my_list.pop()\n",
    "print(\"Popped element: \",popped_element1)"
   ]
  },
  {
   "cell_type": "code",
   "execution_count": 45,
   "id": "c04136d7",
   "metadata": {},
   "outputs": [
    {
     "name": "stdout",
     "output_type": "stream",
     "text": [
      "Sorted list:  [3, 10]\n"
     ]
    }
   ],
   "source": [
    "# Other list methods\n",
    "my_list.sort() # Sort the list in ascending order.\n",
    "print(\"Sorted list: \",my_list)"
   ]
  },
  {
   "cell_type": "code",
   "execution_count": 46,
   "id": "03a93261",
   "metadata": {},
   "outputs": [
    {
     "name": "stdout",
     "output_type": "stream",
     "text": [
      "Reversed list:  [10, 3]\n"
     ]
    }
   ],
   "source": [
    "my_list.reverse() # Reverse the order of elements in list.\n",
    "print(\"Reversed list: \",my_list)"
   ]
  },
  {
   "cell_type": "code",
   "execution_count": 47,
   "id": "f6f78129",
   "metadata": {},
   "outputs": [
    {
     "name": "stdout",
     "output_type": "stream",
     "text": [
      "Extended list:  [10, 3, 4, 7]\n"
     ]
    }
   ],
   "source": [
    "extended_list = [4,7]\n",
    "my_list.extend(extended_list) # Add all elements of extended_list to my_list\n",
    "print(\"Extended list: \",my_list)"
   ]
  },
  {
   "cell_type": "code",
   "execution_count": 48,
   "id": "0185c361",
   "metadata": {},
   "outputs": [
    {
     "name": "stdout",
     "output_type": "stream",
     "text": [
      "count of 10:  1\n",
      "index of 10:  0\n"
     ]
    }
   ],
   "source": [
    "print(\"count of 10: \",my_list.count(10)) # count occurence of 10\n",
    "print(\"index of 10: \",my_list.index(10)) # get index of 10"
   ]
  },
  {
   "cell_type": "code",
   "execution_count": 49,
   "id": "1d195948",
   "metadata": {},
   "outputs": [
    {
     "name": "stdout",
     "output_type": "stream",
     "text": [
      "Copied list:  [10, 3, 4, 7]\n"
     ]
    }
   ],
   "source": [
    "copied_list = my_list.copy() # Creat the copy of a list\n",
    "print(\"Copied list: \",copied_list)"
   ]
  },
  {
   "cell_type": "markdown",
   "id": "a3077ba6",
   "metadata": {},
   "source": [
    "# Tuples in python"
   ]
  },
  {
   "cell_type": "markdown",
   "id": "7e435c04",
   "metadata": {},
   "source": [
    "Tuple is an immutable collection of elements in python."
   ]
  },
  {
   "cell_type": "markdown",
   "id": "88386ab4",
   "metadata": {},
   "source": [
    "Perform tuple operations."
   ]
  },
  {
   "cell_type": "code",
   "execution_count": 34,
   "id": "5b9bee76",
   "metadata": {},
   "outputs": [
    {
     "name": "stdout",
     "output_type": "stream",
     "text": [
      "(1, 2, 3, 4, 5, 6, 7)\n"
     ]
    }
   ],
   "source": [
    "my_tuple = (1,2,3,4,5,6,7)\n",
    "print(my_tuple)"
   ]
  },
  {
   "cell_type": "code",
   "execution_count": 35,
   "id": "3bdd9707",
   "metadata": {},
   "outputs": [
    {
     "name": "stdout",
     "output_type": "stream",
     "text": [
      "Second element:  2\n",
      "Slice [2:5]:  (3, 4, 5)\n"
     ]
    }
   ],
   "source": [
    "# Accessing element\n",
    "print(\"Second element: \",my_tuple[1]) # Access second element\n",
    "print(\"Slice [2:5]: \",my_tuple[2:5]) # Access a portion of a tuple"
   ]
  },
  {
   "cell_type": "code",
   "execution_count": 36,
   "id": "fb876001",
   "metadata": {},
   "outputs": [
    {
     "name": "stdout",
     "output_type": "stream",
     "text": [
      "concatenated tuple:  (1, 2, 3, 4, 5, 6, 7, 8, 9)\n"
     ]
    }
   ],
   "source": [
    "# Concatention: Combine two tuple\n",
    "new_tuple = my_tuple + (8,9)\n",
    "print(\"concatenated tuple: \",new_tuple)"
   ]
  },
  {
   "cell_type": "code",
   "execution_count": 37,
   "id": "dd4309f8",
   "metadata": {},
   "outputs": [
    {
     "name": "stdout",
     "output_type": "stream",
     "text": [
      "Repeated tuple:  (1, 2, 3, 4, 5, 6, 7, 1, 2, 3, 4, 5, 6, 7)\n"
     ]
    }
   ],
   "source": [
    "# Repetation : Repeat the tuple\n",
    "repeated_tuple = my_tuple * 2\n",
    "print(\"Repeated tuple: \", repeated_tuple)"
   ]
  },
  {
   "cell_type": "code",
   "execution_count": 38,
   "id": "229bc503",
   "metadata": {},
   "outputs": [
    {
     "name": "stdout",
     "output_type": "stream",
     "text": [
      "Count of 7:  2\n",
      "Index of 7:  6\n"
     ]
    }
   ],
   "source": [
    "# count and index \n",
    "print(\"Count of 7: \",repeated_tuple.count(7)) # Count occurence of 7\n",
    "print(\"Index of 7: \",repeated_tuple.index(7)) # Get the index of 7"
   ]
  },
  {
   "cell_type": "markdown",
   "id": "db54a13e",
   "metadata": {},
   "source": [
    "# Sets in python"
   ]
  },
  {
   "cell_type": "markdown",
   "id": "fef3f0fb",
   "metadata": {},
   "source": [
    "Set is a collection of unique, unordered element in python."
   ]
  },
  {
   "cell_type": "markdown",
   "id": "d355073c",
   "metadata": {},
   "source": [
    "Discuss and perform set operations."
   ]
  },
  {
   "cell_type": "code",
   "execution_count": 39,
   "id": "59bd2215",
   "metadata": {},
   "outputs": [
    {
     "name": "stdout",
     "output_type": "stream",
     "text": [
      "{1, 2, 3, 4, 5}\n"
     ]
    }
   ],
   "source": [
    "my_set = {1,2,3,4,5}\n",
    "print(my_set)"
   ]
  },
  {
   "cell_type": "code",
   "execution_count": 40,
   "id": "92ed28bd",
   "metadata": {},
   "outputs": [
    {
     "name": "stdout",
     "output_type": "stream",
     "text": [
      "Set after adding and removing:  {1, 2, 3, 4, 6}\n"
     ]
    }
   ],
   "source": [
    "# Adding and removing elements\n",
    "my_set.add(6) # Add an element to the set\n",
    "my_set.remove(5) # Remove an element from the set\n",
    "print(\"Set after adding and removing: \",my_set)"
   ]
  },
  {
   "cell_type": "code",
   "execution_count": 42,
   "id": "440d1564",
   "metadata": {},
   "outputs": [
    {
     "name": "stdout",
     "output_type": "stream",
     "text": [
      "Union:  {1, 2, 3, 4, 5, 6, 9}\n",
      "Intersection:  {3}\n",
      "Difference:  {1, 2, 4, 6}\n"
     ]
    }
   ],
   "source": [
    "# Set operations : Union,Intersection and difference\n",
    "another_set = {5,3,9}\n",
    "print(\"Union: \",my_set.union(another_set)) # Combine both sets\n",
    "print(\"Intersection: \",my_set.intersection(another_set)) # Elements common to both sets\n",
    "print(\"Difference: \",my_set.difference(another_set)) # Element in my_set but not in another_set"
   ]
  },
  {
   "cell_type": "markdown",
   "id": "7b2aa022",
   "metadata": {},
   "source": [
    "# Dictionaries in python"
   ]
  },
  {
   "cell_type": "markdown",
   "id": "fe0a9335",
   "metadata": {},
   "source": [
    "Discuss and perform dictionary operations."
   ]
  },
  {
   "cell_type": "code",
   "execution_count": 50,
   "id": "2e5ded99",
   "metadata": {},
   "outputs": [
    {
     "name": "stdout",
     "output_type": "stream",
     "text": [
      "{'a': 2, 'b': 6, 'c': 4}\n"
     ]
    }
   ],
   "source": [
    "# Dictionaries in pyhton : A collection of key-value pairs\n",
    "my_dict = {\"a\":2, \"b\":6, \"c\":4}\n",
    "print(my_dict)"
   ]
  },
  {
   "cell_type": "code",
   "execution_count": 51,
   "id": "ecb2f313",
   "metadata": {},
   "outputs": [
    {
     "name": "stdout",
     "output_type": "stream",
     "text": [
      "value of key 'a':  2\n"
     ]
    }
   ],
   "source": [
    "# Accessing values by key\n",
    "print(\"value of key 'a': \",my_dict.get(\"a\")) # Use get() to access values"
   ]
  },
  {
   "cell_type": "code",
   "execution_count": 52,
   "id": "906a7723",
   "metadata": {},
   "outputs": [
    {
     "name": "stdout",
     "output_type": "stream",
     "text": [
      "Updated dictionary after adding and removing:  {'b': 6, 'c': 4, 'd': 8}\n",
      "Removed value:  2\n"
     ]
    }
   ],
   "source": [
    "# Adding and Removing values\n",
    "my_dict[\"d\"] = 8 # Add a new key_value pair\n",
    "removed_value = my_dict.pop(\"a\") # Remove a key and return its value\n",
    "print(\"Updated dictionary after adding and removing: \",my_dict)\n",
    "print(\"Removed value: \",removed_value)"
   ]
  },
  {
   "cell_type": "code",
   "execution_count": 54,
   "id": "0a56b074",
   "metadata": {},
   "outputs": [
    {
     "name": "stdout",
     "output_type": "stream",
     "text": [
      "All keys in the dictionary:  dict_keys(['b', 'c', 'd'])\n",
      "All values in the dictionary:  dict_values([6, 4, 8])\n",
      "All items (key-value pair):  dict_items([('b', 6), ('c', 4), ('d', 8)])\n"
     ]
    }
   ],
   "source": [
    "# Other dictionary methods\n",
    "print(\"All keys in the dictionary: \",my_dict.keys()) # Get all keys\n",
    "print(\"All values in the dictionary: \",my_dict.values()) # Get all values\n",
    "print(\"All items (key-value pair): \",my_dict.items()) # Get all key-value pair"
   ]
  },
  {
   "cell_type": "code",
   "execution_count": 55,
   "id": "8dea50fa",
   "metadata": {},
   "outputs": [
    {
     "name": "stdout",
     "output_type": "stream",
     "text": [
      "Updated dictionary:  {'b': 6, 'c': 5, 'd': 8}\n"
     ]
    }
   ],
   "source": [
    "# Updating the dictionary\n",
    "my_dict.update({\"c\":5}) # Add or update key-value pairs\n",
    "print(\"Updated dictionary: \",my_dict)"
   ]
  },
  {
   "cell_type": "markdown",
   "id": "90890d98",
   "metadata": {},
   "source": [
    "# Common python error"
   ]
  },
  {
   "cell_type": "markdown",
   "id": "8660aaf4",
   "metadata": {},
   "source": [
    "indentationError : caused by improper indentaion."
   ]
  },
  {
   "cell_type": "code",
   "execution_count": 56,
   "id": "db76be97",
   "metadata": {},
   "outputs": [
    {
     "ename": "IndentationError",
     "evalue": "expected an indented block after 'if' statement on line 1 (1747130515.py, line 2)",
     "output_type": "error",
     "traceback": [
      "\u001b[1;36m  Cell \u001b[1;32mIn[56], line 2\u001b[1;36m\u001b[0m\n\u001b[1;33m    print(\"IdentationError\")\u001b[0m\n\u001b[1;37m    ^\u001b[0m\n\u001b[1;31mIndentationError\u001b[0m\u001b[1;31m:\u001b[0m expected an indented block after 'if' statement on line 1\n"
     ]
    }
   ],
   "source": [
    "if True:\n",
    "print(\"IdentationError\")"
   ]
  },
  {
   "cell_type": "markdown",
   "id": "7178effe",
   "metadata": {},
   "source": [
    "Fix : use consistent space or tabs for indentations"
   ]
  },
  {
   "cell_type": "code",
   "execution_count": 58,
   "id": "fb2f689c",
   "metadata": {},
   "outputs": [
    {
     "name": "stdout",
     "output_type": "stream",
     "text": [
      "identationError fixed\n"
     ]
    }
   ],
   "source": [
    "# Corrected version\n",
    "if True:\n",
    "    print(\"identationError fixed\")"
   ]
  },
  {
   "cell_type": "markdown",
   "id": "2e9de922",
   "metadata": {},
   "source": [
    "NameError : Occure when a variable used before being defined."
   ]
  },
  {
   "cell_type": "code",
   "execution_count": 59,
   "id": "0cdc2e46",
   "metadata": {},
   "outputs": [
    {
     "ename": "NameError",
     "evalue": "name 'undeclared_variable' is not defined",
     "output_type": "error",
     "traceback": [
      "\u001b[1;31m---------------------------------------------------------------------------\u001b[0m",
      "\u001b[1;31mNameError\u001b[0m                                 Traceback (most recent call last)",
      "Cell \u001b[1;32mIn[59], line 1\u001b[0m\n\u001b[1;32m----> 1\u001b[0m \u001b[38;5;28mprint\u001b[39m(undeclared_variable)\n",
      "\u001b[1;31mNameError\u001b[0m: name 'undeclared_variable' is not defined"
     ]
    }
   ],
   "source": [
    "print(undeclared_variable)"
   ]
  },
  {
   "cell_type": "code",
   "execution_count": 60,
   "id": "77d77661",
   "metadata": {},
   "outputs": [
    {
     "name": "stdout",
     "output_type": "stream",
     "text": [
      "10\n"
     ]
    }
   ],
   "source": [
    "# Fixed\n",
    "declared_variable = 10\n",
    "print(declared_variable)"
   ]
  },
  {
   "cell_type": "markdown",
   "id": "096ef4d4",
   "metadata": {},
   "source": [
    "ValueError : Raised when function gets an argument of the right type but inappropriate value."
   ]
  },
  {
   "cell_type": "code",
   "execution_count": 61,
   "id": "933d1840",
   "metadata": {},
   "outputs": [
    {
     "ename": "ValueError",
     "evalue": "invalid literal for int() with base 10: 'abc'",
     "output_type": "error",
     "traceback": [
      "\u001b[1;31m---------------------------------------------------------------------------\u001b[0m",
      "\u001b[1;31mValueError\u001b[0m                                Traceback (most recent call last)",
      "Cell \u001b[1;32mIn[61], line 1\u001b[0m\n\u001b[1;32m----> 1\u001b[0m \u001b[38;5;28mint\u001b[39m(\u001b[38;5;124m\"\u001b[39m\u001b[38;5;124mabc\u001b[39m\u001b[38;5;124m\"\u001b[39m)\n",
      "\u001b[1;31mValueError\u001b[0m: invalid literal for int() with base 10: 'abc'"
     ]
    }
   ],
   "source": [
    "int(\"abc\")"
   ]
  },
  {
   "cell_type": "code",
   "execution_count": 63,
   "id": "e028cf30",
   "metadata": {},
   "outputs": [
    {
     "name": "stdout",
     "output_type": "stream",
     "text": [
      "123\n"
     ]
    }
   ],
   "source": [
    "# Corrected version\n",
    "try:\n",
    "    number = int(\"123\")\n",
    "    print(number)\n",
    "except valueError:\n",
    "    print(\"valueError encountered\")"
   ]
  },
  {
   "cell_type": "markdown",
   "id": "5f6b7841",
   "metadata": {},
   "source": [
    "TypeError : Occure when an operation is applied to an inappropriate type."
   ]
  },
  {
   "cell_type": "code",
   "execution_count": 64,
   "id": "deac537a",
   "metadata": {},
   "outputs": [
    {
     "ename": "TypeError",
     "evalue": "can only concatenate str (not \"int\") to str",
     "output_type": "error",
     "traceback": [
      "\u001b[1;31m---------------------------------------------------------------------------\u001b[0m",
      "\u001b[1;31mTypeError\u001b[0m                                 Traceback (most recent call last)",
      "Cell \u001b[1;32mIn[64], line 1\u001b[0m\n\u001b[1;32m----> 1\u001b[0m \u001b[38;5;28mprint\u001b[39m(\u001b[38;5;124m\"\u001b[39m\u001b[38;5;124mstring\u001b[39m\u001b[38;5;124m\"\u001b[39m\u001b[38;5;241m+\u001b[39m\u001b[38;5;241m6\u001b[39m)\n",
      "\u001b[1;31mTypeError\u001b[0m: can only concatenate str (not \"int\") to str"
     ]
    }
   ],
   "source": [
    "print(\"string\"+6)"
   ]
  },
  {
   "cell_type": "code",
   "execution_count": 65,
   "id": "d05e9cca",
   "metadata": {},
   "outputs": [
    {
     "name": "stdout",
     "output_type": "stream",
     "text": [
      "string6\n"
     ]
    }
   ],
   "source": [
    "# Corrected version\n",
    "print(\"string\" + str(6))"
   ]
  },
  {
   "cell_type": "markdown",
   "id": "de0ea396",
   "metadata": {},
   "source": [
    "IndexError : caused by accessing an out-of-range index"
   ]
  },
  {
   "cell_type": "code",
   "execution_count": 66,
   "id": "8b4eb70a",
   "metadata": {},
   "outputs": [
    {
     "ename": "IndexError",
     "evalue": "list index out of range",
     "output_type": "error",
     "traceback": [
      "\u001b[1;31m---------------------------------------------------------------------------\u001b[0m",
      "\u001b[1;31mIndexError\u001b[0m                                Traceback (most recent call last)",
      "Cell \u001b[1;32mIn[66], line 2\u001b[0m\n\u001b[0;32m      1\u001b[0m my_list \u001b[38;5;241m=\u001b[39m [\u001b[38;5;241m1\u001b[39m,\u001b[38;5;241m2\u001b[39m,\u001b[38;5;241m3\u001b[39m,\u001b[38;5;241m4\u001b[39m]\n\u001b[1;32m----> 2\u001b[0m \u001b[38;5;28mprint\u001b[39m(my_list[\u001b[38;5;241m7\u001b[39m])\n",
      "\u001b[1;31mIndexError\u001b[0m: list index out of range"
     ]
    }
   ],
   "source": [
    "my_list = [1,2,3,4]\n",
    "print(my_list[7])"
   ]
  },
  {
   "cell_type": "code",
   "execution_count": 67,
   "id": "22e54f0b",
   "metadata": {},
   "outputs": [
    {
     "name": "stdout",
     "output_type": "stream",
     "text": [
      "3\n"
     ]
    }
   ],
   "source": [
    "# Currected version\n",
    "print(my_list[2])"
   ]
  },
  {
   "cell_type": "markdown",
   "id": "1fd21542",
   "metadata": {},
   "source": [
    "KeyError : Raised when accessing non-existent key in dictionary."
   ]
  },
  {
   "cell_type": "code",
   "execution_count": 69,
   "id": "b487dfa1",
   "metadata": {},
   "outputs": [
    {
     "ename": "KeyError",
     "evalue": "'c'",
     "output_type": "error",
     "traceback": [
      "\u001b[1;31m---------------------------------------------------------------------------\u001b[0m",
      "\u001b[1;31mKeyError\u001b[0m                                  Traceback (most recent call last)",
      "Cell \u001b[1;32mIn[69], line 2\u001b[0m\n\u001b[0;32m      1\u001b[0m my_dict \u001b[38;5;241m=\u001b[39m {\u001b[38;5;124m\"\u001b[39m\u001b[38;5;124ma\u001b[39m\u001b[38;5;124m\"\u001b[39m:\u001b[38;5;124m\"\u001b[39m\u001b[38;5;124mbanana\u001b[39m\u001b[38;5;124m\"\u001b[39m,\u001b[38;5;124m\"\u001b[39m\u001b[38;5;124mb\u001b[39m\u001b[38;5;124m\"\u001b[39m:\u001b[38;5;124m\"\u001b[39m\u001b[38;5;124mapple\u001b[39m\u001b[38;5;124m\"\u001b[39m}\n\u001b[1;32m----> 2\u001b[0m \u001b[38;5;28mprint\u001b[39m(my_dict[\u001b[38;5;124m\"\u001b[39m\u001b[38;5;124mc\u001b[39m\u001b[38;5;124m\"\u001b[39m])\n",
      "\u001b[1;31mKeyError\u001b[0m: 'c'"
     ]
    }
   ],
   "source": [
    "my_dict = {\"a\":\"banana\",\"b\":\"apple\"}\n",
    "print(my_dict[\"c\"])"
   ]
  },
  {
   "cell_type": "code",
   "execution_count": 71,
   "id": "6e3206cc",
   "metadata": {},
   "outputs": [
    {
     "name": "stdout",
     "output_type": "stream",
     "text": [
      "banana\n"
     ]
    }
   ],
   "source": [
    "# Corrected version\n",
    "print(my_dict[\"a\"])"
   ]
  },
  {
   "cell_type": "code",
   "execution_count": null,
   "id": "ea451cb5",
   "metadata": {},
   "outputs": [],
   "source": []
  }
 ],
 "metadata": {
  "kernelspec": {
   "display_name": "Python 3 (ipykernel)",
   "language": "python",
   "name": "python3"
  },
  "language_info": {
   "codemirror_mode": {
    "name": "ipython",
    "version": 3
   },
   "file_extension": ".py",
   "mimetype": "text/x-python",
   "name": "python",
   "nbconvert_exporter": "python",
   "pygments_lexer": "ipython3",
   "version": "3.11.3"
  }
 },
 "nbformat": 4,
 "nbformat_minor": 5
}

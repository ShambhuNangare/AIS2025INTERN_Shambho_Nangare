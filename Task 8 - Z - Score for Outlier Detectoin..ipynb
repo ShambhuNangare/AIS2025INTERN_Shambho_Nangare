{
 "cells": [
  {
   "cell_type": "markdown",
   "id": "864f157d",
   "metadata": {},
   "source": [
    "# Z-Score for Outlier Detection in the Titanic Dataset"
   ]
  },
  {
   "cell_type": "markdown",
   "id": "8eccd7ac",
   "metadata": {},
   "source": [
    "The Z-score method detects outliers based in the number of standard deviations a data point is from the mean. If a value is more than 3 standard deviations away (i.e., |Z| > 3), it is consedered an ouliers."
   ]
  },
  {
   "cell_type": "markdown",
   "id": "852354ab",
   "metadata": {},
   "source": [
    "Step-by-Step Approch"
   ]
  },
  {
   "cell_type": "markdown",
   "id": "bbce1eba",
   "metadata": {},
   "source": [
    "1. Load the Titanic dataset.\n",
    "2. Select a numerical column (e.g., \"Fare\",\"Age).\n",
    "3. compute the Z-score for each value.\n",
    "4. Identify outliers where |Z| > 3."
   ]
  },
  {
   "cell_type": "code",
   "execution_count": 1,
   "id": "e3dc2f92",
   "metadata": {},
   "outputs": [],
   "source": [
    "import seaborn as sns\n",
    "import pandas as pd\n",
    "from scipy.stats import zscore"
   ]
  },
  {
   "cell_type": "code",
   "execution_count": 5,
   "id": "d5e4dfdb",
   "metadata": {},
   "outputs": [
    {
     "data": {
      "text/html": [
       "<div>\n",
       "<style scoped>\n",
       "    .dataframe tbody tr th:only-of-type {\n",
       "        vertical-align: middle;\n",
       "    }\n",
       "\n",
       "    .dataframe tbody tr th {\n",
       "        vertical-align: top;\n",
       "    }\n",
       "\n",
       "    .dataframe thead th {\n",
       "        text-align: right;\n",
       "    }\n",
       "</style>\n",
       "<table border=\"1\" class=\"dataframe\">\n",
       "  <thead>\n",
       "    <tr style=\"text-align: right;\">\n",
       "      <th></th>\n",
       "      <th>PassengerId</th>\n",
       "      <th>Survived</th>\n",
       "      <th>Pclass</th>\n",
       "      <th>Name</th>\n",
       "      <th>Sex</th>\n",
       "      <th>Age</th>\n",
       "      <th>SibSp</th>\n",
       "      <th>Parch</th>\n",
       "      <th>Ticket</th>\n",
       "      <th>Fare</th>\n",
       "      <th>Cabin</th>\n",
       "      <th>Embarked</th>\n",
       "    </tr>\n",
       "  </thead>\n",
       "  <tbody>\n",
       "    <tr>\n",
       "      <th>0</th>\n",
       "      <td>892</td>\n",
       "      <td>0</td>\n",
       "      <td>3</td>\n",
       "      <td>Kelly, Mr. James</td>\n",
       "      <td>male</td>\n",
       "      <td>34.5</td>\n",
       "      <td>0</td>\n",
       "      <td>0</td>\n",
       "      <td>330911</td>\n",
       "      <td>7.8292</td>\n",
       "      <td>NaN</td>\n",
       "      <td>Q</td>\n",
       "    </tr>\n",
       "    <tr>\n",
       "      <th>1</th>\n",
       "      <td>893</td>\n",
       "      <td>1</td>\n",
       "      <td>3</td>\n",
       "      <td>Wilkes, Mrs. James (Ellen Needs)</td>\n",
       "      <td>female</td>\n",
       "      <td>47.0</td>\n",
       "      <td>1</td>\n",
       "      <td>0</td>\n",
       "      <td>363272</td>\n",
       "      <td>7.0000</td>\n",
       "      <td>NaN</td>\n",
       "      <td>S</td>\n",
       "    </tr>\n",
       "    <tr>\n",
       "      <th>2</th>\n",
       "      <td>894</td>\n",
       "      <td>0</td>\n",
       "      <td>2</td>\n",
       "      <td>Myles, Mr. Thomas Francis</td>\n",
       "      <td>male</td>\n",
       "      <td>62.0</td>\n",
       "      <td>0</td>\n",
       "      <td>0</td>\n",
       "      <td>240276</td>\n",
       "      <td>9.6875</td>\n",
       "      <td>NaN</td>\n",
       "      <td>Q</td>\n",
       "    </tr>\n",
       "    <tr>\n",
       "      <th>3</th>\n",
       "      <td>895</td>\n",
       "      <td>0</td>\n",
       "      <td>3</td>\n",
       "      <td>Wirz, Mr. Albert</td>\n",
       "      <td>male</td>\n",
       "      <td>27.0</td>\n",
       "      <td>0</td>\n",
       "      <td>0</td>\n",
       "      <td>315154</td>\n",
       "      <td>8.6625</td>\n",
       "      <td>NaN</td>\n",
       "      <td>S</td>\n",
       "    </tr>\n",
       "    <tr>\n",
       "      <th>4</th>\n",
       "      <td>896</td>\n",
       "      <td>1</td>\n",
       "      <td>3</td>\n",
       "      <td>Hirvonen, Mrs. Alexander (Helga E Lindqvist)</td>\n",
       "      <td>female</td>\n",
       "      <td>22.0</td>\n",
       "      <td>1</td>\n",
       "      <td>1</td>\n",
       "      <td>3101298</td>\n",
       "      <td>12.2875</td>\n",
       "      <td>NaN</td>\n",
       "      <td>S</td>\n",
       "    </tr>\n",
       "  </tbody>\n",
       "</table>\n",
       "</div>"
      ],
      "text/plain": [
       "   PassengerId  Survived  Pclass  \\\n",
       "0          892         0       3   \n",
       "1          893         1       3   \n",
       "2          894         0       2   \n",
       "3          895         0       3   \n",
       "4          896         1       3   \n",
       "\n",
       "                                           Name     Sex   Age  SibSp  Parch  \\\n",
       "0                              Kelly, Mr. James    male  34.5      0      0   \n",
       "1              Wilkes, Mrs. James (Ellen Needs)  female  47.0      1      0   \n",
       "2                     Myles, Mr. Thomas Francis    male  62.0      0      0   \n",
       "3                              Wirz, Mr. Albert    male  27.0      0      0   \n",
       "4  Hirvonen, Mrs. Alexander (Helga E Lindqvist)  female  22.0      1      1   \n",
       "\n",
       "    Ticket     Fare Cabin Embarked  \n",
       "0   330911   7.8292   NaN        Q  \n",
       "1   363272   7.0000   NaN        S  \n",
       "2   240276   9.6875   NaN        Q  \n",
       "3   315154   8.6625   NaN        S  \n",
       "4  3101298  12.2875   NaN        S  "
      ]
     },
     "execution_count": 5,
     "metadata": {},
     "output_type": "execute_result"
    }
   ],
   "source": [
    "df = pd.read_csv(\"Titanic_dataset.csv\")\n",
    "df.head()"
   ]
  },
  {
   "cell_type": "code",
   "execution_count": 9,
   "id": "72ca0386",
   "metadata": {},
   "outputs": [],
   "source": [
    "# Select a numerical column (e.g., \"Ticket\")\n",
    "df = df[[\"Age\"]].dropna()  # Drop missing value"
   ]
  },
  {
   "cell_type": "code",
   "execution_count": 10,
   "id": "c0694450",
   "metadata": {},
   "outputs": [],
   "source": [
    "# Compute Z-score\n",
    "df['Age_zscore'] = zscore(df['Age'])"
   ]
  },
  {
   "cell_type": "code",
   "execution_count": 11,
   "id": "15cc6b65",
   "metadata": {},
   "outputs": [],
   "source": [
    "# Identify outliers (Z-score > 3 or < -3)\n",
    "outliers = df[df['Age_zscore'].abs() > 3]"
   ]
  },
  {
   "cell_type": "code",
   "execution_count": 13,
   "id": "5ba170aa",
   "metadata": {},
   "outputs": [
    {
     "name": "stdout",
     "output_type": "stream",
     "text": [
      "Number of outliers using Z-score: 1\n",
      "     Age  Age_zscore\n",
      "96  76.0    3.229374\n"
     ]
    }
   ],
   "source": [
    "# Print result\n",
    "print(f\"Number of outliers using Z-score: {len(outliers)}\")\n",
    "print(outliers)"
   ]
  },
  {
   "cell_type": "markdown",
   "id": "81042272",
   "metadata": {},
   "source": [
    "# Explanation"
   ]
  },
  {
   "cell_type": "markdown",
   "id": "dfca8abb",
   "metadata": {},
   "source": [
    "* Step 1 : Load the Totanic dataset.\n",
    "* Step 2 : Select the \"Age\" column, dropping any missing values.\n",
    "* Step 3 : Compute the Z-score using the formula.  \n",
    "    Z = x-u/sigma\n",
    "* X = Data point\n",
    "* u = mean of the column\n",
    "* sigma = standard deviation\n",
    "* Step 4 : Filter out values where |Z| > 3 (i.e., extreme values).\n",
    "* Step 5 : Print the number of outliers and their values."
   ]
  },
  {
   "cell_type": "markdown",
   "id": "a59f4f60",
   "metadata": {},
   "source": [
    "# Interpretation "
   ]
  },
  {
   "cell_type": "markdown",
   "id": "1fc2761a",
   "metadata": {},
   "source": [
    "* If a Age has a Z-score greater than 3, it is much higher than the average Age.\n",
    "* If a Age has a Z-score less than -3, it is much lower than the average age.\n",
    "* This method is useful for normally distribured data, but it may not work well for skewed distribution."
   ]
  }
 ],
 "metadata": {
  "kernelspec": {
   "display_name": "Python 3 (ipykernel)",
   "language": "python",
   "name": "python3"
  },
  "language_info": {
   "codemirror_mode": {
    "name": "ipython",
    "version": 3
   },
   "file_extension": ".py",
   "mimetype": "text/x-python",
   "name": "python",
   "nbconvert_exporter": "python",
   "pygments_lexer": "ipython3",
   "version": "3.11.3"
  }
 },
 "nbformat": 4,
 "nbformat_minor": 5
}

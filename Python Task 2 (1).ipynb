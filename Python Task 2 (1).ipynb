{
 "cells": [
  {
   "cell_type": "markdown",
   "id": "3daa8054",
   "metadata": {},
   "source": [
    "# if-else"
   ]
  },
  {
   "cell_type": "markdown",
   "id": "66f9d792",
   "metadata": {},
   "source": [
    "The if-else statement us a fundamental control structure in python used to execute code based on certain condition. it allows you to perform different actions depending on whether a condition is True or False."
   ]
  },
  {
   "cell_type": "markdown",
   "id": "9a3572e9",
   "metadata": {},
   "source": [
    "To check multiple cconditions, you can use elif. This allows you to chain several conditions together."
   ]
  },
  {
   "cell_type": "markdown",
   "id": "30c63d4b",
   "metadata": {},
   "source": [
    "if : Tests a condition. if True, it execute the block of code.  \n",
    "elif : Used when multiple conditions need to be checked.  \n",
    "else : Catches all conditions not covered by the if or elif blocks."
   ]
  },
  {
   "cell_type": "markdown",
   "id": "e97d4f10",
   "metadata": {},
   "source": [
    "Grade code example"
   ]
  },
  {
   "cell_type": "code",
   "execution_count": 9,
   "id": "c044f437",
   "metadata": {},
   "outputs": [
    {
     "name": "stdout",
     "output_type": "stream",
     "text": [
      "Grade:C\n"
     ]
    }
   ],
   "source": [
    "# Define the marks\n",
    "p = 50\n",
    "\n",
    "# Check if student passed or failed\n",
    "if p>75:\n",
    "    grade = \"O\" # Check for grade \"o\"\n",
    "elif 60<p<=75:\n",
    "    grade = \"A\" # Check for grade \"A\"\n",
    "elif 50<p<=60:\n",
    "    grade = \"B\" # Check for grade \"B\"\n",
    "elif 35<p<=50:\n",
    "    grade = \"C\" #Check for grade \"c\"\n",
    "elif p<35:\n",
    "    grade = \"Fail\"\n",
    "\n",
    "print(f\"Grade:{grade}\") # Print the final grade"
   ]
  },
  {
   "cell_type": "markdown",
   "id": "5a6ab67a",
   "metadata": {},
   "source": [
    "Divisibility Example"
   ]
  },
  {
   "cell_type": "code",
   "execution_count": 13,
   "id": "bed93a9d",
   "metadata": {},
   "outputs": [
    {
     "name": "stdout",
     "output_type": "stream",
     "text": [
      "Not divisible by 2 and 3\n"
     ]
    }
   ],
   "source": [
    "n = 7\n",
    "\n",
    "if n % 2 == 0 and n % 3 == 0:\n",
    "    print(\"Divisible by 2 and 3\")\n",
    "elif n % 2 == 0:\n",
    "    print(\"Divisible by 2 but not 3\")\n",
    "elif n % 3 == 0:\n",
    "    print(\"Divisible by 3 but not 2\")\n",
    "else:\n",
    "    print(\"Not divisible by 2 and 3\")"
   ]
  },
  {
   "cell_type": "markdown",
   "id": "24592785",
   "metadata": {},
   "source": [
    "# 5 Examples for if else"
   ]
  },
  {
   "cell_type": "markdown",
   "id": "ae73e315",
   "metadata": {},
   "source": [
    "1.Check if number is positive"
   ]
  },
  {
   "cell_type": "code",
   "execution_count": 20,
   "id": "b72444c6",
   "metadata": {},
   "outputs": [
    {
     "name": "stdout",
     "output_type": "stream",
     "text": [
      "Enter your number: 5\n",
      "Number is positive: \n"
     ]
    }
   ],
   "source": [
    "num = int(input(\"Enter your number: \"))\n",
    "\n",
    "if num > 0:\n",
    "    print(\"Number is positive: \")\n",
    "elif num == 0:\n",
    "    print(\"Number is zero\")\n",
    "else:\n",
    "    print(\"Number is negative\")"
   ]
  },
  {
   "cell_type": "markdown",
   "id": "a956312e",
   "metadata": {},
   "source": [
    "2.Verify if string start with A"
   ]
  },
  {
   "cell_type": "code",
   "execution_count": 26,
   "id": "8e6a77c8",
   "metadata": {},
   "outputs": [
    {
     "name": "stdout",
     "output_type": "stream",
     "text": [
      "Given string start with A\n"
     ]
    }
   ],
   "source": [
    "string = \"Apple\"\n",
    "\n",
    "if string[0] == \"A\":\n",
    "    print(\"Given string start with A\")\n",
    "else:\n",
    "    print(\"Does not start with A\")"
   ]
  },
  {
   "cell_type": "markdown",
   "id": "d93181f6",
   "metadata": {},
   "source": [
    "3.Check if list contain an item"
   ]
  },
  {
   "cell_type": "code",
   "execution_count": 27,
   "id": "4c7007b8",
   "metadata": {},
   "outputs": [
    {
     "name": "stdout",
     "output_type": "stream",
     "text": [
      "4 is in the list \n"
     ]
    }
   ],
   "source": [
    "list  = [1,2,4]\n",
    "\n",
    "if 4 in list:\n",
    "    print(\"4 is in the list \")\n",
    "else:\n",
    "    print(\"4 is not in the list\")"
   ]
  },
  {
   "cell_type": "markdown",
   "id": "30376db5",
   "metadata": {},
   "source": [
    "4.Calculate discount based on purchase amount"
   ]
  },
  {
   "cell_type": "code",
   "execution_count": 30,
   "id": "ae60a7bf",
   "metadata": {},
   "outputs": [
    {
     "name": "stdout",
     "output_type": "stream",
     "text": [
      "Enter purchase amount: 4300\n",
      "5% Discount\n"
     ]
    }
   ],
   "source": [
    "pamount = int(input(\"Enter purchase amount: \"))\n",
    "\n",
    "if pamount <= 1000:\n",
    "    print(\"No Discount\")\n",
    "elif 1000< pamount <= 5000:\n",
    "    print(\"5% Discount\")\n",
    "else:\n",
    "    print(\"10% Discount\")"
   ]
  },
  {
   "cell_type": "markdown",
   "id": "95ba4947",
   "metadata": {},
   "source": [
    "5.Check speed of vehicle"
   ]
  },
  {
   "cell_type": "code",
   "execution_count": 33,
   "id": "88072959",
   "metadata": {},
   "outputs": [
    {
     "name": "stdout",
     "output_type": "stream",
     "text": [
      "Normal\n"
     ]
    }
   ],
   "source": [
    "speed = 78\n",
    "# Check if speed of vehicle is slow, normal or fast\n",
    "if speed <= 40:\n",
    "    print(\"Slow\")\n",
    "elif 40 < speed <= 80:\n",
    "    print(\"Normal\")\n",
    "else:\n",
    "    print(\"Fast\")"
   ]
  },
  {
   "cell_type": "markdown",
   "id": "38921efc",
   "metadata": {},
   "source": [
    "# For loop"
   ]
  },
  {
   "cell_type": "markdown",
   "id": "e2032390",
   "metadata": {},
   "source": [
    "A for loop is a control structure used to iterate over a sequence (liek a list, tuple, string, or range) and execute a block of code for each item in the sequence."
   ]
  },
  {
   "cell_type": "markdown",
   "id": "3678b026",
   "metadata": {},
   "source": [
    "Using range() with for loop  \n",
    "the range() function generates a sequence of numbers, which is often used in conjunction with a for loop.  \n",
    "You can stopping value, and the step (increment) between values."
   ]
  },
  {
   "cell_type": "markdown",
   "id": "7d128ef2",
   "metadata": {},
   "source": [
    "Looping through a dictionary  \n",
    "You can use a for loop to iterate through the the keys, values, or key-value pairs of a dictionary"
   ]
  },
  {
   "cell_type": "markdown",
   "id": "15d272f6",
   "metadata": {},
   "source": [
    "Nested for loops  \n",
    "A nested for loop refers to to having one for loop inside another. This is useful when working with multi-dimensional data structure, such as matrices or nested lists."
   ]
  },
  {
   "cell_type": "markdown",
   "id": "d06edfd9",
   "metadata": {},
   "source": [
    "Print odd valeus between 20 and 80 usinf for loop (no if)"
   ]
  },
  {
   "cell_type": "code",
   "execution_count": 17,
   "id": "d9de7871",
   "metadata": {},
   "outputs": [
    {
     "name": "stdout",
     "output_type": "stream",
     "text": [
      "21\n",
      "23\n",
      "25\n",
      "27\n",
      "29\n",
      "31\n",
      "33\n",
      "35\n",
      "37\n",
      "39\n",
      "41\n",
      "43\n",
      "45\n",
      "47\n",
      "49\n",
      "51\n",
      "53\n",
      "55\n",
      "57\n",
      "59\n",
      "61\n",
      "63\n",
      "65\n",
      "67\n",
      "69\n",
      "71\n",
      "73\n",
      "75\n",
      "77\n",
      "79\n"
     ]
    }
   ],
   "source": [
    "# Using range to generate odd numbers between 20 and 80\n",
    "for i in range (21,80,2): \n",
    "    print(i)"
   ]
  },
  {
   "cell_type": "markdown",
   "id": "54a8aecc",
   "metadata": {},
   "source": [
    "Create a list of number from 1 t 20 using for loop"
   ]
  },
  {
   "cell_type": "code",
   "execution_count": 16,
   "id": "d5b86af6",
   "metadata": {},
   "outputs": [
    {
     "name": "stdout",
     "output_type": "stream",
     "text": [
      "[1, 2, 3, 4, 5, 6, 7, 8, 9, 10, 11, 12, 13, 14, 15, 16, 17, 18, 19, 20]\n"
     ]
    }
   ],
   "source": [
    "# Initialize an empty list\n",
    "list = []\n",
    "for i in range(1,21):\n",
    "    list.append(i)  # Append each nuber to the list\n",
    "print(list)"
   ]
  },
  {
   "cell_type": "markdown",
   "id": "6b48ab4a",
   "metadata": {},
   "source": [
    "Create a list of numbers from 20 to 1 using for loop(no reverse)"
   ]
  },
  {
   "cell_type": "code",
   "execution_count": 18,
   "id": "a026a70e",
   "metadata": {},
   "outputs": [
    {
     "name": "stdout",
     "output_type": "stream",
     "text": [
      "[20, 19, 18, 17, 16, 15, 14, 13, 12, 11, 10, 9, 8, 7, 6, 5, 4, 3, 2, 1]\n"
     ]
    }
   ],
   "source": [
    "list = []\n",
    "for i in range(20,0,-1):  # Loop through numbers from 20 to 1 (decrementinng by -1)\n",
    "    list.append(i)  # Append each number to the list\n",
    "print(list)"
   ]
  },
  {
   "cell_type": "markdown",
   "id": "9748c96a",
   "metadata": {},
   "source": [
    "Take cube of odd number between 20 to 40"
   ]
  },
  {
   "cell_type": "code",
   "execution_count": 23,
   "id": "b2067c44",
   "metadata": {},
   "outputs": [
    {
     "name": "stdout",
     "output_type": "stream",
     "text": [
      "[9261, 12167, 15625, 19683, 24389, 29791, 35937, 42875, 50653, 59319]\n"
     ]
    }
   ],
   "source": [
    "cube = []  # Initialize the empty list to store cubes\n",
    "for i in range (21,40,2):  # Generate odd numbers between 20 and 40\n",
    "    cube.append(i**3)      # calculate the cube of each number and append it to the list\n",
    "print(cube)"
   ]
  },
  {
   "cell_type": "markdown",
   "id": "dc3c97ff",
   "metadata": {},
   "source": [
    "Use two list name and age and display the output"
   ]
  },
  {
   "cell_type": "code",
   "execution_count": 26,
   "id": "00304e3f",
   "metadata": {},
   "outputs": [
    {
     "name": "stdout",
     "output_type": "stream",
     "text": [
      "My name is a, My age is 20\n",
      "My name is b, My age is 21\n",
      "My name is c, My age is 23\n",
      "My name is d, My age is 25\n",
      "My name is e, My age is 24\n"
     ]
    }
   ],
   "source": [
    "names = [\"a\",\"b\",\"c\",\"d\",\"e\"]  # Define the list of names\n",
    "age = [20,21,23,25,24]  # Define the list of age\n",
    "for i in range (len(names)):\n",
    "    print(f\"My name is {names[i]}, My age is {age[i]}\")"
   ]
  },
  {
   "cell_type": "markdown",
   "id": "9ad15517",
   "metadata": {},
   "source": [
    "# if and for loop"
   ]
  },
  {
   "cell_type": "markdown",
   "id": "2b83a0d6",
   "metadata": {},
   "source": [
    "Swap the first and last element of list"
   ]
  },
  {
   "cell_type": "code",
   "execution_count": 28,
   "id": "a8cc582f",
   "metadata": {},
   "outputs": [
    {
     "name": "stdout",
     "output_type": "stream",
     "text": [
      "['Java', 'R', 'c', 'python']\n"
     ]
    }
   ],
   "source": [
    "my_list = [\"python\",\"R\",\"c\",\"Java\"]  \n",
    "\n",
    "if len(my_list) >1:  # Check the if list has more than one element (only then swapping is meaingful)\n",
    "    my_list[0],my_list[-1]=my_list[-1],my_list[0]  # Swap the first element to the last element \n",
    "print(my_list)  # To print modified list"
   ]
  },
  {
   "cell_type": "markdown",
   "id": "bfd5f779",
   "metadata": {},
   "source": [
    "Count the length of string"
   ]
  },
  {
   "cell_type": "code",
   "execution_count": 29,
   "id": "8bde7e9c",
   "metadata": {},
   "outputs": [
    {
     "name": "stdout",
     "output_type": "stream",
     "text": [
      "29\n"
     ]
    }
   ],
   "source": [
    "my_string = \"AIS2025INTERN_Shambho_Nangare\"   \n",
    "\n",
    "length = 0  # Initialize a counter with 0, which will store the length of the string\n",
    "# Loop through each character in the string\n",
    "for char in my_string:\n",
    "    length +=1  # For each character increment the counter 1\n",
    "print(length)   # Print the totle length of string"
   ]
  },
  {
   "cell_type": "markdown",
   "id": "3a57e11b",
   "metadata": {},
   "source": [
    "Get the sum of only non-negative integers"
   ]
  },
  {
   "cell_type": "code",
   "execution_count": 33,
   "id": "0e09f0d7",
   "metadata": {},
   "outputs": [
    {
     "name": "stdout",
     "output_type": "stream",
     "text": [
      "15\n"
     ]
    }
   ],
   "source": [
    "numbers = [1,4,-5,-20,10]\n",
    "\n",
    "sum_non_negative = 0  # Initialize the variable to store the sum of non_negative number\n",
    "\n",
    "for num in numbers:\n",
    "    if num >= 0:  # Check if the current number is non negative\n",
    "        sum_non_negative += num  # Add the non-negative number to the sum\n",
    "\n",
    "print(sum_non_negative) # Print the totle sum of non-negative integers"
   ]
  },
  {
   "cell_type": "markdown",
   "id": "d867a818",
   "metadata": {},
   "source": [
    "Calculate the factorial of numbers"
   ]
  },
  {
   "cell_type": "code",
   "execution_count": 34,
   "id": "3d8a3167",
   "metadata": {},
   "outputs": [
    {
     "name": "stdout",
     "output_type": "stream",
     "text": [
      "6\n"
     ]
    }
   ],
   "source": [
    "n = 3\n",
    "\n",
    "factorial = 1   # Initialize the variable to store the factorial (starting with 1)\n",
    "\n",
    "if n>0:  # Check if the number is valid(non-negative)\n",
    "    for i in range(1,n+1):\n",
    "        factorial*= i  # Multiply the current valur of factorial by the current number i\n",
    "print(factorial)"
   ]
  },
  {
   "cell_type": "markdown",
   "id": "98ef6a54",
   "metadata": {},
   "source": [
    "# While loop"
   ]
  },
  {
   "cell_type": "markdown",
   "id": "087eccbd",
   "metadata": {},
   "source": [
    "A while loop in prgramming is used to repeatedly execute a block of code as long as a specified condition remains true.  \n",
    "It's particularly useful when the number of iteration is not known in advance"
   ]
  },
  {
   "cell_type": "markdown",
   "id": "5a924a03",
   "metadata": {},
   "source": [
    "CONDITION : The loop continues to execute as long as the condition evaluate to true. Once it becomes false, the loop stops. "
   ]
  },
  {
   "cell_type": "markdown",
   "id": "1be08e5d",
   "metadata": {},
   "source": [
    "INITIALIZATION : Ensure the variables used in the condition are properly initialized before the loop starts."
   ]
  },
  {
   "cell_type": "markdown",
   "id": "e65d09e6",
   "metadata": {},
   "source": [
    "TERMIBATION : Update the condition inside the loop to avoid infinite loops (when the condition never become false)."
   ]
  },
  {
   "cell_type": "markdown",
   "id": "8e9fdd99",
   "metadata": {},
   "source": [
    "Odd-Even using while loop"
   ]
  },
  {
   "cell_type": "code",
   "execution_count": 3,
   "id": "29356edd",
   "metadata": {},
   "outputs": [
    {
     "name": "stdout",
     "output_type": "stream",
     "text": [
      "1 is odd\n",
      "2 is even\n",
      "3 is odd\n",
      "4 is even\n",
      "5 is odd\n",
      "6 is even\n",
      "7 is odd\n",
      "8 is even\n",
      "9 is odd\n",
      "10 is even\n",
      "11 is odd\n",
      "12 is even\n",
      "13 is odd\n",
      "14 is even\n",
      "15 is odd\n",
      "16 is even\n",
      "17 is odd\n",
      "18 is even\n",
      "19 is odd\n",
      "20 is even\n"
     ]
    }
   ],
   "source": [
    "num = 1\n",
    "while num <=20: # Loop from 1 to 20\n",
    "    if num % 2 ==0:\n",
    "        print(f\"{num} is even\")\n",
    "    else:\n",
    "        print(f\"{num} is odd\")\n",
    "    num +=1"
   ]
  },
  {
   "cell_type": "markdown",
   "id": "5b264810",
   "metadata": {},
   "source": [
    "Using while loop to print a pattern"
   ]
  },
  {
   "cell_type": "code",
   "execution_count": 5,
   "id": "c4382690",
   "metadata": {},
   "outputs": [
    {
     "name": "stdout",
     "output_type": "stream",
     "text": [
      "*\n",
      "**\n",
      "***\n",
      "****\n",
      "*****\n"
     ]
    }
   ],
   "source": [
    "rows = 5\n",
    "i = 1\n",
    "while i <=rows:\n",
    "    print(\"*\" * i)\n",
    "    i +=1\n",
    "    "
   ]
  },
  {
   "cell_type": "markdown",
   "id": "bd3c92f6",
   "metadata": {},
   "source": [
    "Create a list of numbers from 1 to 20"
   ]
  },
  {
   "cell_type": "code",
   "execution_count": 7,
   "id": "33bbcff6",
   "metadata": {},
   "outputs": [
    {
     "name": "stdout",
     "output_type": "stream",
     "text": [
      "[1, 2, 3, 4, 5, 6, 7, 8, 9, 10, 11, 12, 13, 14, 15, 16, 17, 18, 19, 20]\n"
     ]
    }
   ],
   "source": [
    "list = []\n",
    "num = 1\n",
    "while num <=20:\n",
    "    list.append(num)\n",
    "    num += 1\n",
    "print(list)"
   ]
  },
  {
   "cell_type": "markdown",
   "id": "aaf6a587",
   "metadata": {},
   "source": [
    "Create a list of numbers from 20 to 1"
   ]
  },
  {
   "cell_type": "code",
   "execution_count": 8,
   "id": "f579dc9d",
   "metadata": {},
   "outputs": [
    {
     "name": "stdout",
     "output_type": "stream",
     "text": [
      "[20, 19, 18, 17, 16, 15, 14, 13, 12, 11, 10, 9, 8, 7, 6, 5, 4, 3, 2, 1]\n"
     ]
    }
   ],
   "source": [
    "list = []\n",
    "num = 20\n",
    "while num >= 1:\n",
    "    list.append(num)\n",
    "    num -= 1\n",
    "print(list)"
   ]
  },
  {
   "cell_type": "markdown",
   "id": "155a6aa8",
   "metadata": {},
   "source": [
    "# Break, Continue and Pass"
   ]
  },
  {
   "cell_type": "markdown",
   "id": "5112d8a5",
   "metadata": {},
   "source": [
    "BREAK : The break statement is used to exit a loop immediately, even if the loop condition is still true.When python encounters a break, it stops the loop and moves to the next line of outside the loop."
   ]
  },
  {
   "cell_type": "markdown",
   "id": "66c9ba4f",
   "metadata": {},
   "source": [
    "CONTINUE : The continue statement skips the rest of the code in the current iteration and moves to the next iteration of the loop."
   ]
  },
  {
   "cell_type": "markdown",
   "id": "d088629c",
   "metadata": {},
   "source": [
    "PASS : The pass statement is a placeholder. It does nothing and is used when a statement is syntactically required but you don't want to execute any code. It's useful when you're writing code but want to leave a block empty for now."
   ]
  },
  {
   "cell_type": "markdown",
   "id": "a90efc87",
   "metadata": {},
   "source": [
    "Example using break, continue and pass"
   ]
  },
  {
   "cell_type": "markdown",
   "id": "5ec15b1f",
   "metadata": {},
   "source": [
    "Using break"
   ]
  },
  {
   "cell_type": "code",
   "execution_count": 13,
   "id": "2f47f818",
   "metadata": {},
   "outputs": [
    {
     "name": "stdout",
     "output_type": "stream",
     "text": [
      "1\n",
      "2\n",
      "3\n",
      "4\n",
      "Breaking the loop at 5\n"
     ]
    }
   ],
   "source": [
    "num = 1\n",
    "while num <= 10:\n",
    "    if num == 5:\n",
    "        print(\"Breaking the loop at 5\")\n",
    "        break  # break the loop at 5\n",
    "    print(num)\n",
    "    num += 1"
   ]
  },
  {
   "cell_type": "markdown",
   "id": "1f4d6def",
   "metadata": {},
   "source": [
    "Using continue"
   ]
  },
  {
   "cell_type": "code",
   "execution_count": 11,
   "id": "700e55a4",
   "metadata": {},
   "outputs": [
    {
     "name": "stdout",
     "output_type": "stream",
     "text": [
      "1\n",
      "2\n",
      "3\n",
      "4\n",
      "Skipping 5\n",
      "6\n",
      "7\n",
      "8\n",
      "9\n",
      "10\n",
      "11\n"
     ]
    }
   ],
   "source": [
    "num = 0\n",
    "while num <= 10:\n",
    "    num += 1\n",
    "    if num == 5:\n",
    "        print(\"Skipping 5\")\n",
    "        continue # skip the number 5 and print other numbers\n",
    "    print(num)"
   ]
  },
  {
   "cell_type": "markdown",
   "id": "6ba1444e",
   "metadata": {},
   "source": [
    "Using pass"
   ]
  },
  {
   "cell_type": "code",
   "execution_count": 14,
   "id": "167cde08",
   "metadata": {},
   "outputs": [
    {
     "name": "stdout",
     "output_type": "stream",
     "text": [
      "1\n",
      "2\n",
      "3\n",
      "4\n",
      "5\n",
      "6\n",
      "7\n",
      "8\n",
      "9\n",
      "10\n"
     ]
    }
   ],
   "source": [
    "num = 1\n",
    "while num <= 10:\n",
    "    if num == 3:\n",
    "        pass # Do nothing, just pass the control\n",
    "    print(num)\n",
    "    num += 1"
   ]
  },
  {
   "cell_type": "code",
   "execution_count": null,
   "id": "2e567723",
   "metadata": {},
   "outputs": [],
   "source": []
  }
 ],
 "metadata": {
  "kernelspec": {
   "display_name": "Python 3 (ipykernel)",
   "language": "python",
   "name": "python3"
  },
  "language_info": {
   "codemirror_mode": {
    "name": "ipython",
    "version": 3
   },
   "file_extension": ".py",
   "mimetype": "text/x-python",
   "name": "python",
   "nbconvert_exporter": "python",
   "pygments_lexer": "ipython3",
   "version": "3.11.3"
  }
 },
 "nbformat": 4,
 "nbformat_minor": 5
}

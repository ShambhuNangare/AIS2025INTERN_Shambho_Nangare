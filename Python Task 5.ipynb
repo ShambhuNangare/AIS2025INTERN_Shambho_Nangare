{
 "cells": [
  {
   "cell_type": "markdown",
   "id": "64b8aafb",
   "metadata": {},
   "source": [
    "# 1.Pandas"
   ]
  },
  {
   "cell_type": "markdown",
   "id": "06849869",
   "metadata": {},
   "source": [
    "Introduction:\n"
   ]
  },
  {
   "cell_type": "markdown",
   "id": "fd26e6de",
   "metadata": {},
   "source": [
    "Pandas ia a popoular python library for data analysis and manioulation. It provide efficient data structure like Series(1D) and  DataFrame (2D) for handling structured data."
   ]
  },
  {
   "cell_type": "markdown",
   "id": "a449fe93",
   "metadata": {},
   "source": [
    "Key Features:\n",
    "* Fast and flexible data handling.\n",
    "* Powerful indexing and slicing.\n",
    "* Build-in data cleaning and transformation.\n",
    "* Support grouping, aggregation, and visualization.\n",
    "* Integrates well with NumPy, Matplotlib, and databases."
   ]
  },
  {
   "cell_type": "markdown",
   "id": "b20dfd65",
   "metadata": {},
   "source": [
    "Installation"
   ]
  },
  {
   "cell_type": "code",
   "execution_count": 1,
   "id": "9d0a0b5e",
   "metadata": {},
   "outputs": [
    {
     "name": "stdout",
     "output_type": "stream",
     "text": [
      "Requirement already satisfied: pandas in c:\\programdata\\anaconda3\\lib\\site-packages (1.5.3)Note: you may need to restart the kernel to use updated packages.\n",
      "\n",
      "Requirement already satisfied: python-dateutil>=2.8.1 in c:\\programdata\\anaconda3\\lib\\site-packages (from pandas) (2.8.2)\n",
      "Requirement already satisfied: pytz>=2020.1 in c:\\programdata\\anaconda3\\lib\\site-packages (from pandas) (2022.7)\n",
      "Requirement already satisfied: numpy>=1.21.0 in c:\\programdata\\anaconda3\\lib\\site-packages (from pandas) (1.24.3)\n",
      "Requirement already satisfied: six>=1.5 in c:\\programdata\\anaconda3\\lib\\site-packages (from python-dateutil>=2.8.1->pandas) (1.16.0)\n"
     ]
    }
   ],
   "source": [
    "pip install pandas"
   ]
  },
  {
   "cell_type": "markdown",
   "id": "e102742a",
   "metadata": {},
   "source": [
    "Import pandas library"
   ]
  },
  {
   "cell_type": "code",
   "execution_count": 2,
   "id": "227e0740",
   "metadata": {},
   "outputs": [],
   "source": [
    "import pandas as pd"
   ]
  },
  {
   "cell_type": "markdown",
   "id": "d149a9d6",
   "metadata": {},
   "source": [
    "# 2.Key Data Structure"
   ]
  },
  {
   "cell_type": "markdown",
   "id": "6e3c5f3b",
   "metadata": {},
   "source": [
    "# > Series"
   ]
  },
  {
   "cell_type": "markdown",
   "id": "42b2f7dd",
   "metadata": {},
   "source": [
    "A series is a one-dimensional labeled array, It can store data of any type (integer,string,float,etc.), and has an associated index (labels for each element in the series).\n",
    "* Creation - You can create a series from a list, NumPy arrray, or dictionary.\n",
    "* Indexing - Like a dictionary, a series can be indexed using labels(or integer positions).\n",
    "* Operations - You can perform arithmetic operations, filtering, and manipulation directly on a series."
   ]
  },
  {
   "cell_type": "markdown",
   "id": "d2b7370e",
   "metadata": {},
   "source": [
    "# > DataFrame"
   ]
  },
  {
   "cell_type": "markdown",
   "id": "b2090ade",
   "metadata": {},
   "source": [
    "A DataFrame is a two-dimensional table-like structure, consisting of rows and columns. Each columns is a series, and ir can hold data of different types across columns (e.g, interger in one column, string in another).\n",
    "* Creation - You can create a DataFrame from a dictionary,lists, NumPy arrays, or another DataFrame.\n",
    "* Indexing - You can access rows, columns, and specific data points using labels or integers positions.\n",
    "* Operations - You can perform a wide range of operations such as filtering, sorting, grouping, aggregating, and reshaping."
   ]
  },
  {
   "cell_type": "markdown",
   "id": "fb715fe5",
   "metadata": {},
   "source": [
    "# Creating Data Structure"
   ]
  },
  {
   "cell_type": "code",
   "execution_count": 3,
   "id": "81d9714e",
   "metadata": {},
   "outputs": [
    {
     "name": "stdout",
     "output_type": "stream",
     "text": [
      "0    10\n",
      "1    20\n",
      "2    30\n",
      "3    40\n",
      "4    50\n",
      "dtype: int64\n"
     ]
    }
   ],
   "source": [
    "series = pd.Series([10,20,30,40,50])\n",
    "print(series)"
   ]
  },
  {
   "cell_type": "code",
   "execution_count": 4,
   "id": "c2f9530a",
   "metadata": {},
   "outputs": [
    {
     "name": "stdout",
     "output_type": "stream",
     "text": [
      "    Name  Marks  Age\n",
      "0    raj     78   23\n",
      "1  suhas     85   21\n",
      "2  akash     97   20\n"
     ]
    }
   ],
   "source": [
    "data = {'Name':['raj', 'suhas', 'akash'],'Marks':[78,85,97],'Age':[23,21,20]}\n",
    "df = pd.DataFrame(data)\n",
    "print(df)"
   ]
  },
  {
   "cell_type": "markdown",
   "id": "31398e00",
   "metadata": {},
   "source": [
    "# 3.Data Operations"
   ]
  },
  {
   "cell_type": "markdown",
   "id": "2af3774f",
   "metadata": {},
   "source": [
    "* Selecting Columns"
   ]
  },
  {
   "cell_type": "code",
   "execution_count": 5,
   "id": "e6638ff8",
   "metadata": {},
   "outputs": [
    {
     "data": {
      "text/plain": [
       "0      raj\n",
       "1    suhas\n",
       "2    akash\n",
       "Name: Name, dtype: object"
      ]
     },
     "execution_count": 5,
     "metadata": {},
     "output_type": "execute_result"
    }
   ],
   "source": [
    "# Single column: Returns a pandas series.\n",
    "df['Name']"
   ]
  },
  {
   "cell_type": "markdown",
   "id": "8ef2b7a5",
   "metadata": {},
   "source": [
    "* Multiple column: Returns a DataFrame."
   ]
  },
  {
   "cell_type": "code",
   "execution_count": 6,
   "id": "bd30f789",
   "metadata": {},
   "outputs": [
    {
     "data": {
      "text/html": [
       "<div>\n",
       "<style scoped>\n",
       "    .dataframe tbody tr th:only-of-type {\n",
       "        vertical-align: middle;\n",
       "    }\n",
       "\n",
       "    .dataframe tbody tr th {\n",
       "        vertical-align: top;\n",
       "    }\n",
       "\n",
       "    .dataframe thead th {\n",
       "        text-align: right;\n",
       "    }\n",
       "</style>\n",
       "<table border=\"1\" class=\"dataframe\">\n",
       "  <thead>\n",
       "    <tr style=\"text-align: right;\">\n",
       "      <th></th>\n",
       "      <th>Name</th>\n",
       "      <th>Marks</th>\n",
       "    </tr>\n",
       "  </thead>\n",
       "  <tbody>\n",
       "    <tr>\n",
       "      <th>0</th>\n",
       "      <td>raj</td>\n",
       "      <td>78</td>\n",
       "    </tr>\n",
       "    <tr>\n",
       "      <th>1</th>\n",
       "      <td>suhas</td>\n",
       "      <td>85</td>\n",
       "    </tr>\n",
       "    <tr>\n",
       "      <th>2</th>\n",
       "      <td>akash</td>\n",
       "      <td>97</td>\n",
       "    </tr>\n",
       "  </tbody>\n",
       "</table>\n",
       "</div>"
      ],
      "text/plain": [
       "    Name  Marks\n",
       "0    raj     78\n",
       "1  suhas     85\n",
       "2  akash     97"
      ]
     },
     "execution_count": 6,
     "metadata": {},
     "output_type": "execute_result"
    }
   ],
   "source": [
    "df[['Name','Marks']]"
   ]
  },
  {
   "cell_type": "markdown",
   "id": "c9739734",
   "metadata": {},
   "source": [
    "# > Indexing in Pandas"
   ]
  },
  {
   "cell_type": "markdown",
   "id": "f151a70c",
   "metadata": {},
   "source": [
    "Indexing refers to selecting specific rows, columns, or elements from a Series or DataFrame. "
   ]
  },
  {
   "cell_type": "markdown",
   "id": "9a539a46",
   "metadata": {},
   "source": [
    "Label-based indexing (loc[])"
   ]
  },
  {
   "cell_type": "markdown",
   "id": "5d7b1d38",
   "metadata": {},
   "source": [
    "* Used when selecting data by row/column labels.\n",
    "* Include both the start and end index in slicing."
   ]
  },
  {
   "cell_type": "code",
   "execution_count": 7,
   "id": "7aad78a6",
   "metadata": {},
   "outputs": [],
   "source": [
    "df = pd.DataFrame(data, index=['A','B',\"C\"])"
   ]
  },
  {
   "cell_type": "code",
   "execution_count": 8,
   "id": "2b570d8e",
   "metadata": {},
   "outputs": [
    {
     "data": {
      "text/html": [
       "<div>\n",
       "<style scoped>\n",
       "    .dataframe tbody tr th:only-of-type {\n",
       "        vertical-align: middle;\n",
       "    }\n",
       "\n",
       "    .dataframe tbody tr th {\n",
       "        vertical-align: top;\n",
       "    }\n",
       "\n",
       "    .dataframe thead th {\n",
       "        text-align: right;\n",
       "    }\n",
       "</style>\n",
       "<table border=\"1\" class=\"dataframe\">\n",
       "  <thead>\n",
       "    <tr style=\"text-align: right;\">\n",
       "      <th></th>\n",
       "      <th>Name</th>\n",
       "      <th>Marks</th>\n",
       "      <th>Age</th>\n",
       "    </tr>\n",
       "  </thead>\n",
       "  <tbody>\n",
       "    <tr>\n",
       "      <th>A</th>\n",
       "      <td>raj</td>\n",
       "      <td>78</td>\n",
       "      <td>23</td>\n",
       "    </tr>\n",
       "    <tr>\n",
       "      <th>B</th>\n",
       "      <td>suhas</td>\n",
       "      <td>85</td>\n",
       "      <td>21</td>\n",
       "    </tr>\n",
       "    <tr>\n",
       "      <th>C</th>\n",
       "      <td>akash</td>\n",
       "      <td>97</td>\n",
       "      <td>20</td>\n",
       "    </tr>\n",
       "  </tbody>\n",
       "</table>\n",
       "</div>"
      ],
      "text/plain": [
       "    Name  Marks  Age\n",
       "A    raj     78   23\n",
       "B  suhas     85   21\n",
       "C  akash     97   20"
      ]
     },
     "execution_count": 8,
     "metadata": {},
     "output_type": "execute_result"
    }
   ],
   "source": [
    "df"
   ]
  },
  {
   "cell_type": "markdown",
   "id": "362d6091",
   "metadata": {},
   "source": [
    "* Selecting row using lock"
   ]
  },
  {
   "cell_type": "code",
   "execution_count": 9,
   "id": "5de4acc7",
   "metadata": {},
   "outputs": [
    {
     "data": {
      "text/plain": [
       "Name     raj\n",
       "Marks     78\n",
       "Age       23\n",
       "Name: A, dtype: object"
      ]
     },
     "execution_count": 9,
     "metadata": {},
     "output_type": "execute_result"
    }
   ],
   "source": [
    "df.loc[\"A\"]"
   ]
  },
  {
   "cell_type": "markdown",
   "id": "ad332f3a",
   "metadata": {},
   "source": [
    "* select multiple rows"
   ]
  },
  {
   "cell_type": "code",
   "execution_count": 10,
   "id": "ad73339a",
   "metadata": {},
   "outputs": [
    {
     "data": {
      "text/html": [
       "<div>\n",
       "<style scoped>\n",
       "    .dataframe tbody tr th:only-of-type {\n",
       "        vertical-align: middle;\n",
       "    }\n",
       "\n",
       "    .dataframe tbody tr th {\n",
       "        vertical-align: top;\n",
       "    }\n",
       "\n",
       "    .dataframe thead th {\n",
       "        text-align: right;\n",
       "    }\n",
       "</style>\n",
       "<table border=\"1\" class=\"dataframe\">\n",
       "  <thead>\n",
       "    <tr style=\"text-align: right;\">\n",
       "      <th></th>\n",
       "      <th>Name</th>\n",
       "      <th>Marks</th>\n",
       "      <th>Age</th>\n",
       "    </tr>\n",
       "  </thead>\n",
       "  <tbody>\n",
       "    <tr>\n",
       "      <th>A</th>\n",
       "      <td>raj</td>\n",
       "      <td>78</td>\n",
       "      <td>23</td>\n",
       "    </tr>\n",
       "    <tr>\n",
       "      <th>C</th>\n",
       "      <td>akash</td>\n",
       "      <td>97</td>\n",
       "      <td>20</td>\n",
       "    </tr>\n",
       "  </tbody>\n",
       "</table>\n",
       "</div>"
      ],
      "text/plain": [
       "    Name  Marks  Age\n",
       "A    raj     78   23\n",
       "C  akash     97   20"
      ]
     },
     "execution_count": 10,
     "metadata": {},
     "output_type": "execute_result"
    }
   ],
   "source": [
    "df.loc[['A','C']]"
   ]
  },
  {
   "cell_type": "markdown",
   "id": "83d2754c",
   "metadata": {},
   "source": [
    "* Select a range of rows"
   ]
  },
  {
   "cell_type": "code",
   "execution_count": 11,
   "id": "fe4c9c2d",
   "metadata": {},
   "outputs": [
    {
     "data": {
      "text/html": [
       "<div>\n",
       "<style scoped>\n",
       "    .dataframe tbody tr th:only-of-type {\n",
       "        vertical-align: middle;\n",
       "    }\n",
       "\n",
       "    .dataframe tbody tr th {\n",
       "        vertical-align: top;\n",
       "    }\n",
       "\n",
       "    .dataframe thead th {\n",
       "        text-align: right;\n",
       "    }\n",
       "</style>\n",
       "<table border=\"1\" class=\"dataframe\">\n",
       "  <thead>\n",
       "    <tr style=\"text-align: right;\">\n",
       "      <th></th>\n",
       "      <th>Name</th>\n",
       "      <th>Marks</th>\n",
       "      <th>Age</th>\n",
       "    </tr>\n",
       "  </thead>\n",
       "  <tbody>\n",
       "    <tr>\n",
       "      <th>A</th>\n",
       "      <td>raj</td>\n",
       "      <td>78</td>\n",
       "      <td>23</td>\n",
       "    </tr>\n",
       "    <tr>\n",
       "      <th>B</th>\n",
       "      <td>suhas</td>\n",
       "      <td>85</td>\n",
       "      <td>21</td>\n",
       "    </tr>\n",
       "    <tr>\n",
       "      <th>C</th>\n",
       "      <td>akash</td>\n",
       "      <td>97</td>\n",
       "      <td>20</td>\n",
       "    </tr>\n",
       "  </tbody>\n",
       "</table>\n",
       "</div>"
      ],
      "text/plain": [
       "    Name  Marks  Age\n",
       "A    raj     78   23\n",
       "B  suhas     85   21\n",
       "C  akash     97   20"
      ]
     },
     "execution_count": 11,
     "metadata": {},
     "output_type": "execute_result"
    }
   ],
   "source": [
    "df.loc['A':\"c\"]"
   ]
  },
  {
   "cell_type": "markdown",
   "id": "5e1edaad",
   "metadata": {},
   "source": [
    "* Select a specific value"
   ]
  },
  {
   "cell_type": "code",
   "execution_count": 12,
   "id": "b3ec7ae4",
   "metadata": {},
   "outputs": [
    {
     "data": {
      "text/plain": [
       "85"
      ]
     },
     "execution_count": 12,
     "metadata": {},
     "output_type": "execute_result"
    }
   ],
   "source": [
    "df.loc['B','Marks']"
   ]
  },
  {
   "cell_type": "markdown",
   "id": "26d0bd48",
   "metadata": {},
   "source": [
    "Position-based indexing (iloc[])\n",
    "* Used when selecting data by numerical row/column positions.\n",
    "* Excludes the end index in slicing."
   ]
  },
  {
   "cell_type": "code",
   "execution_count": 13,
   "id": "72cb28b0",
   "metadata": {},
   "outputs": [
    {
     "data": {
      "text/plain": [
       "Name     suhas\n",
       "Marks       85\n",
       "Age         21\n",
       "Name: B, dtype: object"
      ]
     },
     "execution_count": 13,
     "metadata": {},
     "output_type": "execute_result"
    }
   ],
   "source": [
    "# select a row using iloc[]\n",
    "df.iloc[1]"
   ]
  },
  {
   "cell_type": "code",
   "execution_count": 14,
   "id": "47b5aab0",
   "metadata": {},
   "outputs": [
    {
     "data": {
      "text/html": [
       "<div>\n",
       "<style scoped>\n",
       "    .dataframe tbody tr th:only-of-type {\n",
       "        vertical-align: middle;\n",
       "    }\n",
       "\n",
       "    .dataframe tbody tr th {\n",
       "        vertical-align: top;\n",
       "    }\n",
       "\n",
       "    .dataframe thead th {\n",
       "        text-align: right;\n",
       "    }\n",
       "</style>\n",
       "<table border=\"1\" class=\"dataframe\">\n",
       "  <thead>\n",
       "    <tr style=\"text-align: right;\">\n",
       "      <th></th>\n",
       "      <th>Name</th>\n",
       "      <th>Marks</th>\n",
       "      <th>Age</th>\n",
       "    </tr>\n",
       "  </thead>\n",
       "  <tbody>\n",
       "    <tr>\n",
       "      <th>A</th>\n",
       "      <td>raj</td>\n",
       "      <td>78</td>\n",
       "      <td>23</td>\n",
       "    </tr>\n",
       "    <tr>\n",
       "      <th>C</th>\n",
       "      <td>akash</td>\n",
       "      <td>97</td>\n",
       "      <td>20</td>\n",
       "    </tr>\n",
       "  </tbody>\n",
       "</table>\n",
       "</div>"
      ],
      "text/plain": [
       "    Name  Marks  Age\n",
       "A    raj     78   23\n",
       "C  akash     97   20"
      ]
     },
     "execution_count": 14,
     "metadata": {},
     "output_type": "execute_result"
    }
   ],
   "source": [
    "# select multiple rows\n",
    "df.iloc[[0,2]]"
   ]
  },
  {
   "cell_type": "code",
   "execution_count": 15,
   "id": "ec138f49",
   "metadata": {},
   "outputs": [
    {
     "data": {
      "text/html": [
       "<div>\n",
       "<style scoped>\n",
       "    .dataframe tbody tr th:only-of-type {\n",
       "        vertical-align: middle;\n",
       "    }\n",
       "\n",
       "    .dataframe tbody tr th {\n",
       "        vertical-align: top;\n",
       "    }\n",
       "\n",
       "    .dataframe thead th {\n",
       "        text-align: right;\n",
       "    }\n",
       "</style>\n",
       "<table border=\"1\" class=\"dataframe\">\n",
       "  <thead>\n",
       "    <tr style=\"text-align: right;\">\n",
       "      <th></th>\n",
       "      <th>Name</th>\n",
       "      <th>Marks</th>\n",
       "      <th>Age</th>\n",
       "    </tr>\n",
       "  </thead>\n",
       "  <tbody>\n",
       "    <tr>\n",
       "      <th>A</th>\n",
       "      <td>raj</td>\n",
       "      <td>78</td>\n",
       "      <td>23</td>\n",
       "    </tr>\n",
       "    <tr>\n",
       "      <th>B</th>\n",
       "      <td>suhas</td>\n",
       "      <td>85</td>\n",
       "      <td>21</td>\n",
       "    </tr>\n",
       "    <tr>\n",
       "      <th>C</th>\n",
       "      <td>akash</td>\n",
       "      <td>97</td>\n",
       "      <td>20</td>\n",
       "    </tr>\n",
       "  </tbody>\n",
       "</table>\n",
       "</div>"
      ],
      "text/plain": [
       "    Name  Marks  Age\n",
       "A    raj     78   23\n",
       "B  suhas     85   21\n",
       "C  akash     97   20"
      ]
     },
     "execution_count": 15,
     "metadata": {},
     "output_type": "execute_result"
    }
   ],
   "source": [
    "# select a range of rows\n",
    "df.iloc[0:3]"
   ]
  },
  {
   "cell_type": "code",
   "execution_count": 16,
   "id": "cf37021f",
   "metadata": {},
   "outputs": [
    {
     "data": {
      "text/plain": [
       "85"
      ]
     },
     "execution_count": 16,
     "metadata": {},
     "output_type": "execute_result"
    }
   ],
   "source": [
    "# select a specific value\n",
    "df.iloc[1,1]"
   ]
  },
  {
   "cell_type": "markdown",
   "id": "7d2bb541",
   "metadata": {},
   "source": [
    "# > Slicing in pandas"
   ]
  },
  {
   "cell_type": "markdown",
   "id": "b28dea74",
   "metadata": {},
   "source": [
    "In pandas \"Slicing\" refers to accessing specific parts or subsets of data from a DataFrame or Series. It can be done using various methods like .loc[], .iloc[], or direct indexing. Here's a quick overview of how slicing works with pandas:"
   ]
  },
  {
   "cell_type": "markdown",
   "id": "1516ced5",
   "metadata": {},
   "source": [
    "* Slicing with .loc[] (label-based indexing)"
   ]
  },
  {
   "cell_type": "markdown",
   "id": "f57cfe6c",
   "metadata": {},
   "source": [
    "Syntax = df.loc[startrow:endrow,startcol:endcol]"
   ]
  },
  {
   "cell_type": "code",
   "execution_count": 17,
   "id": "c608a090",
   "metadata": {},
   "outputs": [
    {
     "data": {
      "text/html": [
       "<div>\n",
       "<style scoped>\n",
       "    .dataframe tbody tr th:only-of-type {\n",
       "        vertical-align: middle;\n",
       "    }\n",
       "\n",
       "    .dataframe tbody tr th {\n",
       "        vertical-align: top;\n",
       "    }\n",
       "\n",
       "    .dataframe thead th {\n",
       "        text-align: right;\n",
       "    }\n",
       "</style>\n",
       "<table border=\"1\" class=\"dataframe\">\n",
       "  <thead>\n",
       "    <tr style=\"text-align: right;\">\n",
       "      <th></th>\n",
       "      <th>Name</th>\n",
       "      <th>Marks</th>\n",
       "      <th>Age</th>\n",
       "    </tr>\n",
       "  </thead>\n",
       "  <tbody>\n",
       "    <tr>\n",
       "      <th>A</th>\n",
       "      <td>raj</td>\n",
       "      <td>78</td>\n",
       "      <td>23</td>\n",
       "    </tr>\n",
       "    <tr>\n",
       "      <th>B</th>\n",
       "      <td>suhas</td>\n",
       "      <td>85</td>\n",
       "      <td>21</td>\n",
       "    </tr>\n",
       "    <tr>\n",
       "      <th>C</th>\n",
       "      <td>akash</td>\n",
       "      <td>97</td>\n",
       "      <td>20</td>\n",
       "    </tr>\n",
       "  </tbody>\n",
       "</table>\n",
       "</div>"
      ],
      "text/plain": [
       "    Name  Marks  Age\n",
       "A    raj     78   23\n",
       "B  suhas     85   21\n",
       "C  akash     97   20"
      ]
     },
     "execution_count": 17,
     "metadata": {},
     "output_type": "execute_result"
    }
   ],
   "source": [
    "df"
   ]
  },
  {
   "cell_type": "code",
   "execution_count": 18,
   "id": "1626c367",
   "metadata": {},
   "outputs": [
    {
     "data": {
      "text/html": [
       "<div>\n",
       "<style scoped>\n",
       "    .dataframe tbody tr th:only-of-type {\n",
       "        vertical-align: middle;\n",
       "    }\n",
       "\n",
       "    .dataframe tbody tr th {\n",
       "        vertical-align: top;\n",
       "    }\n",
       "\n",
       "    .dataframe thead th {\n",
       "        text-align: right;\n",
       "    }\n",
       "</style>\n",
       "<table border=\"1\" class=\"dataframe\">\n",
       "  <thead>\n",
       "    <tr style=\"text-align: right;\">\n",
       "      <th></th>\n",
       "      <th>Name</th>\n",
       "      <th>Marks</th>\n",
       "      <th>Age</th>\n",
       "    </tr>\n",
       "  </thead>\n",
       "  <tbody>\n",
       "    <tr>\n",
       "      <th>A</th>\n",
       "      <td>raj</td>\n",
       "      <td>78</td>\n",
       "      <td>23</td>\n",
       "    </tr>\n",
       "    <tr>\n",
       "      <th>B</th>\n",
       "      <td>suhas</td>\n",
       "      <td>85</td>\n",
       "      <td>21</td>\n",
       "    </tr>\n",
       "  </tbody>\n",
       "</table>\n",
       "</div>"
      ],
      "text/plain": [
       "    Name  Marks  Age\n",
       "A    raj     78   23\n",
       "B  suhas     85   21"
      ]
     },
     "execution_count": 18,
     "metadata": {},
     "output_type": "execute_result"
    }
   ],
   "source": [
    "# Row slicing\n",
    "df.loc['A':'B']"
   ]
  },
  {
   "cell_type": "code",
   "execution_count": 19,
   "id": "7365c503",
   "metadata": {},
   "outputs": [
    {
     "data": {
      "text/html": [
       "<div>\n",
       "<style scoped>\n",
       "    .dataframe tbody tr th:only-of-type {\n",
       "        vertical-align: middle;\n",
       "    }\n",
       "\n",
       "    .dataframe tbody tr th {\n",
       "        vertical-align: top;\n",
       "    }\n",
       "\n",
       "    .dataframe thead th {\n",
       "        text-align: right;\n",
       "    }\n",
       "</style>\n",
       "<table border=\"1\" class=\"dataframe\">\n",
       "  <thead>\n",
       "    <tr style=\"text-align: right;\">\n",
       "      <th></th>\n",
       "      <th>Name</th>\n",
       "      <th>Marks</th>\n",
       "    </tr>\n",
       "  </thead>\n",
       "  <tbody>\n",
       "    <tr>\n",
       "      <th>A</th>\n",
       "      <td>raj</td>\n",
       "      <td>78</td>\n",
       "    </tr>\n",
       "    <tr>\n",
       "      <th>B</th>\n",
       "      <td>suhas</td>\n",
       "      <td>85</td>\n",
       "    </tr>\n",
       "    <tr>\n",
       "      <th>C</th>\n",
       "      <td>akash</td>\n",
       "      <td>97</td>\n",
       "    </tr>\n",
       "  </tbody>\n",
       "</table>\n",
       "</div>"
      ],
      "text/plain": [
       "    Name  Marks\n",
       "A    raj     78\n",
       "B  suhas     85\n",
       "C  akash     97"
      ]
     },
     "execution_count": 19,
     "metadata": {},
     "output_type": "execute_result"
    }
   ],
   "source": [
    "# Column slicing\n",
    "df.loc[:,'Name':'Marks']"
   ]
  },
  {
   "cell_type": "markdown",
   "id": "3acd5280",
   "metadata": {},
   "source": [
    "* Slicing with .iloc[] (position-based slicing)"
   ]
  },
  {
   "cell_type": "markdown",
   "id": "b22ab3bc",
   "metadata": {},
   "source": [
    "Syntax: df.iloc[start_row:end_row, start_column:end_column]"
   ]
  },
  {
   "cell_type": "code",
   "execution_count": 20,
   "id": "67024ed7",
   "metadata": {},
   "outputs": [
    {
     "data": {
      "text/html": [
       "<div>\n",
       "<style scoped>\n",
       "    .dataframe tbody tr th:only-of-type {\n",
       "        vertical-align: middle;\n",
       "    }\n",
       "\n",
       "    .dataframe tbody tr th {\n",
       "        vertical-align: top;\n",
       "    }\n",
       "\n",
       "    .dataframe thead th {\n",
       "        text-align: right;\n",
       "    }\n",
       "</style>\n",
       "<table border=\"1\" class=\"dataframe\">\n",
       "  <thead>\n",
       "    <tr style=\"text-align: right;\">\n",
       "      <th></th>\n",
       "      <th>Name</th>\n",
       "      <th>Marks</th>\n",
       "      <th>Age</th>\n",
       "    </tr>\n",
       "  </thead>\n",
       "  <tbody>\n",
       "    <tr>\n",
       "      <th>A</th>\n",
       "      <td>raj</td>\n",
       "      <td>78</td>\n",
       "      <td>23</td>\n",
       "    </tr>\n",
       "    <tr>\n",
       "      <th>B</th>\n",
       "      <td>suhas</td>\n",
       "      <td>85</td>\n",
       "      <td>21</td>\n",
       "    </tr>\n",
       "  </tbody>\n",
       "</table>\n",
       "</div>"
      ],
      "text/plain": [
       "    Name  Marks  Age\n",
       "A    raj     78   23\n",
       "B  suhas     85   21"
      ]
     },
     "execution_count": 20,
     "metadata": {},
     "output_type": "execute_result"
    }
   ],
   "source": [
    "# Rows slicing\n",
    "df.iloc[0:2]"
   ]
  },
  {
   "cell_type": "code",
   "execution_count": 21,
   "id": "340a8bd9",
   "metadata": {},
   "outputs": [
    {
     "data": {
      "text/html": [
       "<div>\n",
       "<style scoped>\n",
       "    .dataframe tbody tr th:only-of-type {\n",
       "        vertical-align: middle;\n",
       "    }\n",
       "\n",
       "    .dataframe tbody tr th {\n",
       "        vertical-align: top;\n",
       "    }\n",
       "\n",
       "    .dataframe thead th {\n",
       "        text-align: right;\n",
       "    }\n",
       "</style>\n",
       "<table border=\"1\" class=\"dataframe\">\n",
       "  <thead>\n",
       "    <tr style=\"text-align: right;\">\n",
       "      <th></th>\n",
       "      <th>Marks</th>\n",
       "      <th>Age</th>\n",
       "    </tr>\n",
       "  </thead>\n",
       "  <tbody>\n",
       "    <tr>\n",
       "      <th>A</th>\n",
       "      <td>78</td>\n",
       "      <td>23</td>\n",
       "    </tr>\n",
       "    <tr>\n",
       "      <th>B</th>\n",
       "      <td>85</td>\n",
       "      <td>21</td>\n",
       "    </tr>\n",
       "    <tr>\n",
       "      <th>C</th>\n",
       "      <td>97</td>\n",
       "      <td>20</td>\n",
       "    </tr>\n",
       "  </tbody>\n",
       "</table>\n",
       "</div>"
      ],
      "text/plain": [
       "   Marks  Age\n",
       "A     78   23\n",
       "B     85   21\n",
       "C     97   20"
      ]
     },
     "execution_count": 21,
     "metadata": {},
     "output_type": "execute_result"
    }
   ],
   "source": [
    "# Column slicing\n",
    "df.iloc[:,1:]"
   ]
  },
  {
   "cell_type": "markdown",
   "id": "3ea78abe",
   "metadata": {},
   "source": [
    "# Data Cleaning"
   ]
  },
  {
   "cell_type": "markdown",
   "id": "21bfe6ca",
   "metadata": {},
   "source": [
    "Data cleaning is an essential step in data preprocessing to ensure data is accurate, consistent, and ready for analysis. pandas privides powerful tools for handling missing values, duplicate data, incorrect formats, and inconsistenr values."
   ]
  },
  {
   "cell_type": "code",
   "execution_count": 22,
   "id": "ef9a1971",
   "metadata": {},
   "outputs": [
    {
     "data": {
      "text/html": [
       "<div>\n",
       "<style scoped>\n",
       "    .dataframe tbody tr th:only-of-type {\n",
       "        vertical-align: middle;\n",
       "    }\n",
       "\n",
       "    .dataframe tbody tr th {\n",
       "        vertical-align: top;\n",
       "    }\n",
       "\n",
       "    .dataframe thead th {\n",
       "        text-align: right;\n",
       "    }\n",
       "</style>\n",
       "<table border=\"1\" class=\"dataframe\">\n",
       "  <thead>\n",
       "    <tr style=\"text-align: right;\">\n",
       "      <th></th>\n",
       "      <th>Product_ID</th>\n",
       "      <th>Product_Name</th>\n",
       "      <th>Price</th>\n",
       "      <th>Launch_Date</th>\n",
       "      <th>Stock</th>\n",
       "      <th>Category</th>\n",
       "    </tr>\n",
       "  </thead>\n",
       "  <tbody>\n",
       "    <tr>\n",
       "      <th>0</th>\n",
       "      <td>101</td>\n",
       "      <td>iPhone 12</td>\n",
       "      <td>799.0</td>\n",
       "      <td>2020-10-23</td>\n",
       "      <td>50.0</td>\n",
       "      <td>Smartphone</td>\n",
       "    </tr>\n",
       "    <tr>\n",
       "      <th>1</th>\n",
       "      <td>102</td>\n",
       "      <td>iPhone 12</td>\n",
       "      <td>NaN</td>\n",
       "      <td>2020-10-23</td>\n",
       "      <td>30.0</td>\n",
       "      <td>Smartphone</td>\n",
       "    </tr>\n",
       "    <tr>\n",
       "      <th>2</th>\n",
       "      <td>103</td>\n",
       "      <td>MacBook Pro</td>\n",
       "      <td>1299.0</td>\n",
       "      <td>2020-11-10</td>\n",
       "      <td>20.0</td>\n",
       "      <td>Laptop</td>\n",
       "    </tr>\n",
       "    <tr>\n",
       "      <th>3</th>\n",
       "      <td>104</td>\n",
       "      <td>iPhone 13</td>\n",
       "      <td>999.0</td>\n",
       "      <td>2021-09-24</td>\n",
       "      <td>NaN</td>\n",
       "      <td>Smartphone</td>\n",
       "    </tr>\n",
       "    <tr>\n",
       "      <th>4</th>\n",
       "      <td>105</td>\n",
       "      <td>NaN</td>\n",
       "      <td>899.0</td>\n",
       "      <td>2021-09-24</td>\n",
       "      <td>40.0</td>\n",
       "      <td>Smartphone</td>\n",
       "    </tr>\n",
       "    <tr>\n",
       "      <th>5</th>\n",
       "      <td>106</td>\n",
       "      <td>iPad Pro</td>\n",
       "      <td>799.0</td>\n",
       "      <td>2021-04-30</td>\n",
       "      <td>100.0</td>\n",
       "      <td>Tablet</td>\n",
       "    </tr>\n",
       "  </tbody>\n",
       "</table>\n",
       "</div>"
      ],
      "text/plain": [
       "   Product_ID Product_Name   Price Launch_Date  Stock    Category\n",
       "0         101    iPhone 12   799.0  2020-10-23   50.0  Smartphone\n",
       "1         102    iPhone 12     NaN  2020-10-23   30.0  Smartphone\n",
       "2         103  MacBook Pro  1299.0  2020-11-10   20.0      Laptop\n",
       "3         104    iPhone 13   999.0  2021-09-24    NaN  Smartphone\n",
       "4         105          NaN   899.0  2021-09-24   40.0  Smartphone\n",
       "5         106     iPad Pro   799.0  2021-04-30  100.0      Tablet"
      ]
     },
     "execution_count": 22,
     "metadata": {},
     "output_type": "execute_result"
    }
   ],
   "source": [
    "# Sample data for Apple products\n",
    "import numpy as np \n",
    "\n",
    "data = {\n",
    "    'Product_ID': [101, 102, 103, 104, 105, 106],\n",
    "    'Product_Name': ['iPhone 12', 'iPhone 12', 'MacBook Pro', 'iPhone 13', np.nan, 'iPad Pro'],\n",
    "    'Price': [799, np.nan, 1299, 999, 899, 799],\n",
    "    'Launch_Date': ['2020-10-23', '2020-10-23', '2020-11-10', '2021-09-24', '2021-09-24', '2021-04-30'],\n",
    "    'Stock': [50, 30, 20, np.nan, 40, 100],\n",
    "    'Category': ['Smartphone', 'Smartphone', 'Laptop', 'Smartphone', 'Smartphone', 'Tablet']\n",
    "}\n",
    "\n",
    "# Create the DataFrame\n",
    "df = pd.DataFrame(data)\n",
    "df"
   ]
  },
  {
   "cell_type": "markdown",
   "id": "282e9e21",
   "metadata": {},
   "source": [
    "# > Detecting missing values"
   ]
  },
  {
   "cell_type": "markdown",
   "id": "e485de3f",
   "metadata": {},
   "source": [
    "* df.isnull():    Returns a DataFrame with True for missing values and False for non-missing values."
   ]
  },
  {
   "cell_type": "code",
   "execution_count": 23,
   "id": "5cba2122",
   "metadata": {},
   "outputs": [
    {
     "data": {
      "text/html": [
       "<div>\n",
       "<style scoped>\n",
       "    .dataframe tbody tr th:only-of-type {\n",
       "        vertical-align: middle;\n",
       "    }\n",
       "\n",
       "    .dataframe tbody tr th {\n",
       "        vertical-align: top;\n",
       "    }\n",
       "\n",
       "    .dataframe thead th {\n",
       "        text-align: right;\n",
       "    }\n",
       "</style>\n",
       "<table border=\"1\" class=\"dataframe\">\n",
       "  <thead>\n",
       "    <tr style=\"text-align: right;\">\n",
       "      <th></th>\n",
       "      <th>Product_ID</th>\n",
       "      <th>Product_Name</th>\n",
       "      <th>Price</th>\n",
       "      <th>Launch_Date</th>\n",
       "      <th>Stock</th>\n",
       "      <th>Category</th>\n",
       "    </tr>\n",
       "  </thead>\n",
       "  <tbody>\n",
       "    <tr>\n",
       "      <th>0</th>\n",
       "      <td>False</td>\n",
       "      <td>False</td>\n",
       "      <td>False</td>\n",
       "      <td>False</td>\n",
       "      <td>False</td>\n",
       "      <td>False</td>\n",
       "    </tr>\n",
       "    <tr>\n",
       "      <th>1</th>\n",
       "      <td>False</td>\n",
       "      <td>False</td>\n",
       "      <td>True</td>\n",
       "      <td>False</td>\n",
       "      <td>False</td>\n",
       "      <td>False</td>\n",
       "    </tr>\n",
       "    <tr>\n",
       "      <th>2</th>\n",
       "      <td>False</td>\n",
       "      <td>False</td>\n",
       "      <td>False</td>\n",
       "      <td>False</td>\n",
       "      <td>False</td>\n",
       "      <td>False</td>\n",
       "    </tr>\n",
       "    <tr>\n",
       "      <th>3</th>\n",
       "      <td>False</td>\n",
       "      <td>False</td>\n",
       "      <td>False</td>\n",
       "      <td>False</td>\n",
       "      <td>True</td>\n",
       "      <td>False</td>\n",
       "    </tr>\n",
       "    <tr>\n",
       "      <th>4</th>\n",
       "      <td>False</td>\n",
       "      <td>True</td>\n",
       "      <td>False</td>\n",
       "      <td>False</td>\n",
       "      <td>False</td>\n",
       "      <td>False</td>\n",
       "    </tr>\n",
       "    <tr>\n",
       "      <th>5</th>\n",
       "      <td>False</td>\n",
       "      <td>False</td>\n",
       "      <td>False</td>\n",
       "      <td>False</td>\n",
       "      <td>False</td>\n",
       "      <td>False</td>\n",
       "    </tr>\n",
       "  </tbody>\n",
       "</table>\n",
       "</div>"
      ],
      "text/plain": [
       "   Product_ID  Product_Name  Price  Launch_Date  Stock  Category\n",
       "0       False         False  False        False  False     False\n",
       "1       False         False   True        False  False     False\n",
       "2       False         False  False        False  False     False\n",
       "3       False         False  False        False   True     False\n",
       "4       False          True  False        False  False     False\n",
       "5       False         False  False        False  False     False"
      ]
     },
     "execution_count": 23,
     "metadata": {},
     "output_type": "execute_result"
    }
   ],
   "source": [
    "df.isnull()"
   ]
  },
  {
   "cell_type": "markdown",
   "id": "98caabcd",
   "metadata": {},
   "source": [
    "* df.isnull().sum():  Counts the numbers of missnig values in each columns.  "
   ]
  },
  {
   "cell_type": "code",
   "execution_count": 24,
   "id": "8c7a613f",
   "metadata": {},
   "outputs": [
    {
     "data": {
      "text/plain": [
       "Product_ID      0\n",
       "Product_Name    1\n",
       "Price           1\n",
       "Launch_Date     0\n",
       "Stock           1\n",
       "Category        0\n",
       "dtype: int64"
      ]
     },
     "execution_count": 24,
     "metadata": {},
     "output_type": "execute_result"
    }
   ],
   "source": [
    "df.isnull().sum()"
   ]
  },
  {
   "cell_type": "markdown",
   "id": "10e08d17",
   "metadata": {},
   "source": [
    "* df.notnull(): Returns True for non-missing values and False for missing values."
   ]
  },
  {
   "cell_type": "code",
   "execution_count": 25,
   "id": "7eff5f07",
   "metadata": {},
   "outputs": [
    {
     "data": {
      "text/html": [
       "<div>\n",
       "<style scoped>\n",
       "    .dataframe tbody tr th:only-of-type {\n",
       "        vertical-align: middle;\n",
       "    }\n",
       "\n",
       "    .dataframe tbody tr th {\n",
       "        vertical-align: top;\n",
       "    }\n",
       "\n",
       "    .dataframe thead th {\n",
       "        text-align: right;\n",
       "    }\n",
       "</style>\n",
       "<table border=\"1\" class=\"dataframe\">\n",
       "  <thead>\n",
       "    <tr style=\"text-align: right;\">\n",
       "      <th></th>\n",
       "      <th>Product_ID</th>\n",
       "      <th>Product_Name</th>\n",
       "      <th>Price</th>\n",
       "      <th>Launch_Date</th>\n",
       "      <th>Stock</th>\n",
       "      <th>Category</th>\n",
       "    </tr>\n",
       "  </thead>\n",
       "  <tbody>\n",
       "    <tr>\n",
       "      <th>0</th>\n",
       "      <td>True</td>\n",
       "      <td>True</td>\n",
       "      <td>True</td>\n",
       "      <td>True</td>\n",
       "      <td>True</td>\n",
       "      <td>True</td>\n",
       "    </tr>\n",
       "    <tr>\n",
       "      <th>1</th>\n",
       "      <td>True</td>\n",
       "      <td>True</td>\n",
       "      <td>False</td>\n",
       "      <td>True</td>\n",
       "      <td>True</td>\n",
       "      <td>True</td>\n",
       "    </tr>\n",
       "    <tr>\n",
       "      <th>2</th>\n",
       "      <td>True</td>\n",
       "      <td>True</td>\n",
       "      <td>True</td>\n",
       "      <td>True</td>\n",
       "      <td>True</td>\n",
       "      <td>True</td>\n",
       "    </tr>\n",
       "    <tr>\n",
       "      <th>3</th>\n",
       "      <td>True</td>\n",
       "      <td>True</td>\n",
       "      <td>True</td>\n",
       "      <td>True</td>\n",
       "      <td>False</td>\n",
       "      <td>True</td>\n",
       "    </tr>\n",
       "    <tr>\n",
       "      <th>4</th>\n",
       "      <td>True</td>\n",
       "      <td>False</td>\n",
       "      <td>True</td>\n",
       "      <td>True</td>\n",
       "      <td>True</td>\n",
       "      <td>True</td>\n",
       "    </tr>\n",
       "    <tr>\n",
       "      <th>5</th>\n",
       "      <td>True</td>\n",
       "      <td>True</td>\n",
       "      <td>True</td>\n",
       "      <td>True</td>\n",
       "      <td>True</td>\n",
       "      <td>True</td>\n",
       "    </tr>\n",
       "  </tbody>\n",
       "</table>\n",
       "</div>"
      ],
      "text/plain": [
       "   Product_ID  Product_Name  Price  Launch_Date  Stock  Category\n",
       "0        True          True   True         True   True      True\n",
       "1        True          True  False         True   True      True\n",
       "2        True          True   True         True   True      True\n",
       "3        True          True   True         True  False      True\n",
       "4        True         False   True         True   True      True\n",
       "5        True          True   True         True   True      True"
      ]
     },
     "execution_count": 25,
     "metadata": {},
     "output_type": "execute_result"
    }
   ],
   "source": [
    "df.notnull()"
   ]
  },
  {
   "cell_type": "markdown",
   "id": "dbadc210",
   "metadata": {},
   "source": [
    "# > Dropping missing values"
   ]
  },
  {
   "cell_type": "markdown",
   "id": "53fc5816",
   "metadata": {},
   "source": [
    "* df.dropna(): Removes rows with any missing values."
   ]
  },
  {
   "cell_type": "code",
   "execution_count": 26,
   "id": "2b46541a",
   "metadata": {},
   "outputs": [
    {
     "data": {
      "text/html": [
       "<div>\n",
       "<style scoped>\n",
       "    .dataframe tbody tr th:only-of-type {\n",
       "        vertical-align: middle;\n",
       "    }\n",
       "\n",
       "    .dataframe tbody tr th {\n",
       "        vertical-align: top;\n",
       "    }\n",
       "\n",
       "    .dataframe thead th {\n",
       "        text-align: right;\n",
       "    }\n",
       "</style>\n",
       "<table border=\"1\" class=\"dataframe\">\n",
       "  <thead>\n",
       "    <tr style=\"text-align: right;\">\n",
       "      <th></th>\n",
       "      <th>Product_ID</th>\n",
       "      <th>Product_Name</th>\n",
       "      <th>Price</th>\n",
       "      <th>Launch_Date</th>\n",
       "      <th>Stock</th>\n",
       "      <th>Category</th>\n",
       "    </tr>\n",
       "  </thead>\n",
       "  <tbody>\n",
       "    <tr>\n",
       "      <th>0</th>\n",
       "      <td>101</td>\n",
       "      <td>iPhone 12</td>\n",
       "      <td>799.0</td>\n",
       "      <td>2020-10-23</td>\n",
       "      <td>50.0</td>\n",
       "      <td>Smartphone</td>\n",
       "    </tr>\n",
       "    <tr>\n",
       "      <th>2</th>\n",
       "      <td>103</td>\n",
       "      <td>MacBook Pro</td>\n",
       "      <td>1299.0</td>\n",
       "      <td>2020-11-10</td>\n",
       "      <td>20.0</td>\n",
       "      <td>Laptop</td>\n",
       "    </tr>\n",
       "    <tr>\n",
       "      <th>5</th>\n",
       "      <td>106</td>\n",
       "      <td>iPad Pro</td>\n",
       "      <td>799.0</td>\n",
       "      <td>2021-04-30</td>\n",
       "      <td>100.0</td>\n",
       "      <td>Tablet</td>\n",
       "    </tr>\n",
       "  </tbody>\n",
       "</table>\n",
       "</div>"
      ],
      "text/plain": [
       "   Product_ID Product_Name   Price Launch_Date  Stock    Category\n",
       "0         101    iPhone 12   799.0  2020-10-23   50.0  Smartphone\n",
       "2         103  MacBook Pro  1299.0  2020-11-10   20.0      Laptop\n",
       "5         106     iPad Pro   799.0  2021-04-30  100.0      Tablet"
      ]
     },
     "execution_count": 26,
     "metadata": {},
     "output_type": "execute_result"
    }
   ],
   "source": [
    "df.dropna()"
   ]
  },
  {
   "cell_type": "markdown",
   "id": "0385c852",
   "metadata": {},
   "source": [
    "* df.dropna(axis=1): Removes columns with any missing values"
   ]
  },
  {
   "cell_type": "code",
   "execution_count": 27,
   "id": "cdec841a",
   "metadata": {},
   "outputs": [
    {
     "data": {
      "text/html": [
       "<div>\n",
       "<style scoped>\n",
       "    .dataframe tbody tr th:only-of-type {\n",
       "        vertical-align: middle;\n",
       "    }\n",
       "\n",
       "    .dataframe tbody tr th {\n",
       "        vertical-align: top;\n",
       "    }\n",
       "\n",
       "    .dataframe thead th {\n",
       "        text-align: right;\n",
       "    }\n",
       "</style>\n",
       "<table border=\"1\" class=\"dataframe\">\n",
       "  <thead>\n",
       "    <tr style=\"text-align: right;\">\n",
       "      <th></th>\n",
       "      <th>Product_ID</th>\n",
       "      <th>Launch_Date</th>\n",
       "      <th>Category</th>\n",
       "    </tr>\n",
       "  </thead>\n",
       "  <tbody>\n",
       "    <tr>\n",
       "      <th>0</th>\n",
       "      <td>101</td>\n",
       "      <td>2020-10-23</td>\n",
       "      <td>Smartphone</td>\n",
       "    </tr>\n",
       "    <tr>\n",
       "      <th>1</th>\n",
       "      <td>102</td>\n",
       "      <td>2020-10-23</td>\n",
       "      <td>Smartphone</td>\n",
       "    </tr>\n",
       "    <tr>\n",
       "      <th>2</th>\n",
       "      <td>103</td>\n",
       "      <td>2020-11-10</td>\n",
       "      <td>Laptop</td>\n",
       "    </tr>\n",
       "    <tr>\n",
       "      <th>3</th>\n",
       "      <td>104</td>\n",
       "      <td>2021-09-24</td>\n",
       "      <td>Smartphone</td>\n",
       "    </tr>\n",
       "    <tr>\n",
       "      <th>4</th>\n",
       "      <td>105</td>\n",
       "      <td>2021-09-24</td>\n",
       "      <td>Smartphone</td>\n",
       "    </tr>\n",
       "    <tr>\n",
       "      <th>5</th>\n",
       "      <td>106</td>\n",
       "      <td>2021-04-30</td>\n",
       "      <td>Tablet</td>\n",
       "    </tr>\n",
       "  </tbody>\n",
       "</table>\n",
       "</div>"
      ],
      "text/plain": [
       "   Product_ID Launch_Date    Category\n",
       "0         101  2020-10-23  Smartphone\n",
       "1         102  2020-10-23  Smartphone\n",
       "2         103  2020-11-10      Laptop\n",
       "3         104  2021-09-24  Smartphone\n",
       "4         105  2021-09-24  Smartphone\n",
       "5         106  2021-04-30      Tablet"
      ]
     },
     "execution_count": 27,
     "metadata": {},
     "output_type": "execute_result"
    }
   ],
   "source": [
    "df.dropna(axis=1)"
   ]
  },
  {
   "cell_type": "markdown",
   "id": "7feb297d",
   "metadata": {},
   "source": [
    "* df.dropna(subset=['Column']): Drops rows where a specific column has missing values."
   ]
  },
  {
   "cell_type": "code",
   "execution_count": 28,
   "id": "7ff1211a",
   "metadata": {},
   "outputs": [
    {
     "data": {
      "text/html": [
       "<div>\n",
       "<style scoped>\n",
       "    .dataframe tbody tr th:only-of-type {\n",
       "        vertical-align: middle;\n",
       "    }\n",
       "\n",
       "    .dataframe tbody tr th {\n",
       "        vertical-align: top;\n",
       "    }\n",
       "\n",
       "    .dataframe thead th {\n",
       "        text-align: right;\n",
       "    }\n",
       "</style>\n",
       "<table border=\"1\" class=\"dataframe\">\n",
       "  <thead>\n",
       "    <tr style=\"text-align: right;\">\n",
       "      <th></th>\n",
       "      <th>Product_ID</th>\n",
       "      <th>Product_Name</th>\n",
       "      <th>Price</th>\n",
       "      <th>Launch_Date</th>\n",
       "      <th>Stock</th>\n",
       "      <th>Category</th>\n",
       "    </tr>\n",
       "  </thead>\n",
       "  <tbody>\n",
       "    <tr>\n",
       "      <th>0</th>\n",
       "      <td>101</td>\n",
       "      <td>iPhone 12</td>\n",
       "      <td>799.0</td>\n",
       "      <td>2020-10-23</td>\n",
       "      <td>50.0</td>\n",
       "      <td>Smartphone</td>\n",
       "    </tr>\n",
       "    <tr>\n",
       "      <th>1</th>\n",
       "      <td>102</td>\n",
       "      <td>iPhone 12</td>\n",
       "      <td>NaN</td>\n",
       "      <td>2020-10-23</td>\n",
       "      <td>30.0</td>\n",
       "      <td>Smartphone</td>\n",
       "    </tr>\n",
       "    <tr>\n",
       "      <th>2</th>\n",
       "      <td>103</td>\n",
       "      <td>MacBook Pro</td>\n",
       "      <td>1299.0</td>\n",
       "      <td>2020-11-10</td>\n",
       "      <td>20.0</td>\n",
       "      <td>Laptop</td>\n",
       "    </tr>\n",
       "    <tr>\n",
       "      <th>5</th>\n",
       "      <td>106</td>\n",
       "      <td>iPad Pro</td>\n",
       "      <td>799.0</td>\n",
       "      <td>2021-04-30</td>\n",
       "      <td>100.0</td>\n",
       "      <td>Tablet</td>\n",
       "    </tr>\n",
       "  </tbody>\n",
       "</table>\n",
       "</div>"
      ],
      "text/plain": [
       "   Product_ID Product_Name   Price Launch_Date  Stock    Category\n",
       "0         101    iPhone 12   799.0  2020-10-23   50.0  Smartphone\n",
       "1         102    iPhone 12     NaN  2020-10-23   30.0  Smartphone\n",
       "2         103  MacBook Pro  1299.0  2020-11-10   20.0      Laptop\n",
       "5         106     iPad Pro   799.0  2021-04-30  100.0      Tablet"
      ]
     },
     "execution_count": 28,
     "metadata": {},
     "output_type": "execute_result"
    }
   ],
   "source": [
    "df.dropna(subset=['Product_Name','Stock'])"
   ]
  },
  {
   "cell_type": "markdown",
   "id": "09888e8b",
   "metadata": {},
   "source": [
    "# > Filling missing values"
   ]
  },
  {
   "cell_type": "markdown",
   "id": "521e4723",
   "metadata": {},
   "source": [
    "* df.fillna(value): Replace NaN with a specific value."
   ]
  },
  {
   "cell_type": "code",
   "execution_count": 29,
   "id": "6c56f879",
   "metadata": {},
   "outputs": [
    {
     "data": {
      "text/html": [
       "<div>\n",
       "<style scoped>\n",
       "    .dataframe tbody tr th:only-of-type {\n",
       "        vertical-align: middle;\n",
       "    }\n",
       "\n",
       "    .dataframe tbody tr th {\n",
       "        vertical-align: top;\n",
       "    }\n",
       "\n",
       "    .dataframe thead th {\n",
       "        text-align: right;\n",
       "    }\n",
       "</style>\n",
       "<table border=\"1\" class=\"dataframe\">\n",
       "  <thead>\n",
       "    <tr style=\"text-align: right;\">\n",
       "      <th></th>\n",
       "      <th>Product_ID</th>\n",
       "      <th>Product_Name</th>\n",
       "      <th>Price</th>\n",
       "      <th>Launch_Date</th>\n",
       "      <th>Stock</th>\n",
       "      <th>Category</th>\n",
       "    </tr>\n",
       "  </thead>\n",
       "  <tbody>\n",
       "    <tr>\n",
       "      <th>0</th>\n",
       "      <td>101</td>\n",
       "      <td>iPhone 12</td>\n",
       "      <td>799.0</td>\n",
       "      <td>2020-10-23</td>\n",
       "      <td>50.0</td>\n",
       "      <td>Smartphone</td>\n",
       "    </tr>\n",
       "    <tr>\n",
       "      <th>1</th>\n",
       "      <td>102</td>\n",
       "      <td>iPhone 12</td>\n",
       "      <td>78.0</td>\n",
       "      <td>2020-10-23</td>\n",
       "      <td>30.0</td>\n",
       "      <td>Smartphone</td>\n",
       "    </tr>\n",
       "    <tr>\n",
       "      <th>2</th>\n",
       "      <td>103</td>\n",
       "      <td>MacBook Pro</td>\n",
       "      <td>1299.0</td>\n",
       "      <td>2020-11-10</td>\n",
       "      <td>20.0</td>\n",
       "      <td>Laptop</td>\n",
       "    </tr>\n",
       "    <tr>\n",
       "      <th>3</th>\n",
       "      <td>104</td>\n",
       "      <td>iPhone 13</td>\n",
       "      <td>999.0</td>\n",
       "      <td>2021-09-24</td>\n",
       "      <td>78.0</td>\n",
       "      <td>Smartphone</td>\n",
       "    </tr>\n",
       "    <tr>\n",
       "      <th>4</th>\n",
       "      <td>105</td>\n",
       "      <td>78</td>\n",
       "      <td>899.0</td>\n",
       "      <td>2021-09-24</td>\n",
       "      <td>40.0</td>\n",
       "      <td>Smartphone</td>\n",
       "    </tr>\n",
       "    <tr>\n",
       "      <th>5</th>\n",
       "      <td>106</td>\n",
       "      <td>iPad Pro</td>\n",
       "      <td>799.0</td>\n",
       "      <td>2021-04-30</td>\n",
       "      <td>100.0</td>\n",
       "      <td>Tablet</td>\n",
       "    </tr>\n",
       "  </tbody>\n",
       "</table>\n",
       "</div>"
      ],
      "text/plain": [
       "   Product_ID Product_Name   Price Launch_Date  Stock    Category\n",
       "0         101    iPhone 12   799.0  2020-10-23   50.0  Smartphone\n",
       "1         102    iPhone 12    78.0  2020-10-23   30.0  Smartphone\n",
       "2         103  MacBook Pro  1299.0  2020-11-10   20.0      Laptop\n",
       "3         104    iPhone 13   999.0  2021-09-24   78.0  Smartphone\n",
       "4         105           78   899.0  2021-09-24   40.0  Smartphone\n",
       "5         106     iPad Pro   799.0  2021-04-30  100.0      Tablet"
      ]
     },
     "execution_count": 29,
     "metadata": {},
     "output_type": "execute_result"
    }
   ],
   "source": [
    "df.fillna(78)"
   ]
  },
  {
   "cell_type": "markdown",
   "id": "0d38fafd",
   "metadata": {},
   "source": [
    "* df[\"col\"].fillna(df['col'].mean()): Replace NaN with column mean"
   ]
  },
  {
   "cell_type": "code",
   "execution_count": 30,
   "id": "b2d4c75d",
   "metadata": {},
   "outputs": [
    {
     "data": {
      "text/html": [
       "<div>\n",
       "<style scoped>\n",
       "    .dataframe tbody tr th:only-of-type {\n",
       "        vertical-align: middle;\n",
       "    }\n",
       "\n",
       "    .dataframe tbody tr th {\n",
       "        vertical-align: top;\n",
       "    }\n",
       "\n",
       "    .dataframe thead th {\n",
       "        text-align: right;\n",
       "    }\n",
       "</style>\n",
       "<table border=\"1\" class=\"dataframe\">\n",
       "  <thead>\n",
       "    <tr style=\"text-align: right;\">\n",
       "      <th></th>\n",
       "      <th>Product_ID</th>\n",
       "      <th>Product_Name</th>\n",
       "      <th>Price</th>\n",
       "      <th>Launch_Date</th>\n",
       "      <th>Stock</th>\n",
       "      <th>Category</th>\n",
       "    </tr>\n",
       "  </thead>\n",
       "  <tbody>\n",
       "    <tr>\n",
       "      <th>0</th>\n",
       "      <td>101</td>\n",
       "      <td>iPhone 12</td>\n",
       "      <td>799.0</td>\n",
       "      <td>2020-10-23</td>\n",
       "      <td>50.0</td>\n",
       "      <td>Smartphone</td>\n",
       "    </tr>\n",
       "    <tr>\n",
       "      <th>1</th>\n",
       "      <td>102</td>\n",
       "      <td>iPhone 12</td>\n",
       "      <td>959.0</td>\n",
       "      <td>2020-10-23</td>\n",
       "      <td>30.0</td>\n",
       "      <td>Smartphone</td>\n",
       "    </tr>\n",
       "    <tr>\n",
       "      <th>2</th>\n",
       "      <td>103</td>\n",
       "      <td>MacBook Pro</td>\n",
       "      <td>1299.0</td>\n",
       "      <td>2020-11-10</td>\n",
       "      <td>20.0</td>\n",
       "      <td>Laptop</td>\n",
       "    </tr>\n",
       "    <tr>\n",
       "      <th>3</th>\n",
       "      <td>104</td>\n",
       "      <td>iPhone 13</td>\n",
       "      <td>999.0</td>\n",
       "      <td>2021-09-24</td>\n",
       "      <td>959.0</td>\n",
       "      <td>Smartphone</td>\n",
       "    </tr>\n",
       "    <tr>\n",
       "      <th>4</th>\n",
       "      <td>105</td>\n",
       "      <td>959.0</td>\n",
       "      <td>899.0</td>\n",
       "      <td>2021-09-24</td>\n",
       "      <td>40.0</td>\n",
       "      <td>Smartphone</td>\n",
       "    </tr>\n",
       "    <tr>\n",
       "      <th>5</th>\n",
       "      <td>106</td>\n",
       "      <td>iPad Pro</td>\n",
       "      <td>799.0</td>\n",
       "      <td>2021-04-30</td>\n",
       "      <td>100.0</td>\n",
       "      <td>Tablet</td>\n",
       "    </tr>\n",
       "  </tbody>\n",
       "</table>\n",
       "</div>"
      ],
      "text/plain": [
       "   Product_ID Product_Name   Price Launch_Date  Stock    Category\n",
       "0         101    iPhone 12   799.0  2020-10-23   50.0  Smartphone\n",
       "1         102    iPhone 12   959.0  2020-10-23   30.0  Smartphone\n",
       "2         103  MacBook Pro  1299.0  2020-11-10   20.0      Laptop\n",
       "3         104    iPhone 13   999.0  2021-09-24  959.0  Smartphone\n",
       "4         105        959.0   899.0  2021-09-24   40.0  Smartphone\n",
       "5         106     iPad Pro   799.0  2021-04-30  100.0      Tablet"
      ]
     },
     "execution_count": 30,
     "metadata": {},
     "output_type": "execute_result"
    }
   ],
   "source": [
    "df.fillna(df['Price'].mean())"
   ]
  },
  {
   "cell_type": "markdown",
   "id": "07e6bd96",
   "metadata": {},
   "source": [
    "* df.fillna(method='ffill'): Forward fill (Use previos value). "
   ]
  },
  {
   "cell_type": "code",
   "execution_count": 31,
   "id": "3fada6db",
   "metadata": {},
   "outputs": [
    {
     "data": {
      "text/html": [
       "<div>\n",
       "<style scoped>\n",
       "    .dataframe tbody tr th:only-of-type {\n",
       "        vertical-align: middle;\n",
       "    }\n",
       "\n",
       "    .dataframe tbody tr th {\n",
       "        vertical-align: top;\n",
       "    }\n",
       "\n",
       "    .dataframe thead th {\n",
       "        text-align: right;\n",
       "    }\n",
       "</style>\n",
       "<table border=\"1\" class=\"dataframe\">\n",
       "  <thead>\n",
       "    <tr style=\"text-align: right;\">\n",
       "      <th></th>\n",
       "      <th>Product_ID</th>\n",
       "      <th>Product_Name</th>\n",
       "      <th>Price</th>\n",
       "      <th>Launch_Date</th>\n",
       "      <th>Stock</th>\n",
       "      <th>Category</th>\n",
       "    </tr>\n",
       "  </thead>\n",
       "  <tbody>\n",
       "    <tr>\n",
       "      <th>0</th>\n",
       "      <td>101</td>\n",
       "      <td>iPhone 12</td>\n",
       "      <td>799.0</td>\n",
       "      <td>2020-10-23</td>\n",
       "      <td>50.0</td>\n",
       "      <td>Smartphone</td>\n",
       "    </tr>\n",
       "    <tr>\n",
       "      <th>1</th>\n",
       "      <td>102</td>\n",
       "      <td>iPhone 12</td>\n",
       "      <td>799.0</td>\n",
       "      <td>2020-10-23</td>\n",
       "      <td>30.0</td>\n",
       "      <td>Smartphone</td>\n",
       "    </tr>\n",
       "    <tr>\n",
       "      <th>2</th>\n",
       "      <td>103</td>\n",
       "      <td>MacBook Pro</td>\n",
       "      <td>1299.0</td>\n",
       "      <td>2020-11-10</td>\n",
       "      <td>20.0</td>\n",
       "      <td>Laptop</td>\n",
       "    </tr>\n",
       "    <tr>\n",
       "      <th>3</th>\n",
       "      <td>104</td>\n",
       "      <td>iPhone 13</td>\n",
       "      <td>999.0</td>\n",
       "      <td>2021-09-24</td>\n",
       "      <td>20.0</td>\n",
       "      <td>Smartphone</td>\n",
       "    </tr>\n",
       "    <tr>\n",
       "      <th>4</th>\n",
       "      <td>105</td>\n",
       "      <td>iPhone 13</td>\n",
       "      <td>899.0</td>\n",
       "      <td>2021-09-24</td>\n",
       "      <td>40.0</td>\n",
       "      <td>Smartphone</td>\n",
       "    </tr>\n",
       "    <tr>\n",
       "      <th>5</th>\n",
       "      <td>106</td>\n",
       "      <td>iPad Pro</td>\n",
       "      <td>799.0</td>\n",
       "      <td>2021-04-30</td>\n",
       "      <td>100.0</td>\n",
       "      <td>Tablet</td>\n",
       "    </tr>\n",
       "  </tbody>\n",
       "</table>\n",
       "</div>"
      ],
      "text/plain": [
       "   Product_ID Product_Name   Price Launch_Date  Stock    Category\n",
       "0         101    iPhone 12   799.0  2020-10-23   50.0  Smartphone\n",
       "1         102    iPhone 12   799.0  2020-10-23   30.0  Smartphone\n",
       "2         103  MacBook Pro  1299.0  2020-11-10   20.0      Laptop\n",
       "3         104    iPhone 13   999.0  2021-09-24   20.0  Smartphone\n",
       "4         105    iPhone 13   899.0  2021-09-24   40.0  Smartphone\n",
       "5         106     iPad Pro   799.0  2021-04-30  100.0      Tablet"
      ]
     },
     "execution_count": 31,
     "metadata": {},
     "output_type": "execute_result"
    }
   ],
   "source": [
    "df.fillna(method='ffill')"
   ]
  },
  {
   "cell_type": "markdown",
   "id": "6469d3b3",
   "metadata": {},
   "source": [
    "* df.fillna(method='bfill'): Backward fill (Use next value)."
   ]
  },
  {
   "cell_type": "code",
   "execution_count": 32,
   "id": "a36da903",
   "metadata": {},
   "outputs": [
    {
     "data": {
      "text/html": [
       "<div>\n",
       "<style scoped>\n",
       "    .dataframe tbody tr th:only-of-type {\n",
       "        vertical-align: middle;\n",
       "    }\n",
       "\n",
       "    .dataframe tbody tr th {\n",
       "        vertical-align: top;\n",
       "    }\n",
       "\n",
       "    .dataframe thead th {\n",
       "        text-align: right;\n",
       "    }\n",
       "</style>\n",
       "<table border=\"1\" class=\"dataframe\">\n",
       "  <thead>\n",
       "    <tr style=\"text-align: right;\">\n",
       "      <th></th>\n",
       "      <th>Product_ID</th>\n",
       "      <th>Product_Name</th>\n",
       "      <th>Price</th>\n",
       "      <th>Launch_Date</th>\n",
       "      <th>Stock</th>\n",
       "      <th>Category</th>\n",
       "    </tr>\n",
       "  </thead>\n",
       "  <tbody>\n",
       "    <tr>\n",
       "      <th>0</th>\n",
       "      <td>101</td>\n",
       "      <td>iPhone 12</td>\n",
       "      <td>799.0</td>\n",
       "      <td>2020-10-23</td>\n",
       "      <td>50.0</td>\n",
       "      <td>Smartphone</td>\n",
       "    </tr>\n",
       "    <tr>\n",
       "      <th>1</th>\n",
       "      <td>102</td>\n",
       "      <td>iPhone 12</td>\n",
       "      <td>1299.0</td>\n",
       "      <td>2020-10-23</td>\n",
       "      <td>30.0</td>\n",
       "      <td>Smartphone</td>\n",
       "    </tr>\n",
       "    <tr>\n",
       "      <th>2</th>\n",
       "      <td>103</td>\n",
       "      <td>MacBook Pro</td>\n",
       "      <td>1299.0</td>\n",
       "      <td>2020-11-10</td>\n",
       "      <td>20.0</td>\n",
       "      <td>Laptop</td>\n",
       "    </tr>\n",
       "    <tr>\n",
       "      <th>3</th>\n",
       "      <td>104</td>\n",
       "      <td>iPhone 13</td>\n",
       "      <td>999.0</td>\n",
       "      <td>2021-09-24</td>\n",
       "      <td>40.0</td>\n",
       "      <td>Smartphone</td>\n",
       "    </tr>\n",
       "    <tr>\n",
       "      <th>4</th>\n",
       "      <td>105</td>\n",
       "      <td>iPad Pro</td>\n",
       "      <td>899.0</td>\n",
       "      <td>2021-09-24</td>\n",
       "      <td>40.0</td>\n",
       "      <td>Smartphone</td>\n",
       "    </tr>\n",
       "    <tr>\n",
       "      <th>5</th>\n",
       "      <td>106</td>\n",
       "      <td>iPad Pro</td>\n",
       "      <td>799.0</td>\n",
       "      <td>2021-04-30</td>\n",
       "      <td>100.0</td>\n",
       "      <td>Tablet</td>\n",
       "    </tr>\n",
       "  </tbody>\n",
       "</table>\n",
       "</div>"
      ],
      "text/plain": [
       "   Product_ID Product_Name   Price Launch_Date  Stock    Category\n",
       "0         101    iPhone 12   799.0  2020-10-23   50.0  Smartphone\n",
       "1         102    iPhone 12  1299.0  2020-10-23   30.0  Smartphone\n",
       "2         103  MacBook Pro  1299.0  2020-11-10   20.0      Laptop\n",
       "3         104    iPhone 13   999.0  2021-09-24   40.0  Smartphone\n",
       "4         105     iPad Pro   899.0  2021-09-24   40.0  Smartphone\n",
       "5         106     iPad Pro   799.0  2021-04-30  100.0      Tablet"
      ]
     },
     "execution_count": 32,
     "metadata": {},
     "output_type": "execute_result"
    }
   ],
   "source": [
    "df.fillna(method='bfill')"
   ]
  },
  {
   "cell_type": "markdown",
   "id": "b730aabb",
   "metadata": {},
   "source": [
    "# > Renaming in Pandas"
   ]
  },
  {
   "cell_type": "markdown",
   "id": "7e0ed9cc",
   "metadata": {},
   "source": [
    "Renaming in pandas helps to modify column and index names to improve data readability and consistency."
   ]
  },
  {
   "cell_type": "markdown",
   "id": "d0c77e7b",
   "metadata": {},
   "source": [
    "Renaming specific columns:  \n",
    "    \n",
    "    * df.rename(columns={'old_name':'new_name'}) : Rename a specific column.\n",
    "    * df.rename(columns={'old1':'new1','old2':'new2'}) : Rename multiple column.\n",
    "    * df.rename(columns={'old':'new'},inplace=True) : update the DataFrame directly."
   ]
  },
  {
   "cell_type": "code",
   "execution_count": 33,
   "id": "affcea0b",
   "metadata": {},
   "outputs": [
    {
     "data": {
      "text/html": [
       "<div>\n",
       "<style scoped>\n",
       "    .dataframe tbody tr th:only-of-type {\n",
       "        vertical-align: middle;\n",
       "    }\n",
       "\n",
       "    .dataframe tbody tr th {\n",
       "        vertical-align: top;\n",
       "    }\n",
       "\n",
       "    .dataframe thead th {\n",
       "        text-align: right;\n",
       "    }\n",
       "</style>\n",
       "<table border=\"1\" class=\"dataframe\">\n",
       "  <thead>\n",
       "    <tr style=\"text-align: right;\">\n",
       "      <th></th>\n",
       "      <th>Id</th>\n",
       "      <th>Product_Name</th>\n",
       "      <th>Price</th>\n",
       "      <th>Launch_Date</th>\n",
       "      <th>Stock</th>\n",
       "      <th>Category</th>\n",
       "    </tr>\n",
       "  </thead>\n",
       "  <tbody>\n",
       "    <tr>\n",
       "      <th>0</th>\n",
       "      <td>101</td>\n",
       "      <td>iPhone 12</td>\n",
       "      <td>799.0</td>\n",
       "      <td>2020-10-23</td>\n",
       "      <td>50.0</td>\n",
       "      <td>Smartphone</td>\n",
       "    </tr>\n",
       "    <tr>\n",
       "      <th>1</th>\n",
       "      <td>102</td>\n",
       "      <td>iPhone 12</td>\n",
       "      <td>NaN</td>\n",
       "      <td>2020-10-23</td>\n",
       "      <td>30.0</td>\n",
       "      <td>Smartphone</td>\n",
       "    </tr>\n",
       "    <tr>\n",
       "      <th>2</th>\n",
       "      <td>103</td>\n",
       "      <td>MacBook Pro</td>\n",
       "      <td>1299.0</td>\n",
       "      <td>2020-11-10</td>\n",
       "      <td>20.0</td>\n",
       "      <td>Laptop</td>\n",
       "    </tr>\n",
       "    <tr>\n",
       "      <th>3</th>\n",
       "      <td>104</td>\n",
       "      <td>iPhone 13</td>\n",
       "      <td>999.0</td>\n",
       "      <td>2021-09-24</td>\n",
       "      <td>NaN</td>\n",
       "      <td>Smartphone</td>\n",
       "    </tr>\n",
       "    <tr>\n",
       "      <th>4</th>\n",
       "      <td>105</td>\n",
       "      <td>NaN</td>\n",
       "      <td>899.0</td>\n",
       "      <td>2021-09-24</td>\n",
       "      <td>40.0</td>\n",
       "      <td>Smartphone</td>\n",
       "    </tr>\n",
       "    <tr>\n",
       "      <th>5</th>\n",
       "      <td>106</td>\n",
       "      <td>iPad Pro</td>\n",
       "      <td>799.0</td>\n",
       "      <td>2021-04-30</td>\n",
       "      <td>100.0</td>\n",
       "      <td>Tablet</td>\n",
       "    </tr>\n",
       "  </tbody>\n",
       "</table>\n",
       "</div>"
      ],
      "text/plain": [
       "    Id Product_Name   Price Launch_Date  Stock    Category\n",
       "0  101    iPhone 12   799.0  2020-10-23   50.0  Smartphone\n",
       "1  102    iPhone 12     NaN  2020-10-23   30.0  Smartphone\n",
       "2  103  MacBook Pro  1299.0  2020-11-10   20.0      Laptop\n",
       "3  104    iPhone 13   999.0  2021-09-24    NaN  Smartphone\n",
       "4  105          NaN   899.0  2021-09-24   40.0  Smartphone\n",
       "5  106     iPad Pro   799.0  2021-04-30  100.0      Tablet"
      ]
     },
     "execution_count": 33,
     "metadata": {},
     "output_type": "execute_result"
    }
   ],
   "source": [
    "df.rename(columns={'Product_ID':'Id'})"
   ]
  },
  {
   "cell_type": "code",
   "execution_count": 34,
   "id": "efdc1e96",
   "metadata": {},
   "outputs": [
    {
     "data": {
      "text/html": [
       "<div>\n",
       "<style scoped>\n",
       "    .dataframe tbody tr th:only-of-type {\n",
       "        vertical-align: middle;\n",
       "    }\n",
       "\n",
       "    .dataframe tbody tr th {\n",
       "        vertical-align: top;\n",
       "    }\n",
       "\n",
       "    .dataframe thead th {\n",
       "        text-align: right;\n",
       "    }\n",
       "</style>\n",
       "<table border=\"1\" class=\"dataframe\">\n",
       "  <thead>\n",
       "    <tr style=\"text-align: right;\">\n",
       "      <th></th>\n",
       "      <th>Id</th>\n",
       "      <th>Name</th>\n",
       "      <th>Price</th>\n",
       "      <th>Launch_Date</th>\n",
       "      <th>Stock</th>\n",
       "      <th>Category</th>\n",
       "    </tr>\n",
       "  </thead>\n",
       "  <tbody>\n",
       "    <tr>\n",
       "      <th>0</th>\n",
       "      <td>101</td>\n",
       "      <td>iPhone 12</td>\n",
       "      <td>799.0</td>\n",
       "      <td>2020-10-23</td>\n",
       "      <td>50.0</td>\n",
       "      <td>Smartphone</td>\n",
       "    </tr>\n",
       "    <tr>\n",
       "      <th>1</th>\n",
       "      <td>102</td>\n",
       "      <td>iPhone 12</td>\n",
       "      <td>NaN</td>\n",
       "      <td>2020-10-23</td>\n",
       "      <td>30.0</td>\n",
       "      <td>Smartphone</td>\n",
       "    </tr>\n",
       "    <tr>\n",
       "      <th>2</th>\n",
       "      <td>103</td>\n",
       "      <td>MacBook Pro</td>\n",
       "      <td>1299.0</td>\n",
       "      <td>2020-11-10</td>\n",
       "      <td>20.0</td>\n",
       "      <td>Laptop</td>\n",
       "    </tr>\n",
       "    <tr>\n",
       "      <th>3</th>\n",
       "      <td>104</td>\n",
       "      <td>iPhone 13</td>\n",
       "      <td>999.0</td>\n",
       "      <td>2021-09-24</td>\n",
       "      <td>NaN</td>\n",
       "      <td>Smartphone</td>\n",
       "    </tr>\n",
       "    <tr>\n",
       "      <th>4</th>\n",
       "      <td>105</td>\n",
       "      <td>NaN</td>\n",
       "      <td>899.0</td>\n",
       "      <td>2021-09-24</td>\n",
       "      <td>40.0</td>\n",
       "      <td>Smartphone</td>\n",
       "    </tr>\n",
       "    <tr>\n",
       "      <th>5</th>\n",
       "      <td>106</td>\n",
       "      <td>iPad Pro</td>\n",
       "      <td>799.0</td>\n",
       "      <td>2021-04-30</td>\n",
       "      <td>100.0</td>\n",
       "      <td>Tablet</td>\n",
       "    </tr>\n",
       "  </tbody>\n",
       "</table>\n",
       "</div>"
      ],
      "text/plain": [
       "    Id         Name   Price Launch_Date  Stock    Category\n",
       "0  101    iPhone 12   799.0  2020-10-23   50.0  Smartphone\n",
       "1  102    iPhone 12     NaN  2020-10-23   30.0  Smartphone\n",
       "2  103  MacBook Pro  1299.0  2020-11-10   20.0      Laptop\n",
       "3  104    iPhone 13   999.0  2021-09-24    NaN  Smartphone\n",
       "4  105          NaN   899.0  2021-09-24   40.0  Smartphone\n",
       "5  106     iPad Pro   799.0  2021-04-30  100.0      Tablet"
      ]
     },
     "execution_count": 34,
     "metadata": {},
     "output_type": "execute_result"
    }
   ],
   "source": [
    "df.rename(columns={'Product_ID':'Id','Product_Name':'Name'})"
   ]
  },
  {
   "cell_type": "code",
   "execution_count": 35,
   "id": "64cad4d1",
   "metadata": {},
   "outputs": [
    {
     "data": {
      "text/html": [
       "<div>\n",
       "<style scoped>\n",
       "    .dataframe tbody tr th:only-of-type {\n",
       "        vertical-align: middle;\n",
       "    }\n",
       "\n",
       "    .dataframe tbody tr th {\n",
       "        vertical-align: top;\n",
       "    }\n",
       "\n",
       "    .dataframe thead th {\n",
       "        text-align: right;\n",
       "    }\n",
       "</style>\n",
       "<table border=\"1\" class=\"dataframe\">\n",
       "  <thead>\n",
       "    <tr style=\"text-align: right;\">\n",
       "      <th></th>\n",
       "      <th>Id</th>\n",
       "      <th>Product_Name</th>\n",
       "      <th>Price</th>\n",
       "      <th>Launch_Date</th>\n",
       "      <th>Stock</th>\n",
       "      <th>Category</th>\n",
       "    </tr>\n",
       "  </thead>\n",
       "  <tbody>\n",
       "    <tr>\n",
       "      <th>0</th>\n",
       "      <td>101</td>\n",
       "      <td>iPhone 12</td>\n",
       "      <td>799.0</td>\n",
       "      <td>2020-10-23</td>\n",
       "      <td>50.0</td>\n",
       "      <td>Smartphone</td>\n",
       "    </tr>\n",
       "    <tr>\n",
       "      <th>1</th>\n",
       "      <td>102</td>\n",
       "      <td>iPhone 12</td>\n",
       "      <td>NaN</td>\n",
       "      <td>2020-10-23</td>\n",
       "      <td>30.0</td>\n",
       "      <td>Smartphone</td>\n",
       "    </tr>\n",
       "    <tr>\n",
       "      <th>2</th>\n",
       "      <td>103</td>\n",
       "      <td>MacBook Pro</td>\n",
       "      <td>1299.0</td>\n",
       "      <td>2020-11-10</td>\n",
       "      <td>20.0</td>\n",
       "      <td>Laptop</td>\n",
       "    </tr>\n",
       "    <tr>\n",
       "      <th>3</th>\n",
       "      <td>104</td>\n",
       "      <td>iPhone 13</td>\n",
       "      <td>999.0</td>\n",
       "      <td>2021-09-24</td>\n",
       "      <td>NaN</td>\n",
       "      <td>Smartphone</td>\n",
       "    </tr>\n",
       "    <tr>\n",
       "      <th>4</th>\n",
       "      <td>105</td>\n",
       "      <td>NaN</td>\n",
       "      <td>899.0</td>\n",
       "      <td>2021-09-24</td>\n",
       "      <td>40.0</td>\n",
       "      <td>Smartphone</td>\n",
       "    </tr>\n",
       "    <tr>\n",
       "      <th>5</th>\n",
       "      <td>106</td>\n",
       "      <td>iPad Pro</td>\n",
       "      <td>799.0</td>\n",
       "      <td>2021-04-30</td>\n",
       "      <td>100.0</td>\n",
       "      <td>Tablet</td>\n",
       "    </tr>\n",
       "  </tbody>\n",
       "</table>\n",
       "</div>"
      ],
      "text/plain": [
       "    Id Product_Name   Price Launch_Date  Stock    Category\n",
       "0  101    iPhone 12   799.0  2020-10-23   50.0  Smartphone\n",
       "1  102    iPhone 12     NaN  2020-10-23   30.0  Smartphone\n",
       "2  103  MacBook Pro  1299.0  2020-11-10   20.0      Laptop\n",
       "3  104    iPhone 13   999.0  2021-09-24    NaN  Smartphone\n",
       "4  105          NaN   899.0  2021-09-24   40.0  Smartphone\n",
       "5  106     iPad Pro   799.0  2021-04-30  100.0      Tablet"
      ]
     },
     "execution_count": 35,
     "metadata": {},
     "output_type": "execute_result"
    }
   ],
   "source": [
    "df.rename(columns={'Product_ID':'Id'},inplace=True)\n",
    "df"
   ]
  },
  {
   "cell_type": "markdown",
   "id": "a291ada9",
   "metadata": {},
   "source": [
    "Rename all columns:  \n",
    "* df.columns = ['new1','new2','new3'] : Assign new names to all columns."
   ]
  },
  {
   "cell_type": "code",
   "execution_count": 36,
   "id": "430fba3d",
   "metadata": {},
   "outputs": [
    {
     "data": {
      "text/html": [
       "<div>\n",
       "<style scoped>\n",
       "    .dataframe tbody tr th:only-of-type {\n",
       "        vertical-align: middle;\n",
       "    }\n",
       "\n",
       "    .dataframe tbody tr th {\n",
       "        vertical-align: top;\n",
       "    }\n",
       "\n",
       "    .dataframe thead th {\n",
       "        text-align: right;\n",
       "    }\n",
       "</style>\n",
       "<table border=\"1\" class=\"dataframe\">\n",
       "  <thead>\n",
       "    <tr style=\"text-align: right;\">\n",
       "      <th></th>\n",
       "      <th>A</th>\n",
       "      <th>B</th>\n",
       "      <th>C</th>\n",
       "      <th>D</th>\n",
       "      <th>E</th>\n",
       "      <th>F</th>\n",
       "    </tr>\n",
       "  </thead>\n",
       "  <tbody>\n",
       "    <tr>\n",
       "      <th>0</th>\n",
       "      <td>101</td>\n",
       "      <td>iPhone 12</td>\n",
       "      <td>799.0</td>\n",
       "      <td>2020-10-23</td>\n",
       "      <td>50.0</td>\n",
       "      <td>Smartphone</td>\n",
       "    </tr>\n",
       "    <tr>\n",
       "      <th>1</th>\n",
       "      <td>102</td>\n",
       "      <td>iPhone 12</td>\n",
       "      <td>NaN</td>\n",
       "      <td>2020-10-23</td>\n",
       "      <td>30.0</td>\n",
       "      <td>Smartphone</td>\n",
       "    </tr>\n",
       "    <tr>\n",
       "      <th>2</th>\n",
       "      <td>103</td>\n",
       "      <td>MacBook Pro</td>\n",
       "      <td>1299.0</td>\n",
       "      <td>2020-11-10</td>\n",
       "      <td>20.0</td>\n",
       "      <td>Laptop</td>\n",
       "    </tr>\n",
       "    <tr>\n",
       "      <th>3</th>\n",
       "      <td>104</td>\n",
       "      <td>iPhone 13</td>\n",
       "      <td>999.0</td>\n",
       "      <td>2021-09-24</td>\n",
       "      <td>NaN</td>\n",
       "      <td>Smartphone</td>\n",
       "    </tr>\n",
       "    <tr>\n",
       "      <th>4</th>\n",
       "      <td>105</td>\n",
       "      <td>NaN</td>\n",
       "      <td>899.0</td>\n",
       "      <td>2021-09-24</td>\n",
       "      <td>40.0</td>\n",
       "      <td>Smartphone</td>\n",
       "    </tr>\n",
       "    <tr>\n",
       "      <th>5</th>\n",
       "      <td>106</td>\n",
       "      <td>iPad Pro</td>\n",
       "      <td>799.0</td>\n",
       "      <td>2021-04-30</td>\n",
       "      <td>100.0</td>\n",
       "      <td>Tablet</td>\n",
       "    </tr>\n",
       "  </tbody>\n",
       "</table>\n",
       "</div>"
      ],
      "text/plain": [
       "     A            B       C           D      E           F\n",
       "0  101    iPhone 12   799.0  2020-10-23   50.0  Smartphone\n",
       "1  102    iPhone 12     NaN  2020-10-23   30.0  Smartphone\n",
       "2  103  MacBook Pro  1299.0  2020-11-10   20.0      Laptop\n",
       "3  104    iPhone 13   999.0  2021-09-24    NaN  Smartphone\n",
       "4  105          NaN   899.0  2021-09-24   40.0  Smartphone\n",
       "5  106     iPad Pro   799.0  2021-04-30  100.0      Tablet"
      ]
     },
     "execution_count": 36,
     "metadata": {},
     "output_type": "execute_result"
    }
   ],
   "source": [
    "df.columns = [\"A\",\"B\",\"C\",\"D\",\"E\",\"F\"]\n",
    "df"
   ]
  },
  {
   "cell_type": "markdown",
   "id": "5e311e21",
   "metadata": {},
   "source": [
    "Rename specific index (rows) values\n",
    "* df.rename(index={old:new}) : Rename specific index labels."
   ]
  },
  {
   "cell_type": "code",
   "execution_count": 37,
   "id": "81888142",
   "metadata": {},
   "outputs": [
    {
     "data": {
      "text/html": [
       "<div>\n",
       "<style scoped>\n",
       "    .dataframe tbody tr th:only-of-type {\n",
       "        vertical-align: middle;\n",
       "    }\n",
       "\n",
       "    .dataframe tbody tr th {\n",
       "        vertical-align: top;\n",
       "    }\n",
       "\n",
       "    .dataframe thead th {\n",
       "        text-align: right;\n",
       "    }\n",
       "</style>\n",
       "<table border=\"1\" class=\"dataframe\">\n",
       "  <thead>\n",
       "    <tr style=\"text-align: right;\">\n",
       "      <th></th>\n",
       "      <th>A</th>\n",
       "      <th>B</th>\n",
       "      <th>C</th>\n",
       "      <th>D</th>\n",
       "      <th>E</th>\n",
       "      <th>F</th>\n",
       "    </tr>\n",
       "  </thead>\n",
       "  <tbody>\n",
       "    <tr>\n",
       "      <th>0</th>\n",
       "      <td>101</td>\n",
       "      <td>iPhone 12</td>\n",
       "      <td>799.0</td>\n",
       "      <td>2020-10-23</td>\n",
       "      <td>50.0</td>\n",
       "      <td>Smartphone</td>\n",
       "    </tr>\n",
       "    <tr>\n",
       "      <th>B</th>\n",
       "      <td>102</td>\n",
       "      <td>iPhone 12</td>\n",
       "      <td>NaN</td>\n",
       "      <td>2020-10-23</td>\n",
       "      <td>30.0</td>\n",
       "      <td>Smartphone</td>\n",
       "    </tr>\n",
       "    <tr>\n",
       "      <th>2</th>\n",
       "      <td>103</td>\n",
       "      <td>MacBook Pro</td>\n",
       "      <td>1299.0</td>\n",
       "      <td>2020-11-10</td>\n",
       "      <td>20.0</td>\n",
       "      <td>Laptop</td>\n",
       "    </tr>\n",
       "    <tr>\n",
       "      <th>3</th>\n",
       "      <td>104</td>\n",
       "      <td>iPhone 13</td>\n",
       "      <td>999.0</td>\n",
       "      <td>2021-09-24</td>\n",
       "      <td>NaN</td>\n",
       "      <td>Smartphone</td>\n",
       "    </tr>\n",
       "    <tr>\n",
       "      <th>4</th>\n",
       "      <td>105</td>\n",
       "      <td>NaN</td>\n",
       "      <td>899.0</td>\n",
       "      <td>2021-09-24</td>\n",
       "      <td>40.0</td>\n",
       "      <td>Smartphone</td>\n",
       "    </tr>\n",
       "    <tr>\n",
       "      <th>5</th>\n",
       "      <td>106</td>\n",
       "      <td>iPad Pro</td>\n",
       "      <td>799.0</td>\n",
       "      <td>2021-04-30</td>\n",
       "      <td>100.0</td>\n",
       "      <td>Tablet</td>\n",
       "    </tr>\n",
       "  </tbody>\n",
       "</table>\n",
       "</div>"
      ],
      "text/plain": [
       "     A            B       C           D      E           F\n",
       "0  101    iPhone 12   799.0  2020-10-23   50.0  Smartphone\n",
       "B  102    iPhone 12     NaN  2020-10-23   30.0  Smartphone\n",
       "2  103  MacBook Pro  1299.0  2020-11-10   20.0      Laptop\n",
       "3  104    iPhone 13   999.0  2021-09-24    NaN  Smartphone\n",
       "4  105          NaN   899.0  2021-09-24   40.0  Smartphone\n",
       "5  106     iPad Pro   799.0  2021-04-30  100.0      Tablet"
      ]
     },
     "execution_count": 37,
     "metadata": {},
     "output_type": "execute_result"
    }
   ],
   "source": [
    "df.rename(index={1:\"B\"})"
   ]
  },
  {
   "cell_type": "code",
   "execution_count": 38,
   "id": "2f5e7be7",
   "metadata": {},
   "outputs": [
    {
     "data": {
      "text/html": [
       "<div>\n",
       "<style scoped>\n",
       "    .dataframe tbody tr th:only-of-type {\n",
       "        vertical-align: middle;\n",
       "    }\n",
       "\n",
       "    .dataframe tbody tr th {\n",
       "        vertical-align: top;\n",
       "    }\n",
       "\n",
       "    .dataframe thead th {\n",
       "        text-align: right;\n",
       "    }\n",
       "</style>\n",
       "<table border=\"1\" class=\"dataframe\">\n",
       "  <thead>\n",
       "    <tr style=\"text-align: right;\">\n",
       "      <th></th>\n",
       "      <th>A</th>\n",
       "      <th>B</th>\n",
       "      <th>C</th>\n",
       "      <th>D</th>\n",
       "      <th>E</th>\n",
       "      <th>F</th>\n",
       "    </tr>\n",
       "  </thead>\n",
       "  <tbody>\n",
       "    <tr>\n",
       "      <th>0</th>\n",
       "      <td>101</td>\n",
       "      <td>iPhone 12</td>\n",
       "      <td>799.0</td>\n",
       "      <td>2020-10-23</td>\n",
       "      <td>50.0</td>\n",
       "      <td>Smartphone</td>\n",
       "    </tr>\n",
       "    <tr>\n",
       "      <th>1</th>\n",
       "      <td>102</td>\n",
       "      <td>iPhone 12</td>\n",
       "      <td>NaN</td>\n",
       "      <td>2020-10-23</td>\n",
       "      <td>30.0</td>\n",
       "      <td>Smartphone</td>\n",
       "    </tr>\n",
       "    <tr>\n",
       "      <th>2</th>\n",
       "      <td>103</td>\n",
       "      <td>MacBook Pro</td>\n",
       "      <td>1299.0</td>\n",
       "      <td>2020-11-10</td>\n",
       "      <td>20.0</td>\n",
       "      <td>Laptop</td>\n",
       "    </tr>\n",
       "    <tr>\n",
       "      <th>3</th>\n",
       "      <td>104</td>\n",
       "      <td>iPhone 13</td>\n",
       "      <td>999.0</td>\n",
       "      <td>2021-09-24</td>\n",
       "      <td>NaN</td>\n",
       "      <td>Smartphone</td>\n",
       "    </tr>\n",
       "    <tr>\n",
       "      <th>4</th>\n",
       "      <td>105</td>\n",
       "      <td>NaN</td>\n",
       "      <td>899.0</td>\n",
       "      <td>2021-09-24</td>\n",
       "      <td>40.0</td>\n",
       "      <td>Smartphone</td>\n",
       "    </tr>\n",
       "    <tr>\n",
       "      <th>5</th>\n",
       "      <td>106</td>\n",
       "      <td>iPad Pro</td>\n",
       "      <td>799.0</td>\n",
       "      <td>2021-04-30</td>\n",
       "      <td>100.0</td>\n",
       "      <td>Tablet</td>\n",
       "    </tr>\n",
       "  </tbody>\n",
       "</table>\n",
       "</div>"
      ],
      "text/plain": [
       "     A            B       C           D      E           F\n",
       "0  101    iPhone 12   799.0  2020-10-23   50.0  Smartphone\n",
       "1  102    iPhone 12     NaN  2020-10-23   30.0  Smartphone\n",
       "2  103  MacBook Pro  1299.0  2020-11-10   20.0      Laptop\n",
       "3  104    iPhone 13   999.0  2021-09-24    NaN  Smartphone\n",
       "4  105          NaN   899.0  2021-09-24   40.0  Smartphone\n",
       "5  106     iPad Pro   799.0  2021-04-30  100.0      Tablet"
      ]
     },
     "execution_count": 38,
     "metadata": {},
     "output_type": "execute_result"
    }
   ],
   "source": [
    "df.rename(index={\"B\":1})"
   ]
  },
  {
   "cell_type": "markdown",
   "id": "faf08c09",
   "metadata": {},
   "source": [
    "Rename all index labels\n",
    "* df.index = ['row1','row2'] : Assign new index label."
   ]
  },
  {
   "cell_type": "markdown",
   "id": "994fe5bb",
   "metadata": {},
   "source": [
    "# > Filtering"
   ]
  },
  {
   "cell_type": "markdown",
   "id": "5c46a877",
   "metadata": {},
   "source": [
    "Filtering in pandas allows selecting specific rows based on conditions, making it useful for data analysis and preprocessing."
   ]
  },
  {
   "cell_type": "code",
   "execution_count": 39,
   "id": "fc70b5d1",
   "metadata": {},
   "outputs": [
    {
     "data": {
      "text/html": [
       "<div>\n",
       "<style scoped>\n",
       "    .dataframe tbody tr th:only-of-type {\n",
       "        vertical-align: middle;\n",
       "    }\n",
       "\n",
       "    .dataframe tbody tr th {\n",
       "        vertical-align: top;\n",
       "    }\n",
       "\n",
       "    .dataframe thead th {\n",
       "        text-align: right;\n",
       "    }\n",
       "</style>\n",
       "<table border=\"1\" class=\"dataframe\">\n",
       "  <thead>\n",
       "    <tr style=\"text-align: right;\">\n",
       "      <th></th>\n",
       "      <th>A</th>\n",
       "      <th>B</th>\n",
       "      <th>C</th>\n",
       "      <th>D</th>\n",
       "      <th>E</th>\n",
       "      <th>F</th>\n",
       "    </tr>\n",
       "  </thead>\n",
       "  <tbody>\n",
       "    <tr>\n",
       "      <th>0</th>\n",
       "      <td>101</td>\n",
       "      <td>iPhone 12</td>\n",
       "      <td>799.0</td>\n",
       "      <td>2020-10-23</td>\n",
       "      <td>50.0</td>\n",
       "      <td>Smartphone</td>\n",
       "    </tr>\n",
       "    <tr>\n",
       "      <th>1</th>\n",
       "      <td>102</td>\n",
       "      <td>iPhone 12</td>\n",
       "      <td>NaN</td>\n",
       "      <td>2020-10-23</td>\n",
       "      <td>30.0</td>\n",
       "      <td>Smartphone</td>\n",
       "    </tr>\n",
       "    <tr>\n",
       "      <th>2</th>\n",
       "      <td>103</td>\n",
       "      <td>MacBook Pro</td>\n",
       "      <td>1299.0</td>\n",
       "      <td>2020-11-10</td>\n",
       "      <td>20.0</td>\n",
       "      <td>Laptop</td>\n",
       "    </tr>\n",
       "    <tr>\n",
       "      <th>3</th>\n",
       "      <td>104</td>\n",
       "      <td>iPhone 13</td>\n",
       "      <td>999.0</td>\n",
       "      <td>2021-09-24</td>\n",
       "      <td>NaN</td>\n",
       "      <td>Smartphone</td>\n",
       "    </tr>\n",
       "    <tr>\n",
       "      <th>4</th>\n",
       "      <td>105</td>\n",
       "      <td>NaN</td>\n",
       "      <td>899.0</td>\n",
       "      <td>2021-09-24</td>\n",
       "      <td>40.0</td>\n",
       "      <td>Smartphone</td>\n",
       "    </tr>\n",
       "    <tr>\n",
       "      <th>5</th>\n",
       "      <td>106</td>\n",
       "      <td>iPad Pro</td>\n",
       "      <td>799.0</td>\n",
       "      <td>2021-04-30</td>\n",
       "      <td>100.0</td>\n",
       "      <td>Tablet</td>\n",
       "    </tr>\n",
       "  </tbody>\n",
       "</table>\n",
       "</div>"
      ],
      "text/plain": [
       "     A            B       C           D      E           F\n",
       "0  101    iPhone 12   799.0  2020-10-23   50.0  Smartphone\n",
       "1  102    iPhone 12     NaN  2020-10-23   30.0  Smartphone\n",
       "2  103  MacBook Pro  1299.0  2020-11-10   20.0      Laptop\n",
       "3  104    iPhone 13   999.0  2021-09-24    NaN  Smartphone\n",
       "4  105          NaN   899.0  2021-09-24   40.0  Smartphone\n",
       "5  106     iPad Pro   799.0  2021-04-30  100.0      Tablet"
      ]
     },
     "execution_count": 39,
     "metadata": {},
     "output_type": "execute_result"
    }
   ],
   "source": [
    "df"
   ]
  },
  {
   "cell_type": "code",
   "execution_count": 40,
   "id": "3f66f71f",
   "metadata": {},
   "outputs": [
    {
     "data": {
      "text/html": [
       "<div>\n",
       "<style scoped>\n",
       "    .dataframe tbody tr th:only-of-type {\n",
       "        vertical-align: middle;\n",
       "    }\n",
       "\n",
       "    .dataframe tbody tr th {\n",
       "        vertical-align: top;\n",
       "    }\n",
       "\n",
       "    .dataframe thead th {\n",
       "        text-align: right;\n",
       "    }\n",
       "</style>\n",
       "<table border=\"1\" class=\"dataframe\">\n",
       "  <thead>\n",
       "    <tr style=\"text-align: right;\">\n",
       "      <th></th>\n",
       "      <th>A</th>\n",
       "      <th>B</th>\n",
       "      <th>C</th>\n",
       "      <th>D</th>\n",
       "      <th>E</th>\n",
       "      <th>F</th>\n",
       "    </tr>\n",
       "  </thead>\n",
       "  <tbody>\n",
       "    <tr>\n",
       "      <th>2</th>\n",
       "      <td>103</td>\n",
       "      <td>MacBook Pro</td>\n",
       "      <td>1299.0</td>\n",
       "      <td>2020-11-10</td>\n",
       "      <td>20.0</td>\n",
       "      <td>Laptop</td>\n",
       "    </tr>\n",
       "    <tr>\n",
       "      <th>3</th>\n",
       "      <td>104</td>\n",
       "      <td>iPhone 13</td>\n",
       "      <td>999.0</td>\n",
       "      <td>2021-09-24</td>\n",
       "      <td>NaN</td>\n",
       "      <td>Smartphone</td>\n",
       "    </tr>\n",
       "    <tr>\n",
       "      <th>4</th>\n",
       "      <td>105</td>\n",
       "      <td>NaN</td>\n",
       "      <td>899.0</td>\n",
       "      <td>2021-09-24</td>\n",
       "      <td>40.0</td>\n",
       "      <td>Smartphone</td>\n",
       "    </tr>\n",
       "  </tbody>\n",
       "</table>\n",
       "</div>"
      ],
      "text/plain": [
       "     A            B       C           D     E           F\n",
       "2  103  MacBook Pro  1299.0  2020-11-10  20.0      Laptop\n",
       "3  104    iPhone 13   999.0  2021-09-24   NaN  Smartphone\n",
       "4  105          NaN   899.0  2021-09-24  40.0  Smartphone"
      ]
     },
     "execution_count": 40,
     "metadata": {},
     "output_type": "execute_result"
    }
   ],
   "source": [
    "df[df[\"C\"] > 800] # Filter rows where column values are greater than a specific value."
   ]
  },
  {
   "cell_type": "code",
   "execution_count": 41,
   "id": "42bcdfba",
   "metadata": {},
   "outputs": [
    {
     "data": {
      "text/html": [
       "<div>\n",
       "<style scoped>\n",
       "    .dataframe tbody tr th:only-of-type {\n",
       "        vertical-align: middle;\n",
       "    }\n",
       "\n",
       "    .dataframe tbody tr th {\n",
       "        vertical-align: top;\n",
       "    }\n",
       "\n",
       "    .dataframe thead th {\n",
       "        text-align: right;\n",
       "    }\n",
       "</style>\n",
       "<table border=\"1\" class=\"dataframe\">\n",
       "  <thead>\n",
       "    <tr style=\"text-align: right;\">\n",
       "      <th></th>\n",
       "      <th>A</th>\n",
       "      <th>B</th>\n",
       "      <th>C</th>\n",
       "      <th>D</th>\n",
       "      <th>E</th>\n",
       "      <th>F</th>\n",
       "    </tr>\n",
       "  </thead>\n",
       "  <tbody>\n",
       "    <tr>\n",
       "      <th>0</th>\n",
       "      <td>101</td>\n",
       "      <td>iPhone 12</td>\n",
       "      <td>799.0</td>\n",
       "      <td>2020-10-23</td>\n",
       "      <td>50.0</td>\n",
       "      <td>Smartphone</td>\n",
       "    </tr>\n",
       "    <tr>\n",
       "      <th>5</th>\n",
       "      <td>106</td>\n",
       "      <td>iPad Pro</td>\n",
       "      <td>799.0</td>\n",
       "      <td>2021-04-30</td>\n",
       "      <td>100.0</td>\n",
       "      <td>Tablet</td>\n",
       "    </tr>\n",
       "  </tbody>\n",
       "</table>\n",
       "</div>"
      ],
      "text/plain": [
       "     A          B      C           D      E           F\n",
       "0  101  iPhone 12  799.0  2020-10-23   50.0  Smartphone\n",
       "5  106   iPad Pro  799.0  2021-04-30  100.0      Tablet"
      ]
     },
     "execution_count": 41,
     "metadata": {},
     "output_type": "execute_result"
    }
   ],
   "source": [
    "df[df[\"C\"] < 800]  # Filter rows where column value is less than specific value."
   ]
  },
  {
   "cell_type": "code",
   "execution_count": 42,
   "id": "78bd4607",
   "metadata": {},
   "outputs": [
    {
     "data": {
      "text/html": [
       "<div>\n",
       "<style scoped>\n",
       "    .dataframe tbody tr th:only-of-type {\n",
       "        vertical-align: middle;\n",
       "    }\n",
       "\n",
       "    .dataframe tbody tr th {\n",
       "        vertical-align: top;\n",
       "    }\n",
       "\n",
       "    .dataframe thead th {\n",
       "        text-align: right;\n",
       "    }\n",
       "</style>\n",
       "<table border=\"1\" class=\"dataframe\">\n",
       "  <thead>\n",
       "    <tr style=\"text-align: right;\">\n",
       "      <th></th>\n",
       "      <th>A</th>\n",
       "      <th>B</th>\n",
       "      <th>C</th>\n",
       "      <th>D</th>\n",
       "      <th>E</th>\n",
       "      <th>F</th>\n",
       "    </tr>\n",
       "  </thead>\n",
       "  <tbody>\n",
       "    <tr>\n",
       "      <th>2</th>\n",
       "      <td>103</td>\n",
       "      <td>MacBook Pro</td>\n",
       "      <td>1299.0</td>\n",
       "      <td>2020-11-10</td>\n",
       "      <td>20.0</td>\n",
       "      <td>Laptop</td>\n",
       "    </tr>\n",
       "    <tr>\n",
       "      <th>4</th>\n",
       "      <td>105</td>\n",
       "      <td>NaN</td>\n",
       "      <td>899.0</td>\n",
       "      <td>2021-09-24</td>\n",
       "      <td>40.0</td>\n",
       "      <td>Smartphone</td>\n",
       "    </tr>\n",
       "  </tbody>\n",
       "</table>\n",
       "</div>"
      ],
      "text/plain": [
       "     A            B       C           D     E           F\n",
       "2  103  MacBook Pro  1299.0  2020-11-10  20.0      Laptop\n",
       "4  105          NaN   899.0  2021-09-24  40.0  Smartphone"
      ]
     },
     "execution_count": 42,
     "metadata": {},
     "output_type": "execute_result"
    }
   ],
   "source": [
    "df[(df[\"C\"]>800) & (df[\"E\"]<50)]  # Filters rows meeting multiple conditions using AND (&)"
   ]
  },
  {
   "cell_type": "markdown",
   "id": "12506306",
   "metadata": {},
   "source": [
    "# Aggregation and Grouping"
   ]
  },
  {
   "cell_type": "markdown",
   "id": "c29d0004",
   "metadata": {},
   "source": [
    "Using groupby()\n",
    "* df.groupby('col') : Groups the DataFrame by a columns (or columns)"
   ]
  },
  {
   "cell_type": "code",
   "execution_count": 43,
   "id": "8a7c9158",
   "metadata": {},
   "outputs": [],
   "source": [
    "data = {\n",
    "    'Salesperson': ['Alice', 'Bob', 'Alice', 'Charlie', 'Bob', 'Alice', 'Charlie', 'Bob', 'Alice'],\n",
    "    'Region': ['North', 'South', 'North', 'West', 'South', 'North', 'West', 'South', 'North'],\n",
    "    'Product': ['A', 'B', 'A', 'C', 'A', 'B', 'A', 'C', 'C'],\n",
    "    'Sale Amount': [100, 200, 150, 120, 300, 200, 250, 400, 50],\n",
    "    'Date': ['2025-01-01', '2025-01-02', '2025-01-05', '2025-01-03', '2025-01-04', '2025-01-07', '2025-01-06', '2025-01-08', '2025-01-10']\n",
    "}\n",
    "\n",
    "# Create DataFrame\n",
    "df = pd.DataFrame(data)\n"
   ]
  },
  {
   "cell_type": "code",
   "execution_count": 44,
   "id": "95497fd0",
   "metadata": {},
   "outputs": [
    {
     "data": {
      "text/html": [
       "<div>\n",
       "<style scoped>\n",
       "    .dataframe tbody tr th:only-of-type {\n",
       "        vertical-align: middle;\n",
       "    }\n",
       "\n",
       "    .dataframe tbody tr th {\n",
       "        vertical-align: top;\n",
       "    }\n",
       "\n",
       "    .dataframe thead th {\n",
       "        text-align: right;\n",
       "    }\n",
       "</style>\n",
       "<table border=\"1\" class=\"dataframe\">\n",
       "  <thead>\n",
       "    <tr style=\"text-align: right;\">\n",
       "      <th></th>\n",
       "      <th>Salesperson</th>\n",
       "      <th>Region</th>\n",
       "      <th>Product</th>\n",
       "      <th>Sale Amount</th>\n",
       "      <th>Date</th>\n",
       "    </tr>\n",
       "  </thead>\n",
       "  <tbody>\n",
       "    <tr>\n",
       "      <th>0</th>\n",
       "      <td>Alice</td>\n",
       "      <td>North</td>\n",
       "      <td>A</td>\n",
       "      <td>100</td>\n",
       "      <td>2025-01-01</td>\n",
       "    </tr>\n",
       "    <tr>\n",
       "      <th>1</th>\n",
       "      <td>Bob</td>\n",
       "      <td>South</td>\n",
       "      <td>B</td>\n",
       "      <td>200</td>\n",
       "      <td>2025-01-02</td>\n",
       "    </tr>\n",
       "    <tr>\n",
       "      <th>2</th>\n",
       "      <td>Alice</td>\n",
       "      <td>North</td>\n",
       "      <td>A</td>\n",
       "      <td>150</td>\n",
       "      <td>2025-01-05</td>\n",
       "    </tr>\n",
       "    <tr>\n",
       "      <th>3</th>\n",
       "      <td>Charlie</td>\n",
       "      <td>West</td>\n",
       "      <td>C</td>\n",
       "      <td>120</td>\n",
       "      <td>2025-01-03</td>\n",
       "    </tr>\n",
       "    <tr>\n",
       "      <th>4</th>\n",
       "      <td>Bob</td>\n",
       "      <td>South</td>\n",
       "      <td>A</td>\n",
       "      <td>300</td>\n",
       "      <td>2025-01-04</td>\n",
       "    </tr>\n",
       "    <tr>\n",
       "      <th>5</th>\n",
       "      <td>Alice</td>\n",
       "      <td>North</td>\n",
       "      <td>B</td>\n",
       "      <td>200</td>\n",
       "      <td>2025-01-07</td>\n",
       "    </tr>\n",
       "    <tr>\n",
       "      <th>6</th>\n",
       "      <td>Charlie</td>\n",
       "      <td>West</td>\n",
       "      <td>A</td>\n",
       "      <td>250</td>\n",
       "      <td>2025-01-06</td>\n",
       "    </tr>\n",
       "    <tr>\n",
       "      <th>7</th>\n",
       "      <td>Bob</td>\n",
       "      <td>South</td>\n",
       "      <td>C</td>\n",
       "      <td>400</td>\n",
       "      <td>2025-01-08</td>\n",
       "    </tr>\n",
       "    <tr>\n",
       "      <th>8</th>\n",
       "      <td>Alice</td>\n",
       "      <td>North</td>\n",
       "      <td>C</td>\n",
       "      <td>50</td>\n",
       "      <td>2025-01-10</td>\n",
       "    </tr>\n",
       "  </tbody>\n",
       "</table>\n",
       "</div>"
      ],
      "text/plain": [
       "  Salesperson Region Product  Sale Amount        Date\n",
       "0       Alice  North       A          100  2025-01-01\n",
       "1         Bob  South       B          200  2025-01-02\n",
       "2       Alice  North       A          150  2025-01-05\n",
       "3     Charlie   West       C          120  2025-01-03\n",
       "4         Bob  South       A          300  2025-01-04\n",
       "5       Alice  North       B          200  2025-01-07\n",
       "6     Charlie   West       A          250  2025-01-06\n",
       "7         Bob  South       C          400  2025-01-08\n",
       "8       Alice  North       C           50  2025-01-10"
      ]
     },
     "execution_count": 44,
     "metadata": {},
     "output_type": "execute_result"
    }
   ],
   "source": [
    "df"
   ]
  },
  {
   "cell_type": "code",
   "execution_count": 45,
   "id": "0c72bb9c",
   "metadata": {},
   "outputs": [
    {
     "data": {
      "text/plain": [
       "<pandas.core.groupby.generic.DataFrameGroupBy object at 0x0000017D17873AD0>"
      ]
     },
     "execution_count": 45,
     "metadata": {},
     "output_type": "execute_result"
    }
   ],
   "source": [
    "df.groupby('Salesperson')"
   ]
  },
  {
   "cell_type": "code",
   "execution_count": 46,
   "id": "cec7fba5",
   "metadata": {},
   "outputs": [
    {
     "data": {
      "text/html": [
       "<div>\n",
       "<style scoped>\n",
       "    .dataframe tbody tr th:only-of-type {\n",
       "        vertical-align: middle;\n",
       "    }\n",
       "\n",
       "    .dataframe tbody tr th {\n",
       "        vertical-align: top;\n",
       "    }\n",
       "\n",
       "    .dataframe thead th {\n",
       "        text-align: right;\n",
       "    }\n",
       "</style>\n",
       "<table border=\"1\" class=\"dataframe\">\n",
       "  <thead>\n",
       "    <tr style=\"text-align: right;\">\n",
       "      <th></th>\n",
       "      <th>Salesperson</th>\n",
       "      <th>Sale Amount</th>\n",
       "    </tr>\n",
       "  </thead>\n",
       "  <tbody>\n",
       "    <tr>\n",
       "      <th>0</th>\n",
       "      <td>Alice</td>\n",
       "      <td>500</td>\n",
       "    </tr>\n",
       "    <tr>\n",
       "      <th>1</th>\n",
       "      <td>Bob</td>\n",
       "      <td>900</td>\n",
       "    </tr>\n",
       "    <tr>\n",
       "      <th>2</th>\n",
       "      <td>Charlie</td>\n",
       "      <td>370</td>\n",
       "    </tr>\n",
       "  </tbody>\n",
       "</table>\n",
       "</div>"
      ],
      "text/plain": [
       "  Salesperson  Sale Amount\n",
       "0       Alice          500\n",
       "1         Bob          900\n",
       "2     Charlie          370"
      ]
     },
     "execution_count": 46,
     "metadata": {},
     "output_type": "execute_result"
    }
   ],
   "source": [
    "df.groupby('Salesperson')['Sale Amount'].sum().reset_index() "
   ]
  },
  {
   "cell_type": "markdown",
   "id": "07f8401b",
   "metadata": {},
   "source": [
    ".groupby('Salesperson') Groups the data of salesperson.    \n",
    ".sum() aggregates the sale amounts for each salesperson."
   ]
  },
  {
   "cell_type": "code",
   "execution_count": 47,
   "id": "508ad879",
   "metadata": {},
   "outputs": [
    {
     "data": {
      "text/html": [
       "<div>\n",
       "<style scoped>\n",
       "    .dataframe tbody tr th:only-of-type {\n",
       "        vertical-align: middle;\n",
       "    }\n",
       "\n",
       "    .dataframe tbody tr th {\n",
       "        vertical-align: top;\n",
       "    }\n",
       "\n",
       "    .dataframe thead th {\n",
       "        text-align: right;\n",
       "    }\n",
       "</style>\n",
       "<table border=\"1\" class=\"dataframe\">\n",
       "  <thead>\n",
       "    <tr style=\"text-align: right;\">\n",
       "      <th></th>\n",
       "      <th>Salesperson</th>\n",
       "      <th>Sale Amount</th>\n",
       "    </tr>\n",
       "  </thead>\n",
       "  <tbody>\n",
       "    <tr>\n",
       "      <th>0</th>\n",
       "      <td>Alice</td>\n",
       "      <td>125.0</td>\n",
       "    </tr>\n",
       "    <tr>\n",
       "      <th>1</th>\n",
       "      <td>Bob</td>\n",
       "      <td>300.0</td>\n",
       "    </tr>\n",
       "    <tr>\n",
       "      <th>2</th>\n",
       "      <td>Charlie</td>\n",
       "      <td>185.0</td>\n",
       "    </tr>\n",
       "  </tbody>\n",
       "</table>\n",
       "</div>"
      ],
      "text/plain": [
       "  Salesperson  Sale Amount\n",
       "0       Alice        125.0\n",
       "1         Bob        300.0\n",
       "2     Charlie        185.0"
      ]
     },
     "execution_count": 47,
     "metadata": {},
     "output_type": "execute_result"
    }
   ],
   "source": [
    "df.groupby('Salesperson')['Sale Amount'].mean().reset_index()"
   ]
  },
  {
   "cell_type": "code",
   "execution_count": 48,
   "id": "a6770a49",
   "metadata": {},
   "outputs": [
    {
     "data": {
      "text/html": [
       "<div>\n",
       "<style scoped>\n",
       "    .dataframe tbody tr th:only-of-type {\n",
       "        vertical-align: middle;\n",
       "    }\n",
       "\n",
       "    .dataframe tbody tr th {\n",
       "        vertical-align: top;\n",
       "    }\n",
       "\n",
       "    .dataframe thead th {\n",
       "        text-align: right;\n",
       "    }\n",
       "</style>\n",
       "<table border=\"1\" class=\"dataframe\">\n",
       "  <thead>\n",
       "    <tr style=\"text-align: right;\">\n",
       "      <th></th>\n",
       "      <th>Salesperson</th>\n",
       "      <th>SalesCount</th>\n",
       "    </tr>\n",
       "  </thead>\n",
       "  <tbody>\n",
       "    <tr>\n",
       "      <th>0</th>\n",
       "      <td>Alice</td>\n",
       "      <td>4</td>\n",
       "    </tr>\n",
       "    <tr>\n",
       "      <th>1</th>\n",
       "      <td>Bob</td>\n",
       "      <td>3</td>\n",
       "    </tr>\n",
       "    <tr>\n",
       "      <th>2</th>\n",
       "      <td>Charlie</td>\n",
       "      <td>2</td>\n",
       "    </tr>\n",
       "  </tbody>\n",
       "</table>\n",
       "</div>"
      ],
      "text/plain": [
       "  Salesperson  SalesCount\n",
       "0       Alice           4\n",
       "1         Bob           3\n",
       "2     Charlie           2"
      ]
     },
     "execution_count": 48,
     "metadata": {},
     "output_type": "execute_result"
    }
   ],
   "source": [
    "df.groupby('Salesperson')['Sale Amount'].count().reset_index(name='SalesCount')"
   ]
  },
  {
   "cell_type": "markdown",
   "id": "c9a94462",
   "metadata": {},
   "source": [
    "# Merging and Joining"
   ]
  },
  {
   "cell_type": "markdown",
   "id": "148d5e63",
   "metadata": {},
   "source": [
    "Merging and joining in pandas are essential operations for combining two or more DataFrames based on a shared column or index. These operations are conceptually similar to SQL joins. "
   ]
  },
  {
   "cell_type": "markdown",
   "id": "8a4525b6",
   "metadata": {},
   "source": [
    "# > Merg in Pandas"
   ]
  },
  {
   "cell_type": "markdown",
   "id": "a9b43c64",
   "metadata": {},
   "source": [
    "Syntax = pd.merge(left, right, how='inner', on=None, left_on=None, right_on=None, left_index=False, right_index=False)"
   ]
  },
  {
   "cell_type": "markdown",
   "id": "262d32bd",
   "metadata": {},
   "source": [
    "* left: Left DataFrame.\n",
    "* right: Right DataFrame.\n",
    "* how: Type of join ('inner', 'outer', 'left', 'right').\n",
    "* on: Column name(s) on which to join. Must be present in both DataFrames.\n",
    "* left_on: Column(s) from the left DataFrame to join on.\n",
    "* right_on: Column(s) from the right DataFrame to join on.\n",
    "* left_index: If True, use the index from the left DataFrame.\n",
    "* right_index: If True, use the index from the right DataFrame."
   ]
  },
  {
   "cell_type": "markdown",
   "id": "4864cd9d",
   "metadata": {},
   "source": [
    " Inner Join (Default)\n",
    " * Inner join combines only the rows with matching keys."
   ]
  },
  {
   "cell_type": "code",
   "execution_count": 49,
   "id": "e514e271",
   "metadata": {},
   "outputs": [
    {
     "data": {
      "text/html": [
       "<div>\n",
       "<style scoped>\n",
       "    .dataframe tbody tr th:only-of-type {\n",
       "        vertical-align: middle;\n",
       "    }\n",
       "\n",
       "    .dataframe tbody tr th {\n",
       "        vertical-align: top;\n",
       "    }\n",
       "\n",
       "    .dataframe thead th {\n",
       "        text-align: right;\n",
       "    }\n",
       "</style>\n",
       "<table border=\"1\" class=\"dataframe\">\n",
       "  <thead>\n",
       "    <tr style=\"text-align: right;\">\n",
       "      <th></th>\n",
       "      <th>A</th>\n",
       "      <th>B</th>\n",
       "      <th>key</th>\n",
       "      <th>C</th>\n",
       "    </tr>\n",
       "  </thead>\n",
       "  <tbody>\n",
       "    <tr>\n",
       "      <th>0</th>\n",
       "      <td>A0</td>\n",
       "      <td>B0</td>\n",
       "      <td>K0</td>\n",
       "      <td>C0</td>\n",
       "    </tr>\n",
       "    <tr>\n",
       "      <th>1</th>\n",
       "      <td>A1</td>\n",
       "      <td>B1</td>\n",
       "      <td>K1</td>\n",
       "      <td>C1</td>\n",
       "    </tr>\n",
       "    <tr>\n",
       "      <th>2</th>\n",
       "      <td>A2</td>\n",
       "      <td>B2</td>\n",
       "      <td>K2</td>\n",
       "      <td>C2</td>\n",
       "    </tr>\n",
       "  </tbody>\n",
       "</table>\n",
       "</div>"
      ],
      "text/plain": [
       "    A   B key   C\n",
       "0  A0  B0  K0  C0\n",
       "1  A1  B1  K1  C1\n",
       "2  A2  B2  K2  C2"
      ]
     },
     "execution_count": 49,
     "metadata": {},
     "output_type": "execute_result"
    }
   ],
   "source": [
    "# Create two DataFrames\n",
    "df1 = pd.DataFrame({\n",
    "    'A': ['A0', 'A1', 'A2', 'A3'],\n",
    "    'B': ['B0', 'B1', 'B2', 'B3'],\n",
    "    'key': ['K0', 'K1', 'K2', 'K3']\n",
    "})\n",
    "\n",
    "df2 = pd.DataFrame({\n",
    "    'C': ['C0', 'C1', 'C2', 'C3'],\n",
    "    'key': ['K0', 'K1', 'K2', 'K4']\n",
    "})\n",
    "\n",
    "# Merge DataFrames using inner join (default)\n",
    "result = pd.merge(df1, df2, on='key')\n",
    "result"
   ]
  },
  {
   "cell_type": "markdown",
   "id": "5809f4bc",
   "metadata": {},
   "source": [
    "Explanation:\n",
    "\n",
    "The rows where key values match are combined (K0, K1, K2). The row with K4 is excluded since it doesn't match any row in df1."
   ]
  },
  {
   "cell_type": "markdown",
   "id": "ff610648",
   "metadata": {},
   "source": [
    "Left Join\n",
    "* A left join combines all rows from the left DataFrame and the matching rows from the right DataFrame. If no match is found, it will return NaN for the columns from the right DataFrame."
   ]
  },
  {
   "cell_type": "code",
   "execution_count": 50,
   "id": "5212f04b",
   "metadata": {},
   "outputs": [
    {
     "data": {
      "text/html": [
       "<div>\n",
       "<style scoped>\n",
       "    .dataframe tbody tr th:only-of-type {\n",
       "        vertical-align: middle;\n",
       "    }\n",
       "\n",
       "    .dataframe tbody tr th {\n",
       "        vertical-align: top;\n",
       "    }\n",
       "\n",
       "    .dataframe thead th {\n",
       "        text-align: right;\n",
       "    }\n",
       "</style>\n",
       "<table border=\"1\" class=\"dataframe\">\n",
       "  <thead>\n",
       "    <tr style=\"text-align: right;\">\n",
       "      <th></th>\n",
       "      <th>A</th>\n",
       "      <th>B</th>\n",
       "      <th>key</th>\n",
       "      <th>C</th>\n",
       "    </tr>\n",
       "  </thead>\n",
       "  <tbody>\n",
       "    <tr>\n",
       "      <th>0</th>\n",
       "      <td>A0</td>\n",
       "      <td>B0</td>\n",
       "      <td>K0</td>\n",
       "      <td>C0</td>\n",
       "    </tr>\n",
       "    <tr>\n",
       "      <th>1</th>\n",
       "      <td>A1</td>\n",
       "      <td>B1</td>\n",
       "      <td>K1</td>\n",
       "      <td>C1</td>\n",
       "    </tr>\n",
       "    <tr>\n",
       "      <th>2</th>\n",
       "      <td>A2</td>\n",
       "      <td>B2</td>\n",
       "      <td>K2</td>\n",
       "      <td>C2</td>\n",
       "    </tr>\n",
       "    <tr>\n",
       "      <th>3</th>\n",
       "      <td>A3</td>\n",
       "      <td>B3</td>\n",
       "      <td>K3</td>\n",
       "      <td>NaN</td>\n",
       "    </tr>\n",
       "  </tbody>\n",
       "</table>\n",
       "</div>"
      ],
      "text/plain": [
       "    A   B key    C\n",
       "0  A0  B0  K0   C0\n",
       "1  A1  B1  K1   C1\n",
       "2  A2  B2  K2   C2\n",
       "3  A3  B3  K3  NaN"
      ]
     },
     "execution_count": 50,
     "metadata": {},
     "output_type": "execute_result"
    }
   ],
   "source": [
    "result = pd.merge(df1, df2, on='key', how='left')\n",
    "result"
   ]
  },
  {
   "cell_type": "markdown",
   "id": "53f1955d",
   "metadata": {},
   "source": [
    "Explanation:\n",
    "\n",
    "* All rows from df1 are included, and the corresponding values from df2 are added. Since there's no matching row for K3 in df2, it gets NaN in the C column."
   ]
  },
  {
   "cell_type": "markdown",
   "id": "507a71e9",
   "metadata": {},
   "source": [
    "Right Join\n",
    "* A right join combines all rows from the right DataFrame and the matching rows from the left DataFrame. If no match is found, it will return NaN for the columns from the left DataFrame."
   ]
  },
  {
   "cell_type": "code",
   "execution_count": 51,
   "id": "13b987b3",
   "metadata": {},
   "outputs": [
    {
     "data": {
      "text/html": [
       "<div>\n",
       "<style scoped>\n",
       "    .dataframe tbody tr th:only-of-type {\n",
       "        vertical-align: middle;\n",
       "    }\n",
       "\n",
       "    .dataframe tbody tr th {\n",
       "        vertical-align: top;\n",
       "    }\n",
       "\n",
       "    .dataframe thead th {\n",
       "        text-align: right;\n",
       "    }\n",
       "</style>\n",
       "<table border=\"1\" class=\"dataframe\">\n",
       "  <thead>\n",
       "    <tr style=\"text-align: right;\">\n",
       "      <th></th>\n",
       "      <th>A</th>\n",
       "      <th>B</th>\n",
       "      <th>key</th>\n",
       "      <th>C</th>\n",
       "    </tr>\n",
       "  </thead>\n",
       "  <tbody>\n",
       "    <tr>\n",
       "      <th>0</th>\n",
       "      <td>A0</td>\n",
       "      <td>B0</td>\n",
       "      <td>K0</td>\n",
       "      <td>C0</td>\n",
       "    </tr>\n",
       "    <tr>\n",
       "      <th>1</th>\n",
       "      <td>A1</td>\n",
       "      <td>B1</td>\n",
       "      <td>K1</td>\n",
       "      <td>C1</td>\n",
       "    </tr>\n",
       "    <tr>\n",
       "      <th>2</th>\n",
       "      <td>A2</td>\n",
       "      <td>B2</td>\n",
       "      <td>K2</td>\n",
       "      <td>C2</td>\n",
       "    </tr>\n",
       "    <tr>\n",
       "      <th>3</th>\n",
       "      <td>NaN</td>\n",
       "      <td>NaN</td>\n",
       "      <td>K4</td>\n",
       "      <td>C3</td>\n",
       "    </tr>\n",
       "  </tbody>\n",
       "</table>\n",
       "</div>"
      ],
      "text/plain": [
       "     A    B key   C\n",
       "0   A0   B0  K0  C0\n",
       "1   A1   B1  K1  C1\n",
       "2   A2   B2  K2  C2\n",
       "3  NaN  NaN  K4  C3"
      ]
     },
     "execution_count": 51,
     "metadata": {},
     "output_type": "execute_result"
    }
   ],
   "source": [
    "result = pd.merge(df1, df2, on='key', how='right')\n",
    "result"
   ]
  },
  {
   "cell_type": "markdown",
   "id": "a48ca83a",
   "metadata": {},
   "source": [
    "Explanation:\n",
    "\n",
    "* All rows from df2 are included, and the corresponding rows from df1 are added. Since there's no matching row for K4 in df1, it gets NaN in the A and B columns."
   ]
  },
  {
   "cell_type": "markdown",
   "id": "fa952002",
   "metadata": {},
   "source": [
    "Outer Join\n",
    "* An outer join returns all rows from both DataFrames. Non-matching rows will have NaN for missing values."
   ]
  },
  {
   "cell_type": "code",
   "execution_count": 52,
   "id": "f49f0d15",
   "metadata": {},
   "outputs": [
    {
     "data": {
      "text/html": [
       "<div>\n",
       "<style scoped>\n",
       "    .dataframe tbody tr th:only-of-type {\n",
       "        vertical-align: middle;\n",
       "    }\n",
       "\n",
       "    .dataframe tbody tr th {\n",
       "        vertical-align: top;\n",
       "    }\n",
       "\n",
       "    .dataframe thead th {\n",
       "        text-align: right;\n",
       "    }\n",
       "</style>\n",
       "<table border=\"1\" class=\"dataframe\">\n",
       "  <thead>\n",
       "    <tr style=\"text-align: right;\">\n",
       "      <th></th>\n",
       "      <th>A</th>\n",
       "      <th>B</th>\n",
       "      <th>key</th>\n",
       "      <th>C</th>\n",
       "    </tr>\n",
       "  </thead>\n",
       "  <tbody>\n",
       "    <tr>\n",
       "      <th>0</th>\n",
       "      <td>A0</td>\n",
       "      <td>B0</td>\n",
       "      <td>K0</td>\n",
       "      <td>C0</td>\n",
       "    </tr>\n",
       "    <tr>\n",
       "      <th>1</th>\n",
       "      <td>A1</td>\n",
       "      <td>B1</td>\n",
       "      <td>K1</td>\n",
       "      <td>C1</td>\n",
       "    </tr>\n",
       "    <tr>\n",
       "      <th>2</th>\n",
       "      <td>A2</td>\n",
       "      <td>B2</td>\n",
       "      <td>K2</td>\n",
       "      <td>C2</td>\n",
       "    </tr>\n",
       "    <tr>\n",
       "      <th>3</th>\n",
       "      <td>A3</td>\n",
       "      <td>B3</td>\n",
       "      <td>K3</td>\n",
       "      <td>NaN</td>\n",
       "    </tr>\n",
       "    <tr>\n",
       "      <th>4</th>\n",
       "      <td>NaN</td>\n",
       "      <td>NaN</td>\n",
       "      <td>K4</td>\n",
       "      <td>C3</td>\n",
       "    </tr>\n",
       "  </tbody>\n",
       "</table>\n",
       "</div>"
      ],
      "text/plain": [
       "     A    B key    C\n",
       "0   A0   B0  K0   C0\n",
       "1   A1   B1  K1   C1\n",
       "2   A2   B2  K2   C2\n",
       "3   A3   B3  K3  NaN\n",
       "4  NaN  NaN  K4   C3"
      ]
     },
     "execution_count": 52,
     "metadata": {},
     "output_type": "execute_result"
    }
   ],
   "source": [
    "result = pd.merge(df1, df2, on='key', how='outer')\n",
    "result"
   ]
  },
  {
   "cell_type": "markdown",
   "id": "07ce7c48",
   "metadata": {},
   "source": [
    "Explanation:\n",
    "\n",
    "* All rows from both DataFrames are included. If a key doesn't match, NaN is filled in for the columns of the other DataFrame."
   ]
  },
  {
   "cell_type": "markdown",
   "id": "c11dd166",
   "metadata": {},
   "source": [
    "# > Join in Pandas"
   ]
  },
  {
   "cell_type": "markdown",
   "id": "bdcfb323",
   "metadata": {},
   "source": [
    "The join() method is a simpler way to join DataFrames based on their indexes or a specific column. It defaults to a left join, and you can join on the index or on a specific column."
   ]
  },
  {
   "cell_type": "markdown",
   "id": "d78a0b86",
   "metadata": {},
   "source": [
    "Syntax = DataFrame.join(other, on=None, how='left', lsuffix='', rsuffix='')\n"
   ]
  },
  {
   "cell_type": "markdown",
   "id": "008591ed",
   "metadata": {},
   "source": [
    "* other: DataFrame to join.\n",
    "* on: Column to join on. If None, join on index.\n",
    "* how: Type of join ('left', 'right', 'outer', 'inner').\n",
    "* lsuffix: Suffix for overlapping column names from the left DataFrame.\n",
    "* rsuffix: Suffix for overlapping column names from the right DataFrame."
   ]
  },
  {
   "cell_type": "code",
   "execution_count": 53,
   "id": "4d3b5de4",
   "metadata": {},
   "outputs": [
    {
     "data": {
      "text/html": [
       "<div>\n",
       "<style scoped>\n",
       "    .dataframe tbody tr th:only-of-type {\n",
       "        vertical-align: middle;\n",
       "    }\n",
       "\n",
       "    .dataframe tbody tr th {\n",
       "        vertical-align: top;\n",
       "    }\n",
       "\n",
       "    .dataframe thead th {\n",
       "        text-align: right;\n",
       "    }\n",
       "</style>\n",
       "<table border=\"1\" class=\"dataframe\">\n",
       "  <thead>\n",
       "    <tr style=\"text-align: right;\">\n",
       "      <th></th>\n",
       "      <th>A</th>\n",
       "      <th>B</th>\n",
       "      <th>C</th>\n",
       "    </tr>\n",
       "  </thead>\n",
       "  <tbody>\n",
       "    <tr>\n",
       "      <th>K0</th>\n",
       "      <td>A0</td>\n",
       "      <td>B0</td>\n",
       "      <td>C0</td>\n",
       "    </tr>\n",
       "    <tr>\n",
       "      <th>K1</th>\n",
       "      <td>A1</td>\n",
       "      <td>B1</td>\n",
       "      <td>C1</td>\n",
       "    </tr>\n",
       "    <tr>\n",
       "      <th>K2</th>\n",
       "      <td>A2</td>\n",
       "      <td>B2</td>\n",
       "      <td>C2</td>\n",
       "    </tr>\n",
       "    <tr>\n",
       "      <th>K3</th>\n",
       "      <td>A3</td>\n",
       "      <td>B3</td>\n",
       "      <td>NaN</td>\n",
       "    </tr>\n",
       "  </tbody>\n",
       "</table>\n",
       "</div>"
      ],
      "text/plain": [
       "     A   B    C\n",
       "K0  A0  B0   C0\n",
       "K1  A1  B1   C1\n",
       "K2  A2  B2   C2\n",
       "K3  A3  B3  NaN"
      ]
     },
     "execution_count": 53,
     "metadata": {},
     "output_type": "execute_result"
    }
   ],
   "source": [
    "df1 = pd.DataFrame({\n",
    "    'A': ['A0', 'A1', 'A2', 'A3'],\n",
    "    'B': ['B0', 'B1', 'B2', 'B3']\n",
    "}, index=['K0', 'K1', 'K2', 'K3'])\n",
    "\n",
    "df2 = pd.DataFrame({\n",
    "    'C': ['C0', 'C1', 'C2', 'C3']\n",
    "}, index=['K0', 'K1', 'K2', 'K4'])\n",
    "\n",
    "# Join on index (left join by default)\n",
    "result = df1.join(df2, how='left')\n",
    "result"
   ]
  },
  {
   "cell_type": "markdown",
   "id": "cc585d17",
   "metadata": {},
   "source": [
    "Explanation:\n",
    "\n",
    "* The DataFrames are joined based on their indexes. The row for K3 in df1 doesn't have a match in df2, so it gets NaN in the C column."
   ]
  },
  {
   "cell_type": "markdown",
   "id": "40b1ccd5",
   "metadata": {},
   "source": [
    "Join on a Specific Column"
   ]
  },
  {
   "cell_type": "code",
   "execution_count": 54,
   "id": "d92ade02",
   "metadata": {},
   "outputs": [
    {
     "data": {
      "text/html": [
       "<div>\n",
       "<style scoped>\n",
       "    .dataframe tbody tr th:only-of-type {\n",
       "        vertical-align: middle;\n",
       "    }\n",
       "\n",
       "    .dataframe tbody tr th {\n",
       "        vertical-align: top;\n",
       "    }\n",
       "\n",
       "    .dataframe thead th {\n",
       "        text-align: right;\n",
       "    }\n",
       "</style>\n",
       "<table border=\"1\" class=\"dataframe\">\n",
       "  <thead>\n",
       "    <tr style=\"text-align: right;\">\n",
       "      <th></th>\n",
       "      <th>A</th>\n",
       "      <th>B</th>\n",
       "    </tr>\n",
       "    <tr>\n",
       "      <th>key</th>\n",
       "      <th></th>\n",
       "      <th></th>\n",
       "    </tr>\n",
       "  </thead>\n",
       "  <tbody>\n",
       "    <tr>\n",
       "      <th>K0</th>\n",
       "      <td>A0</td>\n",
       "      <td>B0</td>\n",
       "    </tr>\n",
       "    <tr>\n",
       "      <th>K1</th>\n",
       "      <td>A1</td>\n",
       "      <td>B1</td>\n",
       "    </tr>\n",
       "    <tr>\n",
       "      <th>K2</th>\n",
       "      <td>A2</td>\n",
       "      <td>B2</td>\n",
       "    </tr>\n",
       "    <tr>\n",
       "      <th>K3</th>\n",
       "      <td>A3</td>\n",
       "      <td>NaN</td>\n",
       "    </tr>\n",
       "  </tbody>\n",
       "</table>\n",
       "</div>"
      ],
      "text/plain": [
       "      A    B\n",
       "key         \n",
       "K0   A0   B0\n",
       "K1   A1   B1\n",
       "K2   A2   B2\n",
       "K3   A3  NaN"
      ]
     },
     "execution_count": 54,
     "metadata": {},
     "output_type": "execute_result"
    }
   ],
   "source": [
    "df1 = pd.DataFrame({\n",
    "    'key': ['K0', 'K1', 'K2', 'K3'],\n",
    "    'A': ['A0', 'A1', 'A2', 'A3']\n",
    "})\n",
    "\n",
    "df2 = pd.DataFrame({\n",
    "    'key': ['K0', 'K1', 'K2', 'K4'],\n",
    "    'B': ['B0', 'B1', 'B2', 'B3']\n",
    "})\n",
    "\n",
    "# Join on a specific column (left join)\n",
    "result = df1.set_index('key').join(df2.set_index('key'), how='left')\n",
    "result"
   ]
  },
  {
   "cell_type": "markdown",
   "id": "393c4356",
   "metadata": {},
   "source": [
    "Explanation:\n",
    "\n",
    "* Here, we set the key column as the index for both DataFrames before joining. The join happens based on the index key."
   ]
  },
  {
   "cell_type": "markdown",
   "id": "2998e9f4",
   "metadata": {},
   "source": [
    "Summary of Join Types:\n",
    "* Inner Join: Returns only the rows with matching keys in both DataFrames.\n",
    "* Left Join: Returns all rows from the left DataFrame and matching rows from the right DataFrame.\n",
    "* Right Join: Returns all rows from the right DataFrame and matching rows from the left DataFrame.\n",
    "* Outer Join: Returns all rows from both DataFrames, filling with NaN where there's no match."
   ]
  },
  {
   "cell_type": "markdown",
   "id": "9dc69b7f",
   "metadata": {},
   "source": [
    "# Reading Files in Pandas"
   ]
  },
  {
   "cell_type": "markdown",
   "id": "9847dc93",
   "metadata": {},
   "source": [
    "Syntax = pd.read_csv('file_path.csv', sep=',', header='infer', index_col=None, dtype=None)"
   ]
  },
  {
   "cell_type": "markdown",
   "id": "a3656cf5",
   "metadata": {},
   "source": [
    "* file_path: The path to the CSV file.\n",
    "* sep: The delimiter (default is a comma).\n",
    "* header: Row to use for column names (default is the first row).\n",
    "* index_col: Column(s) to use as the index.\n",
    "* dtype: Specify the data type for each column."
   ]
  },
  {
   "cell_type": "code",
   "execution_count": 55,
   "id": "b09a79c2",
   "metadata": {},
   "outputs": [
    {
     "data": {
      "text/html": [
       "<div>\n",
       "<style scoped>\n",
       "    .dataframe tbody tr th:only-of-type {\n",
       "        vertical-align: middle;\n",
       "    }\n",
       "\n",
       "    .dataframe tbody tr th {\n",
       "        vertical-align: top;\n",
       "    }\n",
       "\n",
       "    .dataframe thead th {\n",
       "        text-align: right;\n",
       "    }\n",
       "</style>\n",
       "<table border=\"1\" class=\"dataframe\">\n",
       "  <thead>\n",
       "    <tr style=\"text-align: right;\">\n",
       "      <th></th>\n",
       "      <th>Price</th>\n",
       "      <th>Adj Close</th>\n",
       "      <th>Close</th>\n",
       "      <th>High</th>\n",
       "      <th>Low</th>\n",
       "      <th>Open</th>\n",
       "      <th>Volume</th>\n",
       "    </tr>\n",
       "  </thead>\n",
       "  <tbody>\n",
       "    <tr>\n",
       "      <th>0</th>\n",
       "      <td>Ticker</td>\n",
       "      <td>TATAPOWER.NS</td>\n",
       "      <td>TATAPOWER.NS</td>\n",
       "      <td>TATAPOWER.NS</td>\n",
       "      <td>TATAPOWER.NS</td>\n",
       "      <td>TATAPOWER.NS</td>\n",
       "      <td>TATAPOWER.NS</td>\n",
       "    </tr>\n",
       "    <tr>\n",
       "      <th>1</th>\n",
       "      <td>Date</td>\n",
       "      <td>NaN</td>\n",
       "      <td>NaN</td>\n",
       "      <td>NaN</td>\n",
       "      <td>NaN</td>\n",
       "      <td>NaN</td>\n",
       "      <td>NaN</td>\n",
       "    </tr>\n",
       "    <tr>\n",
       "      <th>2</th>\n",
       "      <td>2020-01-01</td>\n",
       "      <td>53.9232177734375</td>\n",
       "      <td>57.599998474121094</td>\n",
       "      <td>57.849998474121094</td>\n",
       "      <td>56.650001525878906</td>\n",
       "      <td>56.79999923706055</td>\n",
       "      <td>3878107</td>\n",
       "    </tr>\n",
       "    <tr>\n",
       "      <th>3</th>\n",
       "      <td>2020-01-02</td>\n",
       "      <td>54.29768371582031</td>\n",
       "      <td>58.0</td>\n",
       "      <td>58.150001525878906</td>\n",
       "      <td>56.79999923706055</td>\n",
       "      <td>57.900001525878906</td>\n",
       "      <td>12142359</td>\n",
       "    </tr>\n",
       "    <tr>\n",
       "      <th>4</th>\n",
       "      <td>2020-01-03</td>\n",
       "      <td>54.06364440917969</td>\n",
       "      <td>57.75</td>\n",
       "      <td>58.54999923706055</td>\n",
       "      <td>57.29999923706055</td>\n",
       "      <td>58.0</td>\n",
       "      <td>9746134</td>\n",
       "    </tr>\n",
       "  </tbody>\n",
       "</table>\n",
       "</div>"
      ],
      "text/plain": [
       "        Price          Adj Close               Close                High  \\\n",
       "0      Ticker       TATAPOWER.NS        TATAPOWER.NS        TATAPOWER.NS   \n",
       "1        Date                NaN                 NaN                 NaN   \n",
       "2  2020-01-01   53.9232177734375  57.599998474121094  57.849998474121094   \n",
       "3  2020-01-02  54.29768371582031                58.0  58.150001525878906   \n",
       "4  2020-01-03  54.06364440917969               57.75   58.54999923706055   \n",
       "\n",
       "                  Low                Open        Volume  \n",
       "0        TATAPOWER.NS        TATAPOWER.NS  TATAPOWER.NS  \n",
       "1                 NaN                 NaN           NaN  \n",
       "2  56.650001525878906   56.79999923706055       3878107  \n",
       "3   56.79999923706055  57.900001525878906      12142359  \n",
       "4   57.29999923706055                58.0       9746134  "
      ]
     },
     "execution_count": 55,
     "metadata": {},
     "output_type": "execute_result"
    }
   ],
   "source": [
    "# Read a CSV file\n",
    "df = pd.read_csv('tata_data.csv')\n",
    "\n",
    "# Display the first few rows\n",
    "df.head()"
   ]
  },
  {
   "cell_type": "markdown",
   "id": "823db0d4",
   "metadata": {},
   "source": [
    "Reading an Excel File\n",
    "* Pandas can read Excel files using the read_excel() function. To read from Excel, you need the openpyxl or xlrd library installed, depending on the Excel file type."
   ]
  },
  {
   "cell_type": "markdown",
   "id": "2db892fb",
   "metadata": {},
   "source": [
    "Syntax = pd.read_excel('file_path.xlsx', sheet_name='Sheet1', header=0, index_col=None)"
   ]
  },
  {
   "cell_type": "markdown",
   "id": "fe58aa6e",
   "metadata": {},
   "source": [
    "* file_path: Path to the Excel file.\n",
    "* sheet_name: Name of the sheet to read (default is the first sheet).\n",
    "* header: Row(s) to use as the column names.\n",
    "* index_col: Column(s) to set as the index."
   ]
  },
  {
   "cell_type": "markdown",
   "id": "d1f4827f",
   "metadata": {},
   "source": [
    "Writing Files in Pandas"
   ]
  },
  {
   "cell_type": "markdown",
   "id": "f58485bb",
   "metadata": {},
   "source": [
    "Writing a DataFrame to CSV\n",
    "*To write a DataFrame to a CSV file, use the to_csv() function."
   ]
  },
  {
   "cell_type": "markdown",
   "id": "bdd36d5d",
   "metadata": {},
   "source": [
    "Syntax = df.to_csv('file_path.csv', sep=',', index=False)"
   ]
  },
  {
   "cell_type": "markdown",
   "id": "dd174d6c",
   "metadata": {},
   "source": [
    "* file_path: Path to save the CSV file.\n",
    "* sep: Delimiter to use (default is a comma).\n",
    "* index: Whether to write row names (index) (default is True)."
   ]
  },
  {
   "cell_type": "markdown",
   "id": "39e634c4",
   "metadata": {},
   "source": [
    "Writing a DataFrame to Excel\n",
    "* You can write a DataFrame to an Excel file using to_excel(). The openpyxl library is required for .xlsx files."
   ]
  },
  {
   "cell_type": "markdown",
   "id": "6750f613",
   "metadata": {},
   "source": [
    "Syntax = df.to_excel('file_path.xlsx', sheet_name='Sheet1', index=False)\n"
   ]
  },
  {
   "cell_type": "markdown",
   "id": "1e8c1832",
   "metadata": {},
   "source": [
    "* sheet_name: Name of the Excel sheet.\n",
    "* index: Whether to write the row names (index)."
   ]
  },
  {
   "cell_type": "markdown",
   "id": "c8b5c42d",
   "metadata": {},
   "source": [
    "# Time Series"
   ]
  },
  {
   "cell_type": "markdown",
   "id": "85aace05",
   "metadata": {},
   "source": [
    "Time series in pandas is used for working with temporal data, where the data points are indexed by time. It allows for efficient handling, manipulation and analysis of time based data."
   ]
  },
  {
   "cell_type": "markdown",
   "id": "cd864f4e",
   "metadata": {},
   "source": [
    "* Creating time series"
   ]
  },
  {
   "cell_type": "code",
   "execution_count": 57,
   "id": "5fa4e661",
   "metadata": {},
   "outputs": [
    {
     "data": {
      "text/plain": [
       "DatetimeIndex(['2025-01-01', '2025-01-02', '2025-01-03', '2025-01-04',\n",
       "               '2025-01-05', '2025-01-06', '2025-01-07', '2025-01-08',\n",
       "               '2025-01-09', '2025-01-10'],\n",
       "              dtype='datetime64[ns]', freq='D')"
      ]
     },
     "execution_count": 57,
     "metadata": {},
     "output_type": "execute_result"
    }
   ],
   "source": [
    "date_range = pd.date_range(start='2025-01-01',end='2025-01-10',freq = 'D')\n",
    "date_range  # Creates a range of dates between start and end with a specific freq."
   ]
  },
  {
   "cell_type": "markdown",
   "id": "e5fe4d38",
   "metadata": {},
   "source": [
    "* Time series indexing"
   ]
  },
  {
   "cell_type": "code",
   "execution_count": 59,
   "id": "1fd27795",
   "metadata": {},
   "outputs": [
    {
     "data": {
      "text/html": [
       "<div>\n",
       "<style scoped>\n",
       "    .dataframe tbody tr th:only-of-type {\n",
       "        vertical-align: middle;\n",
       "    }\n",
       "\n",
       "    .dataframe tbody tr th {\n",
       "        vertical-align: top;\n",
       "    }\n",
       "\n",
       "    .dataframe thead th {\n",
       "        text-align: right;\n",
       "    }\n",
       "</style>\n",
       "<table border=\"1\" class=\"dataframe\">\n",
       "  <thead>\n",
       "    <tr style=\"text-align: right;\">\n",
       "      <th></th>\n",
       "      <th>Value</th>\n",
       "    </tr>\n",
       "    <tr>\n",
       "      <th>Date</th>\n",
       "      <th></th>\n",
       "    </tr>\n",
       "  </thead>\n",
       "  <tbody>\n",
       "    <tr>\n",
       "      <th>2025-01-01</th>\n",
       "      <td>100</td>\n",
       "    </tr>\n",
       "    <tr>\n",
       "      <th>2025-01-02</th>\n",
       "      <td>200</td>\n",
       "    </tr>\n",
       "    <tr>\n",
       "      <th>2025-01-03</th>\n",
       "      <td>300</td>\n",
       "    </tr>\n",
       "    <tr>\n",
       "      <th>2025-01-04</th>\n",
       "      <td>400</td>\n",
       "    </tr>\n",
       "    <tr>\n",
       "      <th>2025-01-05</th>\n",
       "      <td>500</td>\n",
       "    </tr>\n",
       "  </tbody>\n",
       "</table>\n",
       "</div>"
      ],
      "text/plain": [
       "            Value\n",
       "Date             \n",
       "2025-01-01    100\n",
       "2025-01-02    200\n",
       "2025-01-03    300\n",
       "2025-01-04    400\n",
       "2025-01-05    500"
      ]
     },
     "execution_count": 59,
     "metadata": {},
     "output_type": "execute_result"
    }
   ],
   "source": [
    "# Creating a DataFrame with a date column\n",
    "data = {'Date':pd.date_range('2025-01-01',periods=5,freq='D'),'Value':[100,200,300,400,500]}\n",
    "df = pd.DataFrame(data)\n",
    "# set date as index.\n",
    "df.set_index('Date',inplace = True)\n",
    "df"
   ]
  },
  {
   "cell_type": "markdown",
   "id": "0a5f7723",
   "metadata": {},
   "source": [
    "* Converting to different freq."
   ]
  },
  {
   "cell_type": "code",
   "execution_count": 71,
   "id": "72a9563b",
   "metadata": {},
   "outputs": [
    {
     "data": {
      "text/html": [
       "<div>\n",
       "<style scoped>\n",
       "    .dataframe tbody tr th:only-of-type {\n",
       "        vertical-align: middle;\n",
       "    }\n",
       "\n",
       "    .dataframe tbody tr th {\n",
       "        vertical-align: top;\n",
       "    }\n",
       "\n",
       "    .dataframe thead th {\n",
       "        text-align: right;\n",
       "    }\n",
       "</style>\n",
       "<table border=\"1\" class=\"dataframe\">\n",
       "  <thead>\n",
       "    <tr style=\"text-align: right;\">\n",
       "      <th></th>\n",
       "      <th>Value</th>\n",
       "    </tr>\n",
       "    <tr>\n",
       "      <th>Date</th>\n",
       "      <th></th>\n",
       "    </tr>\n",
       "  </thead>\n",
       "  <tbody>\n",
       "    <tr>\n",
       "      <th>2025-01-05</th>\n",
       "      <td>1500</td>\n",
       "    </tr>\n",
       "  </tbody>\n",
       "</table>\n",
       "</div>"
      ],
      "text/plain": [
       "            Value\n",
       "Date             \n",
       "2025-01-05   1500"
      ]
     },
     "execution_count": 71,
     "metadata": {},
     "output_type": "execute_result"
    }
   ],
   "source": [
    "df.resample('W').agg('sum')  # resample the data to a dofferent freq(eg.'D' for daily,'M' for monthly.)"
   ]
  },
  {
   "cell_type": "markdown",
   "id": "50142cbb",
   "metadata": {},
   "source": [
    "# Visualization "
   ]
  },
  {
   "cell_type": "markdown",
   "id": "b9387657",
   "metadata": {},
   "source": [
    "Pandas offers simple and quick plotting methods directly through the plot() function on DataFrame and series. Here's a summary of the type of plots you can create using pandas visualization."
   ]
  },
  {
   "cell_type": "markdown",
   "id": "12fd7fd8",
   "metadata": {},
   "source": [
    "* Line plot  \n",
    "  \n",
    "  A line plot is a default plot and is useful for showing trends over time or continuous data."
   ]
  },
  {
   "cell_type": "code",
   "execution_count": 86,
   "id": "12120777",
   "metadata": {},
   "outputs": [
    {
     "data": {
      "text/plain": [
       "<Axes: title={'center': 'Sales over time'}, xlabel='Date'>"
      ]
     },
     "execution_count": 86,
     "metadata": {},
     "output_type": "execute_result"
    },
    {
     "data": {
      "image/png": "[encoded data removed]",
      "text/plain": [
       "<Figure size 640x480 with 1 Axes>"
      ]
     },
     "metadata": {},
     "output_type": "display_data"
    }
   ],
   "source": [
    "data = {'Date':pd.date_range('2025-01-01',periods = 6,freq = 'D'),'Sales':[100,130,500,560,800,650]}\n",
    "\n",
    "df = pd.DataFrame(data)\n",
    "\n",
    "df.plot(x='Date', y='Sales',kind='line',title='Sales over time')"
   ]
  },
  {
   "cell_type": "markdown",
   "id": "538991ce",
   "metadata": {},
   "source": [
    "* Bar plot  \n",
    "\n",
    "  For comparing quantities between different categories , a bar plot is ideal."
   ]
  },
  {
   "cell_type": "code",
   "execution_count": 87,
   "id": "1a0b4d32",
   "metadata": {},
   "outputs": [
    {
     "data": {
      "text/plain": [
       "<Axes: title={'center': 'comparison'}, xlabel='Date'>"
      ]
     },
     "execution_count": 87,
     "metadata": {},
     "output_type": "execute_result"
    },
    {
     "data": {
      "image/png": "[encoded data removed]",
      "text/plain": [
       "<Figure size 640x480 with 1 Axes>"
      ]
     },
     "metadata": {},
     "output_type": "display_data"
    }
   ],
   "source": [
    "data = {'Date':pd.date_range('2025-01-01',periods = 6,freq = 'D'),'Sales':[100,130,500,560,800,650]}\n",
    "\n",
    "df = pd.DataFrame(data)\n",
    "\n",
    "df.plot(x='Date', y='Sales',kind='bar',title='comparison')"
   ]
  },
  {
   "cell_type": "markdown",
   "id": "fb48e5fa",
   "metadata": {},
   "source": [
    "* Histogram  \n",
    "\n",
    "  Histogram are used to visualize a distribution of a numerical column."
   ]
  },
  {
   "cell_type": "code",
   "execution_count": 91,
   "id": "0d4ee4e5",
   "metadata": {},
   "outputs": [
    {
     "data": {
      "text/plain": [
       "<Axes: title={'center': 'Age Distribution'}, ylabel='Frequency'>"
      ]
     },
     "execution_count": 91,
     "metadata": {},
     "output_type": "execute_result"
    },
    {
     "data": {
      "image/png": "[encoded data removed]",
      "text/plain": [
       "<Figure size 640x480 with 1 Axes>"
      ]
     },
     "metadata": {},
     "output_type": "display_data"
    }
   ],
   "source": [
    "data = {'Age':[22,23,34,24,27,43,45,38,28,25,22]}\n",
    "df = pd.DataFrame(data)\n",
    "df.plot(kind=\"hist\", y='Age', bins=5,title='Age Distribution')"
   ]
  },
  {
   "cell_type": "code",
   "execution_count": null,
   "id": "329ab4b5",
   "metadata": {},
   "outputs": [],
   "source": []
  }
 ],
 "metadata": {
  "kernelspec": {
   "display_name": "Python 3 (ipykernel)",
   "language": "python",
   "name": "python3"
  },
  "language_info": {
   "codemirror_mode": {
    "name": "ipython",
    "version": 3
   },
   "file_extension": ".py",
   "mimetype": "text/x-python",
   "name": "python",
   "nbconvert_exporter": "python",
   "pygments_lexer": "ipython3",
   "version": "3.11.3"
  }
 },
 "nbformat": 4,
 "nbformat_minor": 5
}

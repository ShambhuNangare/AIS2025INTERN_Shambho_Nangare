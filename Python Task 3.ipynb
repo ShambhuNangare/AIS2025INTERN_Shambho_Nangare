{
 "cells": [
  {
   "cell_type": "markdown",
   "id": "ce41cd90",
   "metadata": {},
   "source": [
    "# What is a function in Python?"
   ]
  },
  {
   "cell_type": "markdown",
   "id": "df37fd99",
   "metadata": {},
   "source": [
    "A function in Python is a block of code that only runs when it is called. You can pass data (known as parameters) into a function, and it may return data as a result. Functions help organize and reuse code, making it more modular and easier to maintain."
   ]
  },
  {
   "cell_type": "markdown",
   "id": "5d8bc243",
   "metadata": {},
   "source": [
    "# Defining a function using def"
   ]
  },
  {
   "cell_type": "markdown",
   "id": "127b3de0",
   "metadata": {},
   "source": [
    "In Python, we define a function using the def keyword, followed by the function name and parentheses. The function can optionally accept parameters inside the parentheses, and the function body starts after a colon : . The function body must be indented to show that it's part of the function."
   ]
  },
  {
   "cell_type": "markdown",
   "id": "302da2b6",
   "metadata": {},
   "source": [
    "# Summary of the def Keyword in Python"
   ]
  },
  {
   "cell_type": "markdown",
   "id": "9b5096a6",
   "metadata": {},
   "source": [
    "\n",
    "Purpose: Used to define a function.  \n",
    "Syntax: def function_name(parameters): followed by the indented body of the function.  \n",
    "Components:  \n",
    "def keyword  \n",
    "Function name  \n",
    "Parameters (optional)  \n",
    "Body of the function (indented)  \n",
    "return (optional)  \n",
    "Calling: A function is called by using its name and passing appropriate arguments.  \n",
    "Scope: Variables defined inside a function are local, and functions can access global variables if needed.  "
   ]
  },
  {
   "cell_type": "markdown",
   "id": "69d523f2",
   "metadata": {},
   "source": [
    "# 1. Python function to find the maximum of a given list:"
   ]
  },
  {
   "cell_type": "code",
   "execution_count": 5,
   "id": "48b093e6",
   "metadata": {},
   "outputs": [
    {
     "name": "stdout",
     "output_type": "stream",
     "text": [
      "8\n"
     ]
    }
   ],
   "source": [
    "def find_max(numbers):\n",
    "    # Return the maximum value from the list using the built-in max function\n",
    "    return max(numbers)\n",
    "numbers = [8, 2, 3, 0, 7]\n",
    "print(find_max(numbers))"
   ]
  },
  {
   "cell_type": "markdown",
   "id": "32c7afc3",
   "metadata": {},
   "source": [
    "# 2. Python function to sum all the numbers in a list:"
   ]
  },
  {
   "cell_type": "code",
   "execution_count": 7,
   "id": "e1eab700",
   "metadata": {},
   "outputs": [
    {
     "name": "stdout",
     "output_type": "stream",
     "text": [
      "20\n"
     ]
    }
   ],
   "source": [
    "def sum_numbers(numbers):\n",
    "    # Return the sum of all elements in the list using the built-in sum function\n",
    "    return sum(numbers)\n",
    "sample_list = [8, 2, 3, 0, 7]\n",
    "print(sum_numbers(sample_list)) "
   ]
  },
  {
   "cell_type": "markdown",
   "id": "2e3b9e06",
   "metadata": {},
   "source": [
    "# 3. Python function to return a list with distinct elements:"
   ]
  },
  {
   "cell_type": "code",
   "execution_count": 9,
   "id": "945618a2",
   "metadata": {},
   "outputs": [
    {
     "name": "stdout",
     "output_type": "stream",
     "text": [
      "[1, 2, 3, 4, 5]\n"
     ]
    }
   ],
   "source": [
    "def unique_elements(numbers):\n",
    "    # Use the set() function to remove duplicates, then convert it back to a list\n",
    "    return list(set(numbers))\n",
    "sample_list = [1, 2, 3, 3, 3, 3, 4, 5]\n",
    "print(unique_elements(sample_list))  "
   ]
  },
  {
   "cell_type": "markdown",
   "id": "2a8baea4",
   "metadata": {},
   "source": [
    "# 4. Python function to calculate the total number of combinations from a list:\n",
    "\n"
   ]
  },
  {
   "cell_type": "code",
   "execution_count": 11,
   "id": "056a261b",
   "metadata": {},
   "outputs": [
    {
     "name": "stdout",
     "output_type": "stream",
     "text": [
      "3\n"
     ]
    }
   ],
   "source": [
    "from itertools import combinations\n",
    "\n",
    "def total_combinations(items):\n",
    "    # Use the combinations function from itertools to get 2-combinations\n",
    "    # Convert it to a list and count how many combinations are possible\n",
    "    return len(list(combinations(items, 2)))  # 2-combinations\n",
    "sample_list = ['a', 'b', 'c']\n",
    "print(total_combinations(sample_list)) "
   ]
  },
  {
   "cell_type": "markdown",
   "id": "8065357c",
   "metadata": {},
   "source": [
    "# 5. Python function to calculate the total number of permutations from a list:"
   ]
  },
  {
   "cell_type": "code",
   "execution_count": 12,
   "id": "b61f48a2",
   "metadata": {},
   "outputs": [
    {
     "name": "stdout",
     "output_type": "stream",
     "text": [
      "6\n"
     ]
    }
   ],
   "source": [
    "from itertools import permutations\n",
    "\n",
    "def total_permutations(items):\n",
    "    # Use the permutations function from itertools to get 2-permutations\n",
    "    # Convert it to a list and count how many permutations are possible\n",
    "    return len(list(permutations(items, 2)))  # 2-permutations\n",
    "sample_list = ['a', 'b', 'c']\n",
    "print(total_permutations(sample_list))  "
   ]
  },
  {
   "cell_type": "markdown",
   "id": "7381d8e3",
   "metadata": {},
   "source": [
    "# 6. Python function to count vowels and consonants in a word:"
   ]
  },
  {
   "cell_type": "code",
   "execution_count": 13,
   "id": "0c2ed2bf",
   "metadata": {},
   "outputs": [
    {
     "name": "stdout",
     "output_type": "stream",
     "text": [
      "Count of vowel is = 3\n",
      "Count of consonant is = 7\n"
     ]
    }
   ],
   "source": [
    "def count_vowels_consonants(word):\n",
    "    vowels = \"aeiou\"  # Set of vowels\n",
    "    vowel_count = 0    # Initialize vowel count\n",
    "    consonant_count = 0  # Initialize consonant count\n",
    "    for char in word:\n",
    "        if char in vowels:  # Check if the character is a vowel\n",
    "            vowel_count += 1\n",
    "        elif char.isalpha():  # If it's an alphabet letter but not a vowel, it's a consonant\n",
    "            consonant_count += 1\n",
    "    # Return the counts for vowels and consonants\n",
    "    return vowel_count, consonant_count\n",
    "word = \"statistics\"\n",
    "vowels, consonants = count_vowels_consonants(word)\n",
    "print(f\"Count of vowel is = {vowels}\")  \n",
    "print(f\"Count of consonant is = {consonants}\")"
   ]
  },
  {
   "cell_type": "markdown",
   "id": "a1c87f7d",
   "metadata": {},
   "source": [
    "# 7. Python function to convert a lowercase word to uppercase:"
   ]
  },
  {
   "cell_type": "code",
   "execution_count": 14,
   "id": "385851d4",
   "metadata": {},
   "outputs": [
    {
     "name": "stdout",
     "output_type": "stream",
     "text": [
      "STATISTICS\n"
     ]
    }
   ],
   "source": [
    "def to_uppercase(word):    \n",
    "    return word.upper()  # Use the upper() method to convert all characters in the word to uppercase\n",
    "word = \"statistics\"\n",
    "print(to_uppercase(word))"
   ]
  },
  {
   "cell_type": "markdown",
   "id": "31255878",
   "metadata": {},
   "source": [
    "# 8. Python function to count uppercase and lowercase letters:"
   ]
  },
  {
   "cell_type": "code",
   "execution_count": 15,
   "id": "5d35791c",
   "metadata": {},
   "outputs": [
    {
     "name": "stdout",
     "output_type": "stream",
     "text": [
      "Upper case: 5\n",
      "Lower case: 5\n"
     ]
    }
   ],
   "source": [
    "def count_case_letters(word):\n",
    "    # Count the number of lowercase letters using list comprehension\n",
    "    lower_case = sum(1 for char in word if char.islower())\n",
    "    # Count the number of uppercase letters using list comprehension\n",
    "    upper_case = sum(1 for char in word if char.isupper())\n",
    "    # Return the counts for both\n",
    "    return upper_case, lower_case\n",
    "word = \"STatiStiCS\"\n",
    "upper, lower = count_case_letters(word)\n",
    "print(f\"Upper case: {upper}\")  \n",
    "print(f\"Lower case: {lower}\")  "
   ]
  },
  {
   "cell_type": "markdown",
   "id": "2e7633ae",
   "metadata": {},
   "source": [
    "List comprehension in Python is a concise way to create lists by applying an expression to each item in an iterable (like a list, range, or string). It's a more compact and readable alternative to traditional loops for generating lists."
   ]
  },
  {
   "cell_type": "code",
   "execution_count": null,
   "id": "1dfdf4c6",
   "metadata": {},
   "outputs": [],
   "source": []
  }
 ],
 "metadata": {
  "kernelspec": {
   "display_name": "Python 3 (ipykernel)",
   "language": "python",
   "name": "python3"
  },
  "language_info": {
   "codemirror_mode": {
    "name": "ipython",
    "version": 3
   },
   "file_extension": ".py",
   "mimetype": "text/x-python",
   "name": "python",
   "nbconvert_exporter": "python",
   "pygments_lexer": "ipython3",
   "version": "3.11.3"
  }
 },
 "nbformat": 4,
 "nbformat_minor": 5
}

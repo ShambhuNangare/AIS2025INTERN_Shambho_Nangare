{
 "cells": [
  {
   "cell_type": "markdown",
   "id": "ca40a5d0",
   "metadata": {},
   "source": [
    "# 1.Introduction to numpy"
   ]
  },
  {
   "cell_type": "markdown",
   "id": "b75618a1",
   "metadata": {},
   "source": [
    "What is NumPy?  \n",
    "Numpy stands for Numerical Python. It's a library that simplifies numerical and mathematical operations in python.  \n",
    "It provides a high-performance, multidimensional array object (ndarray) and tools for working with these arrays.  \n",
    "Numpy is efficient because it uses vectorized operations, reducing the need for loops in python code.  "
   ]
  },
  {
   "cell_type": "markdown",
   "id": "9670cbbf",
   "metadata": {},
   "source": [
    "Why is NumPy important?  \n",
    "Essential for machine learning, data science, and scientific computing because of it's speed and simplicity.  \n",
    "Many popular libraries like pandas, TensorFlow. and Pytorch are build on top of NumPy."
   ]
  },
  {
   "cell_type": "markdown",
   "id": "cb6f61ee",
   "metadata": {},
   "source": [
    "# Installation"
   ]
  },
  {
   "cell_type": "markdown",
   "id": "31e12efa",
   "metadata": {},
   "source": [
    "Install NumPy via pip:"
   ]
  },
  {
   "cell_type": "code",
   "execution_count": 5,
   "id": "14aa8764",
   "metadata": {},
   "outputs": [
    {
     "name": "stdout",
     "output_type": "stream",
     "text": [
      "Requirement already satisfied: numpy in c:\\programdata\\anaconda3\\lib\\site-packages (1.24.3)\n",
      "Note: you may need to restart the kernel to use updated packages.\n"
     ]
    }
   ],
   "source": [
    "pip install numpy"
   ]
  },
  {
   "cell_type": "markdown",
   "id": "58d4a36c",
   "metadata": {},
   "source": [
    "\n",
    "# 2.Array in NumPy"
   ]
  },
  {
   "cell_type": "markdown",
   "id": "8649ad32",
   "metadata": {},
   "source": [
    "ndarray overview:  \n",
    "\n",
    "The core object of NumPy is the N-dimensional array (ndarray), which allows you to store data of the same type.  \n",
    "\n",
    "These arrays are more efficient than python lists for numerical operations.  \n",
    "\n",
    "Homogeneous data (all elements are of the same type)."
   ]
  },
  {
   "cell_type": "markdown",
   "id": "fbf5803c",
   "metadata": {},
   "source": [
    "# Creating array"
   ]
  },
  {
   "cell_type": "markdown",
   "id": "6d01f98f",
   "metadata": {},
   "source": [
    "From list:"
   ]
  },
  {
   "cell_type": "code",
   "execution_count": 8,
   "id": "8dbb119f",
   "metadata": {},
   "outputs": [
    {
     "name": "stdout",
     "output_type": "stream",
     "text": [
      "[1 2 3]\n"
     ]
    }
   ],
   "source": [
    "# import numpy as np\n",
    "import numpy as np\n",
    "arr = np.array([1,2,3])\n",
    "print(arr)"
   ]
  },
  {
   "cell_type": "markdown",
   "id": "516c6a44",
   "metadata": {},
   "source": [
    "Zeros and Ones"
   ]
  },
  {
   "cell_type": "code",
   "execution_count": 9,
   "id": "6182897f",
   "metadata": {},
   "outputs": [
    {
     "data": {
      "text/plain": [
       "array([[0., 0., 0.],\n",
       "       [0., 0., 0.],\n",
       "       [0., 0., 0.]])"
      ]
     },
     "execution_count": 9,
     "metadata": {},
     "output_type": "execute_result"
    }
   ],
   "source": [
    "np.zeros((3,3))  # creating a 3x3 matrix of zeros"
   ]
  },
  {
   "cell_type": "code",
   "execution_count": 11,
   "id": "bc33c124",
   "metadata": {},
   "outputs": [
    {
     "data": {
      "text/plain": [
       "array([[1., 1.],\n",
       "       [1., 1.]])"
      ]
     },
     "execution_count": 11,
     "metadata": {},
     "output_type": "execute_result"
    }
   ],
   "source": [
    "np.ones((2,2))  # Creating a 2x2 matrix of ones"
   ]
  },
  {
   "cell_type": "markdown",
   "id": "de23a354",
   "metadata": {},
   "source": [
    "Range-Based arrays:"
   ]
  },
  {
   "cell_type": "code",
   "execution_count": 12,
   "id": "52fb195e",
   "metadata": {},
   "outputs": [
    {
     "data": {
      "text/plain": [
       "array([0, 2, 4, 6, 8])"
      ]
     },
     "execution_count": 12,
     "metadata": {},
     "output_type": "execute_result"
    }
   ],
   "source": [
    "np.arange(0,10,2)  # Numbers from 0 to 10 with step 2"
   ]
  },
  {
   "cell_type": "code",
   "execution_count": 13,
   "id": "e3f27a28",
   "metadata": {},
   "outputs": [
    {
     "data": {
      "text/plain": [
       "array([0.  , 0.25, 0.5 , 0.75, 1.  ])"
      ]
     },
     "execution_count": 13,
     "metadata": {},
     "output_type": "execute_result"
    }
   ],
   "source": [
    "np.linspace(0,1,5)  # 5 evenly spaced numbers between 0 and 1"
   ]
  },
  {
   "cell_type": "markdown",
   "id": "b39174d7",
   "metadata": {},
   "source": [
    "# Array Indexing"
   ]
  },
  {
   "cell_type": "markdown",
   "id": "c8ad8a8d",
   "metadata": {},
   "source": [
    "Array indexing is the same as accessing an array element.  \n",
    "  \n",
    "You can access an array element by referring to its index number.  \n",
    "  \n",
    "The indexes in NumPy arrays start with 0, meaning that the first element has index 0, and the second has index 1 etc."
   ]
  },
  {
   "cell_type": "code",
   "execution_count": 15,
   "id": "08979ae9",
   "metadata": {},
   "outputs": [
    {
     "name": "stdout",
     "output_type": "stream",
     "text": [
      "[[1 2 3]\n",
      " [5 6 7]]\n"
     ]
    }
   ],
   "source": [
    "arr1 = np.array([[1,2,3],[5,6,7]])\n",
    "print(arr1)"
   ]
  },
  {
   "cell_type": "code",
   "execution_count": 29,
   "id": "035dbbec",
   "metadata": {},
   "outputs": [
    {
     "name": "stdout",
     "output_type": "stream",
     "text": [
      "3rd element on 2nd row is 7\n"
     ]
    }
   ],
   "source": [
    "print(f\"3rd element on 2nd row is {arr1[1,2]}\")  # Access element (row 1, column 2)"
   ]
  },
  {
   "cell_type": "code",
   "execution_count": 30,
   "id": "053b4c0c",
   "metadata": {},
   "outputs": [
    {
     "name": "stdout",
     "output_type": "stream",
     "text": [
      "The 4th element is 4\n"
     ]
    }
   ],
   "source": [
    "arr2 = np.array([1,2,3,4,5])\n",
    "print(f\"The 4th element is {arr2[3]}\")  # Get the fourth element"
   ]
  },
  {
   "cell_type": "markdown",
   "id": "f1c89eac",
   "metadata": {},
   "source": [
    "Negative indexing"
   ]
  },
  {
   "cell_type": "markdown",
   "id": "e482aeef",
   "metadata": {},
   "source": [
    "Use negative indexing to access an array from the end([-1])"
   ]
  },
  {
   "cell_type": "code",
   "execution_count": 35,
   "id": "6751f59a",
   "metadata": {},
   "outputs": [
    {
     "name": "stdout",
     "output_type": "stream",
     "text": [
      "Access last element from array 8\n"
     ]
    }
   ],
   "source": [
    "arr3 = np.array([1,2,3,4,5,8])\n",
    "print(f\"Access last element from array {arr3[-1]}\")"
   ]
  },
  {
   "cell_type": "markdown",
   "id": "55addb40",
   "metadata": {},
   "source": [
    "# Array Slicing"
   ]
  },
  {
   "cell_type": "markdown",
   "id": "5a0da70b",
   "metadata": {},
   "source": [
    "Slicing in python means taking element from one given index to another given index.  \n",
    "  \n",
    "We pass slice instead of index like this: [start:end]  \n",
    "\n",
    "We can also define the step like this: [start:end:step]  \n",
    "\n",
    "if we don't pass end it consider length of array in that dimension.  "
   ]
  },
  {
   "cell_type": "code",
   "execution_count": 36,
   "id": "1d7bfacb",
   "metadata": {},
   "outputs": [
    {
     "name": "stdout",
     "output_type": "stream",
     "text": [
      "[3 4 5 6 7]\n"
     ]
    }
   ],
   "source": [
    "# Slice element from index 2 to index 6 from following array:\n",
    "arr = np.array([1,2,3,4,5,6,7,8])\n",
    "print(arr[2:7])"
   ]
  },
  {
   "cell_type": "code",
   "execution_count": 40,
   "id": "4862d097",
   "metadata": {},
   "outputs": [
    {
     "name": "stdout",
     "output_type": "stream",
     "text": [
      "[8 4 8]\n"
     ]
    }
   ],
   "source": [
    "# Slice element from negative index \n",
    "arr = np.array([4,3,6,8,4,8,5,9])\n",
    "print(arr[-5:-2])"
   ]
  },
  {
   "cell_type": "code",
   "execution_count": 41,
   "id": "3b45a79f",
   "metadata": {},
   "outputs": [
    {
     "name": "stdout",
     "output_type": "stream",
     "text": [
      "[4 6 4 5]\n"
     ]
    }
   ],
   "source": [
    "# Return every other element from entire array:\n",
    "print(arr[::2])"
   ]
  },
  {
   "cell_type": "code",
   "execution_count": 43,
   "id": "f061d54a",
   "metadata": {},
   "outputs": [
    {
     "name": "stdout",
     "output_type": "stream",
     "text": [
      "[ 9 10 11 12]\n"
     ]
    }
   ],
   "source": [
    "# Slicing 2D Arrays\n",
    "# From the second element, slice element from index 2 to index 5 (not encluded):\n",
    "arr = np.array([[1,2,3,4,5,6],[7,8,9,10,11,12]])\n",
    "print(arr[1,2:6])"
   ]
  },
  {
   "cell_type": "code",
   "execution_count": 45,
   "id": "cbe8b666",
   "metadata": {},
   "outputs": [
    {
     "name": "stdout",
     "output_type": "stream",
     "text": [
      "[1 2 3]\n"
     ]
    }
   ],
   "source": [
    "# From the first element, slice first 3 numbers\n",
    "print(arr[0,:3])"
   ]
  },
  {
   "cell_type": "code",
   "execution_count": 53,
   "id": "45d68bcb",
   "metadata": {},
   "outputs": [
    {
     "name": "stdout",
     "output_type": "stream",
     "text": [
      "[[ 3  4  5  6]\n",
      " [ 9 10 11 12]]\n"
     ]
    }
   ],
   "source": [
    "# Slice numbers from both elements\n",
    "print(arr[0:3,2:6])"
   ]
  },
  {
   "cell_type": "markdown",
   "id": "f50c66a2",
   "metadata": {},
   "source": [
    "# 3.Array Operations"
   ]
  },
  {
   "cell_type": "markdown",
   "id": "ba829d5d",
   "metadata": {},
   "source": [
    "Operations like addition, subtraction, multiplication, and division can be applied directly to arrays. These are called element-wise operations, as they happen for each element.  \n",
    "\n",
    "They make calculations faster and simpler bby removing the need for loops."
   ]
  },
  {
   "cell_type": "markdown",
   "id": "2591c520",
   "metadata": {},
   "source": [
    "NumPy performs element wise operaions on arrays:"
   ]
  },
  {
   "cell_type": "code",
   "execution_count": 21,
   "id": "59bd332b",
   "metadata": {},
   "outputs": [
    {
     "name": "stdout",
     "output_type": "stream",
     "text": [
      "Addition of two array is  [5 7 9]\n",
      "Subtraction of two array is  [-3 -3 -3]\n",
      "Multiplication of two array is  [ 4 10 18]\n",
      "Division of two array is  [0.25 0.4  0.5 ]\n"
     ]
    }
   ],
   "source": [
    "a = np.array([1,2,3])\n",
    "b = np.array([4,5,6])\n",
    "print(\"Addition of two array is \",a + b)  # Addition\n",
    "print(\"Subtraction of two array is \",a - b)  # Subtraction\n",
    "print(\"Multiplication of two array is \",a * b)  # Multiplication\n",
    "print(\"Division of two array is \",a/b)    # Division"
   ]
  },
  {
   "cell_type": "markdown",
   "id": "625cae9a",
   "metadata": {},
   "source": [
    "# Broadcasting:"
   ]
  },
  {
   "cell_type": "markdown",
   "id": "a3324092",
   "metadata": {},
   "source": [
    "Broadcasting lets you perform operations on arrays of different shapes. if shapes don't match, NumPy \"stretches\" one array so that the operation can happen."
   ]
  },
  {
   "cell_type": "code",
   "execution_count": 56,
   "id": "569b5992",
   "metadata": {},
   "outputs": [
    {
     "name": "stdout",
     "output_type": "stream",
     "text": [
      "[[11 22]\n",
      " [13 24]]\n"
     ]
    }
   ],
   "source": [
    "a = np.array([[1,2],[3,4]])\n",
    "b = np.array([10,20])\n",
    "print(a+b) # Broadcasting add the b to each row of the a"
   ]
  },
  {
   "cell_type": "markdown",
   "id": "6418a3ef",
   "metadata": {},
   "source": [
    "# 4.Array Shape and Reshape"
   ]
  },
  {
   "cell_type": "markdown",
   "id": "2db70ae9",
   "metadata": {},
   "source": [
    "# Shape"
   ]
  },
  {
   "cell_type": "markdown",
   "id": "137cc23f",
   "metadata": {},
   "source": [
    "The shape of an array is the number of elements in each dimension.  \n",
    "  \n",
    "* Get the shape of an array  \n",
    " NumPy arrays have an attribute called shape that returns a tuple with each index having the number of corresponding elements."
   ]
  },
  {
   "cell_type": "code",
   "execution_count": 61,
   "id": "a34935aa",
   "metadata": {},
   "outputs": [
    {
     "name": "stdout",
     "output_type": "stream",
     "text": [
      "(2, 3)\n"
     ]
    }
   ],
   "source": [
    "# print the shape of 3d array\n",
    "arr = np.array([[3,4,3],[5,6,3]])\n",
    "print(arr.shape)  # This array has 2 rows and 3 columns"
   ]
  },
  {
   "cell_type": "markdown",
   "id": "742d0bd9",
   "metadata": {},
   "source": [
    "# Reshape"
   ]
  },
  {
   "cell_type": "markdown",
   "id": "acb64e9b",
   "metadata": {},
   "source": [
    "Reshaping means changing the shape of an array.  \n",
    "\n",
    "The shape of an array is the number of elements in each dimension.  \n",
    "\n",
    "by reshaping we can add or remove dimensions or change number of elements in each dimension."
   ]
  },
  {
   "cell_type": "code",
   "execution_count": 65,
   "id": "713d32b8",
   "metadata": {},
   "outputs": [
    {
     "name": "stdout",
     "output_type": "stream",
     "text": [
      "[[1 2]\n",
      " [3 4]\n",
      " [5 6]\n",
      " [7 8]]\n",
      "Dimension of new array is 2\n"
     ]
    }
   ],
   "source": [
    "# Reshape from 1D to 2D\n",
    "arr = np.array([1,2,3,4,5,6,7,8])\n",
    "newarr = arr.reshape(4,2)\n",
    "print(newarr)\n",
    "print(f\"Dimension of new array is {newarr.ndim}\")"
   ]
  },
  {
   "cell_type": "code",
   "execution_count": 69,
   "id": "0fdc70f4",
   "metadata": {},
   "outputs": [
    {
     "name": "stdout",
     "output_type": "stream",
     "text": [
      "[[[ 1  2]\n",
      "  [ 3  4]]\n",
      "\n",
      " [[ 5  6]\n",
      "  [ 7  8]]\n",
      "\n",
      " [[ 9 10]\n",
      "  [11 12]]]\n",
      "Shape of new array is  (3, 2, 2)\n",
      "Dim of new array is  3\n"
     ]
    }
   ],
   "source": [
    "# Reshape from 1D to 3D\n",
    "arr = np.array([1,2,3,4,5,6,7,8,9,10,11,12])\n",
    "newarr = arr.reshape(3,2,2)\n",
    "print(newarr)\n",
    "print(\"Shape of new array is \",newarr.shape)\n",
    "print(\"Dim of new array is \",newarr.ndim)"
   ]
  },
  {
   "cell_type": "markdown",
   "id": "8bd2e80e",
   "metadata": {},
   "source": [
    "# 5.Array manipulation"
   ]
  },
  {
   "cell_type": "markdown",
   "id": "e00000d9",
   "metadata": {},
   "source": [
    "Array manipulation in python refers to techniques used to access, modify, reshape, combine, split, or analyze data stored in arrays. NumPy, a powerful library for numerical computaion, offers a variety of funcions and tools to make these operations easy and efficient."
   ]
  },
  {
   "cell_type": "markdown",
   "id": "0d387db0",
   "metadata": {},
   "source": [
    "Why is array manipulation important?  \n",
    "* Simplifies handling and transforming large datasets.  \n",
    "* Essential for reshaping arrays into formats suitable for machine learning models.  \n",
    "* Enables advanced options like filtering, stackind and broadcasting.  \n",
    "* optimized for performance, making it faster and more memory efficient than python lists."
   ]
  },
  {
   "cell_type": "markdown",
   "id": "5e37a7e9",
   "metadata": {},
   "source": [
    "Slicing array\n",
    "* To quickly access subsets of data without writing loops."
   ]
  },
  {
   "cell_type": "markdown",
   "id": "5854fc05",
   "metadata": {},
   "source": [
    "Indexing array\n",
    "* To access individual elements or specific sunsets of data."
   ]
  },
  {
   "cell_type": "markdown",
   "id": "db8571c3",
   "metadata": {},
   "source": [
    "Fancy indexing\n",
    "* Fancy indecing uses arrays of indices to access specific elements.  \n",
    "* We use fancy indexing to extract non-contiguous elements efficiently."
   ]
  },
  {
   "cell_type": "code",
   "execution_count": 78,
   "id": "f1c26bf3",
   "metadata": {},
   "outputs": [
    {
     "name": "stdout",
     "output_type": "stream",
     "text": [
      "[10 30 50]\n",
      "[[1 2]\n",
      " [3 4]\n",
      " [5 6]]\n",
      "[2 5]\n"
     ]
    }
   ],
   "source": [
    "arr  = np.array([10,20,30,40,50])\n",
    "indices = [0,2,4]\n",
    "print(arr[indices])  # Extract the elements at specific indices\n",
    "\n",
    "# Now by using fancy indices in 2D array \n",
    "matrix = np.array([[1,2],[3,4],[5,6]])\n",
    "print(matrix)\n",
    "print(matrix[[0,2],[1,0]])  # Select the elements at (0,1) 0th row and 1st column which is 2 and (2,0) 2nd row and 0th column which is 5"
   ]
  },
  {
   "cell_type": "markdown",
   "id": "41f8d958",
   "metadata": {},
   "source": [
    "Masking (Logical indexing)\n",
    "* Masking creates a Boolean conndition to filter elements from an array.\n",
    "* We use masking to ectract elements that satisfy a particular condition."
   ]
  },
  {
   "cell_type": "code",
   "execution_count": 79,
   "id": "36679631",
   "metadata": {},
   "outputs": [
    {
     "name": "stdout",
     "output_type": "stream",
     "text": [
      "[False  True  True  True  True False False]\n"
     ]
    }
   ],
   "source": [
    "arr = np.array([12,43,76,86,96,4,6])\n",
    "\n",
    "# Create mask for elements greater than 30\n",
    "mask = arr > 30\n",
    "print(mask) "
   ]
  },
  {
   "cell_type": "markdown",
   "id": "24ce36b7",
   "metadata": {},
   "source": [
    "Explanation : A boolean array is created indicating which elements satisfy the condition."
   ]
  },
  {
   "cell_type": "code",
   "execution_count": 80,
   "id": "50c6f780",
   "metadata": {},
   "outputs": [
    {
     "name": "stdout",
     "output_type": "stream",
     "text": [
      "[43 76 86 96]\n"
     ]
    }
   ],
   "source": [
    "print(arr[mask])"
   ]
  },
  {
   "cell_type": "markdown",
   "id": "f4c7b02e",
   "metadata": {},
   "source": [
    "Explanation :  Filter the array to include only elements greater than 30."
   ]
  },
  {
   "cell_type": "markdown",
   "id": "6ed0e1bb",
   "metadata": {},
   "source": [
    "Reshaping array\n",
    "* Reshaping changes the structure (shape) of an array without altering the data.\n",
    "* It is used to prepare data for algorithms or change its dimensionality for compatibility."
   ]
  },
  {
   "cell_type": "markdown",
   "id": "a08339e5",
   "metadata": {},
   "source": [
    "# 6. Mathematical Functions in NumPy"
   ]
  },
  {
   "cell_type": "markdown",
   "id": "d4dcbb2a",
   "metadata": {},
   "source": [
    "NumPy provides a rich set of mathematical functions that help in performing various operations on arrays. These are primarily of two types:  \n",
    "\n",
    "* Universal functions (ufuncs): These are element-wise functions that operate on arrays. They are optimized to work efficiently with NumPy arrays, providing vectorized operations without the need for explicit loops.  \n",
    "\n",
    "* Statistical functions: These functions help analyze data by calculating various statistics (mean, median, variance, etc.) from arrays.  \n",
    "\n",
    "* Linear Algebra Functions: These are used to perform operations specific to linear algebra such as matrix multiplication, inverse, eigenvalues, etc.  "
   ]
  },
  {
   "cell_type": "markdown",
   "id": "8cd8384d",
   "metadata": {},
   "source": [
    "Universal Functions (ufuncs)  \n",
    "\n",
    "Ufuncs are functions that perform element-wise operations. Some commonly used ufuncs include:  \n",
    "\n",
    "* np.add(), np.subtract(), np.multiply(), np.divide(): These functions perform element-wise addition, subtraction, multiplication, and division, respectively.\n",
    "* Other functions: np.sqrt(), np.sin(), np.exp(), etc., are used for more specific operations like square root, sine, and exponential operations."
   ]
  },
  {
   "cell_type": "code",
   "execution_count": 83,
   "id": "18fb6df5",
   "metadata": {},
   "outputs": [
    {
     "name": "stdout",
     "output_type": "stream",
     "text": [
      "Addition  [5 7 9]\n",
      "Subtraction  [-3 -3 -3]\n",
      "multiplication  [ 4 10 18]\n",
      "Division  [0.25 0.4  0.5 ]\n",
      "Square root  [2. 3. 4.]\n"
     ]
    }
   ],
   "source": [
    "# Element-wise addition\n",
    "a = np.array([1, 2, 3])\n",
    "b = np.array([4, 5, 6])\n",
    "add = np.add(a, b)\n",
    "sub = np.subtract(a,b)\n",
    "mul = np.multiply(a,b)\n",
    "div = np.divide(a,b)\n",
    "print(\"Addition \",add)\n",
    "print(\"Subtraction \",sub)\n",
    "print(\"multiplication \",mul)\n",
    "print(\"Division \",div)\n",
    "\n",
    "# Element-wise square root\n",
    "arr = np.array([4, 9, 16])\n",
    "sqrt_result = np.sqrt(arr)\n",
    "print(\"Square root \",sqrt_result) "
   ]
  },
  {
   "cell_type": "markdown",
   "id": "ddfb7566",
   "metadata": {},
   "source": [
    "Statistical Functions  \n",
    "\n",
    "NumPy provides a suite of statistical functions to compute common statistics:\n",
    "* np.mean(): Compute the average of elements.\n",
    "* np.median(): Compute the median of elements.\n",
    "* np.std(): Compute the standard deviation of elements.\n",
    "* np.var(): Compute the variance of elements.\n",
    "* np.min() and np.max(): Compute the minimum and maximum values, respectively."
   ]
  },
  {
   "cell_type": "code",
   "execution_count": 88,
   "id": "54bd395f",
   "metadata": {},
   "outputs": [
    {
     "name": "stdout",
     "output_type": "stream",
     "text": [
      "Mean: 3.0\n",
      "Median: 3.0\n",
      "Standard Deviation: 1.4142135623730951\n",
      "Variance: 2.0\n",
      "Minimum: 1\n",
      "Maximum: 5\n"
     ]
    }
   ],
   "source": [
    "data = np.array([1, 2, 3, 4, 5])\n",
    "\n",
    "# Mean\n",
    "mean_val = np.mean(data)\n",
    "print(f\"Mean: {mean_val}\")  \n",
    "\n",
    "# Median\n",
    "median = np.median(data)\n",
    "print(f\"Median: {median}\")\n",
    "\n",
    "# Standard Deviation\n",
    "std_val = np.std(data)\n",
    "print(f\"Standard Deviation: {std_val}\")  \n",
    "\n",
    "# Variance\n",
    "var = np.var(data)\n",
    "print(f\"Variance: {var}\")\n",
    "\n",
    "# Minimum\n",
    "min = np.min(data)\n",
    "print(f\"Minimum: {min}\")\n",
    "\n",
    "# Maximum\n",
    "max = np.max(data)\n",
    "print(f\"Maximum: {max}\")"
   ]
  },
  {
   "cell_type": "markdown",
   "id": "7a21a4aa",
   "metadata": {},
   "source": [
    "Linear Algebra Functions  \n",
    "\n",
    "NumPy also provides a set of functions specific to linear algebra, such as:  \n",
    "* np.dot(): Matrix multiplication or dot product of two arrays.\n",
    "* np.linalg.inv(): Computes the inverse of a matrix.\n",
    "* np.linalg.eig(): Computes the eigenvalues and eigenvectors of a matrix."
   ]
  },
  {
   "cell_type": "code",
   "execution_count": 90,
   "id": "74272c69",
   "metadata": {},
   "outputs": [
    {
     "name": "stdout",
     "output_type": "stream",
     "text": [
      "[[19 22]\n",
      " [43 50]]\n",
      "[[-2.   1. ]\n",
      " [ 1.5 -0.5]]\n"
     ]
    }
   ],
   "source": [
    "# Matrix multiplication (dot product)\n",
    "A = np.array([[1, 2], [3, 4]])\n",
    "B = np.array([[5, 6], [7, 8]])\n",
    "result = np.dot(A, B)\n",
    "print(result)  \n",
    "\n",
    "# Inverse of a matrix\n",
    "matrix = np.array([[1, 2], [3, 4]])\n",
    "inverse = np.linalg.inv(matrix)\n",
    "print(inverse)  "
   ]
  },
  {
   "cell_type": "markdown",
   "id": "5dca9823",
   "metadata": {},
   "source": [
    "# 7. Random Number Generation in NumPy"
   ]
  },
  {
   "cell_type": "markdown",
   "id": "4d67d982",
   "metadata": {},
   "source": [
    "NumPy provides functionality for generating random numbers and performing various random operations, which is crucial for tasks such as Monte Carlo simulations, random sampling, or initializing machine learning model parameters.  \n",
    "\n",
    "Key Functions:  \n",
    "* np.random.rand(): Generates random numbers from a uniform distribution in the range [0, 1].\n",
    "* np.random.randint(): Generates random integers within a specified range.\n",
    "* np.random.randn(): Generates random numbers from a standard normal distribution.\n",
    "* np.random.seed(): Sets the seed for random number generation to ensure reproducibility."
   ]
  },
  {
   "cell_type": "code",
   "execution_count": 91,
   "id": "cb28efd5",
   "metadata": {},
   "outputs": [
    {
     "name": "stdout",
     "output_type": "stream",
     "text": [
      "[0.72394861 0.59770188 0.86929118 0.42084416 0.41691031]\n",
      "[30 43 47 32 41]\n",
      "[0.37454012 0.95071431 0.73199394]\n"
     ]
    }
   ],
   "source": [
    "import numpy as np\n",
    "\n",
    "# Generate 5 random floats between 0 and 1\n",
    "rand_floats = np.random.rand(5)\n",
    "print(rand_floats)\n",
    "\n",
    "# Generate 5 random integers between 10 and 50\n",
    "rand_ints = np.random.randint(10, 50, 5)\n",
    "print(rand_ints)\n",
    "\n",
    "# Set seed for reproducibility\n",
    "np.random.seed(42)\n",
    "rand_vals_with_seed = np.random.rand(3)\n",
    "print(rand_vals_with_seed)"
   ]
  },
  {
   "cell_type": "markdown",
   "id": "335ce1c0",
   "metadata": {},
   "source": [
    "Random Sampling, Shuffling, and Permutations:\n",
    "* np.random.shuffle(): Randomly shuffles the elements of an array.\n",
    "* np.random.permutation(): Randomly permutes a sequence or returns a permuted copy of an array."
   ]
  },
  {
   "cell_type": "code",
   "execution_count": 93,
   "id": "f2064c9a",
   "metadata": {},
   "outputs": [
    {
     "name": "stdout",
     "output_type": "stream",
     "text": [
      "[4 2 3 1 5]\n",
      "[2 1 4 5 3]\n"
     ]
    }
   ],
   "source": [
    "# Shuffling an array\n",
    "arr = np.array([1, 2, 3, 4, 5])\n",
    "np.random.shuffle(arr)\n",
    "print(arr) \n",
    "\n",
    "# Permuting a sequence\n",
    "arr_permutation = np.random.permutation([1, 2, 3, 4, 5])\n",
    "print(arr_permutation) \n"
   ]
  },
  {
   "cell_type": "markdown",
   "id": "20f368c3",
   "metadata": {},
   "source": [
    "# 8. Broadcasting in NumPy"
   ]
  },
  {
   "cell_type": "markdown",
   "id": "9ec51d74",
   "metadata": {},
   "source": [
    "What is Broadcasting? Broadcasting in NumPy refers to the ability to perform operations on arrays of different shapes. NumPy applies broadcasting rules to automatically expand the smaller array to match the shape of the larger one without making a copy of the data. This leads to more efficient memory usage and computation.  \n",
    "\n",
    "How Broadcasting Works:  \n",
    "When performing an operation between two arrays with different shapes, NumPy compares their shapes element by element. The smaller array is \"broadcast\" to match the larger array's shape, provided that the arrays meet certain conditions.  \n",
    "\n"
   ]
  },
  {
   "cell_type": "markdown",
   "id": "e13508e7",
   "metadata": {},
   "source": [
    "Broadcasting Rules:\n",
    "* If the arrays have different ranks, the shape of the smaller array is padded with ones on the left side until both arrays have the same rank.\n",
    "* The two arrays are compatible if in all dimensions, the size of one of the arrays is either 1 or equal to the size of the other array.\n",
    "* If these conditions are not met, NumPy will raise a ValueError."
   ]
  },
  {
   "cell_type": "code",
   "execution_count": 94,
   "id": "d6b72ced",
   "metadata": {},
   "outputs": [
    {
     "name": "stdout",
     "output_type": "stream",
     "text": [
      "[[11 21 31 41]\n",
      " [12 22 32 42]\n",
      " [13 23 33 43]]\n"
     ]
    }
   ],
   "source": [
    "# Array with shape (3, 1)\n",
    "A = np.array([[1], [2], [3]])\n",
    "\n",
    "# Array with shape (1, 4)\n",
    "B = np.array([10, 20, 30, 40])\n",
    "\n",
    "# Broadcasting A and B together\n",
    "result = A + B\n",
    "print(result)"
   ]
  },
  {
   "cell_type": "markdown",
   "id": "1819a081",
   "metadata": {},
   "source": [
    "In this case, the smaller array B is broadcasted across the rows of A, and the element-wise addition is performed between each corresponding element."
   ]
  },
  {
   "cell_type": "code",
   "execution_count": 95,
   "id": "0d713afa",
   "metadata": {},
   "outputs": [
    {
     "ename": "ValueError",
     "evalue": "operands could not be broadcast together with shapes (3,2) (2,2) ",
     "output_type": "error",
     "traceback": [
      "\u001b[1;31m---------------------------------------------------------------------------\u001b[0m",
      "\u001b[1;31mValueError\u001b[0m                                Traceback (most recent call last)",
      "Cell \u001b[1;32mIn[95], line 8\u001b[0m\n\u001b[0;32m      5\u001b[0m B \u001b[38;5;241m=\u001b[39m np\u001b[38;5;241m.\u001b[39marray([[\u001b[38;5;241m1\u001b[39m, \u001b[38;5;241m1\u001b[39m], [\u001b[38;5;241m2\u001b[39m, \u001b[38;5;241m2\u001b[39m]])\n\u001b[0;32m      7\u001b[0m \u001b[38;5;66;03m# This will raise a ValueError because the shapes are not compatible for broadcasting\u001b[39;00m\n\u001b[1;32m----> 8\u001b[0m result \u001b[38;5;241m=\u001b[39m A \u001b[38;5;241m+\u001b[39m B\n",
      "\u001b[1;31mValueError\u001b[0m: operands could not be broadcast together with shapes (3,2) (2,2) "
     ]
    }
   ],
   "source": [
    "# Array with shape (3, 2)\n",
    "A = np.array([[1, 2], [3, 4], [5, 6]])\n",
    "\n",
    "# Array with shape (2, 2)\n",
    "B = np.array([[1, 1], [2, 2]])\n",
    "\n",
    "# This will raise a ValueError because the shapes are not compatible for broadcasting\n",
    "result = A + B\n"
   ]
  },
  {
   "cell_type": "code",
   "execution_count": null,
   "id": "dd6851de",
   "metadata": {},
   "outputs": [],
   "source": []
  }
 ],
 "metadata": {
  "kernelspec": {
   "display_name": "Python 3 (ipykernel)",
   "language": "python",
   "name": "python3"
  },
  "language_info": {
   "codemirror_mode": {
    "name": "ipython",
    "version": 3
   },
   "file_extension": ".py",
   "mimetype": "text/x-python",
   "name": "python",
   "nbconvert_exporter": "python",
   "pygments_lexer": "ipython3",
   "version": "3.11.3"
  }
 },
 "nbformat": 4,
 "nbformat_minor": 5
}
